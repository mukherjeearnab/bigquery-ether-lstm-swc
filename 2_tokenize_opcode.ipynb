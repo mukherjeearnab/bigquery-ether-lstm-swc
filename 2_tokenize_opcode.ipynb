{
 "cells": [
  {
   "cell_type": "markdown",
   "metadata": {},
   "source": [
    "## Import Cleaned OPCODES"
   ]
  },
  {
   "cell_type": "code",
   "execution_count": 3,
   "metadata": {},
   "outputs": [
    {
     "data": {
      "text/html": [
       "<div>\n",
       "<style scoped>\n",
       "    .dataframe tbody tr th:only-of-type {\n",
       "        vertical-align: middle;\n",
       "    }\n",
       "\n",
       "    .dataframe tbody tr th {\n",
       "        vertical-align: top;\n",
       "    }\n",
       "\n",
       "    .dataframe thead th {\n",
       "        text-align: right;\n",
       "    }\n",
       "</style>\n",
       "<table border=\"1\" class=\"dataframe\">\n",
       "  <thead>\n",
       "    <tr style=\"text-align: right;\">\n",
       "      <th></th>\n",
       "      <th>_id</th>\n",
       "      <th>address</th>\n",
       "      <th>opcode</th>\n",
       "      <th>swc_label</th>\n",
       "    </tr>\n",
       "  </thead>\n",
       "  <tbody>\n",
       "    <tr>\n",
       "      <th>0</th>\n",
       "      <td>240000</td>\n",
       "      <td>0x8da4feb3dd3643943c614ca793e8f59baae50544</td>\n",
       "      <td>PUSH1 PUSH1 MSTORE PUSH1 CALLDATASIZE LT PUSH2...</td>\n",
       "      <td>0000000000000000000000000000000000000</td>\n",
       "    </tr>\n",
       "    <tr>\n",
       "      <th>1</th>\n",
       "      <td>240001</td>\n",
       "      <td>0xe1521029d2591ba2a0f92b6e744a825f665f748b</td>\n",
       "      <td>PUSH1 PUSH1 MSTORE PUSH1 CALLDATASIZE LT PUSH2...</td>\n",
       "      <td>0000000000000000000000000000000000000</td>\n",
       "    </tr>\n",
       "    <tr>\n",
       "      <th>2</th>\n",
       "      <td>240002</td>\n",
       "      <td>0xe378696ce7ad55cfacc40337f476faf8fba9aff2</td>\n",
       "      <td>PUSH1 PUSH1 MSTORE PUSH1 CALLDATASIZE LT PUSH2...</td>\n",
       "      <td>0000000000000000000000000000000000000</td>\n",
       "    </tr>\n",
       "    <tr>\n",
       "      <th>3</th>\n",
       "      <td>240003</td>\n",
       "      <td>0x1872b33bb33e372d6f039a8b6af2e1be228bda23</td>\n",
       "      <td>PUSH1 PUSH1 MSTORE CALLDATASIZE ISZERO PUSH2 J...</td>\n",
       "      <td>0000000000100000000000000000000000000</td>\n",
       "    </tr>\n",
       "    <tr>\n",
       "      <th>4</th>\n",
       "      <td>240004</td>\n",
       "      <td>0x6ef34258c0c8ae7acc688311189dfc783ebb5bfa</td>\n",
       "      <td>ORIGIN PUSH20 EQ ISZERO ADDRESS JUMPI PUSH20 S...</td>\n",
       "      <td>0000000000000001000000000000000000000</td>\n",
       "    </tr>\n",
       "    <tr>\n",
       "      <th>...</th>\n",
       "      <td>...</td>\n",
       "      <td>...</td>\n",
       "      <td>...</td>\n",
       "      <td>...</td>\n",
       "    </tr>\n",
       "    <tr>\n",
       "      <th>19995</th>\n",
       "      <td>230127</td>\n",
       "      <td>0xee623e3a60d4f67c6490749bc8714a4554caec2a</td>\n",
       "      <td>ORIGIN PUSH20 EQ ISZERO ADDRESS JUMPI PUSH20 S...</td>\n",
       "      <td>0000000000000001000000000000000000000</td>\n",
       "    </tr>\n",
       "    <tr>\n",
       "      <th>19996</th>\n",
       "      <td>230128</td>\n",
       "      <td>0x2835e490c49f715e0644db9f4682bdf66a1e0901</td>\n",
       "      <td>PUSH1 PUSH1 MSTORE PUSH1 CALLDATASIZE LT PUSH2...</td>\n",
       "      <td>0000000000000000000000000000000000000</td>\n",
       "    </tr>\n",
       "    <tr>\n",
       "      <th>19997</th>\n",
       "      <td>230129</td>\n",
       "      <td>0xef5173286ed4eb1be6a3b517629cd38b48e6ca4e</td>\n",
       "      <td>PUSH1 PUSH1 MSTORE CALLDATASIZE ISZERO PUSH1 J...</td>\n",
       "      <td>0000100000000100000000000000000000000</td>\n",
       "    </tr>\n",
       "    <tr>\n",
       "      <th>19998</th>\n",
       "      <td>230130</td>\n",
       "      <td>0xe7f74f8e45cbe8ba091b4bffca5cda624b505f1f</td>\n",
       "      <td>PUSH1 PUSH1 MSTORE PUSH1 CALLDATASIZE LT PUSH2...</td>\n",
       "      <td>0000000000000000000000000000000000000</td>\n",
       "    </tr>\n",
       "    <tr>\n",
       "      <th>19999</th>\n",
       "      <td>230131</td>\n",
       "      <td>0x54471c7deefda785000b1a3d3e438f205faebe11</td>\n",
       "      <td>ORIGIN PUSH20 EQ ISZERO ADDRESS JUMPI PUSH20 S...</td>\n",
       "      <td>0000000000000001000000000000000000000</td>\n",
       "    </tr>\n",
       "  </tbody>\n",
       "</table>\n",
       "<p>20000 rows × 4 columns</p>\n",
       "</div>"
      ],
      "text/plain": [
       "          _id                                     address  \\\n",
       "0      240000  0x8da4feb3dd3643943c614ca793e8f59baae50544   \n",
       "1      240001  0xe1521029d2591ba2a0f92b6e744a825f665f748b   \n",
       "2      240002  0xe378696ce7ad55cfacc40337f476faf8fba9aff2   \n",
       "3      240003  0x1872b33bb33e372d6f039a8b6af2e1be228bda23   \n",
       "4      240004  0x6ef34258c0c8ae7acc688311189dfc783ebb5bfa   \n",
       "...       ...                                         ...   \n",
       "19995  230127  0xee623e3a60d4f67c6490749bc8714a4554caec2a   \n",
       "19996  230128  0x2835e490c49f715e0644db9f4682bdf66a1e0901   \n",
       "19997  230129  0xef5173286ed4eb1be6a3b517629cd38b48e6ca4e   \n",
       "19998  230130  0xe7f74f8e45cbe8ba091b4bffca5cda624b505f1f   \n",
       "19999  230131  0x54471c7deefda785000b1a3d3e438f205faebe11   \n",
       "\n",
       "                                                  opcode  \\\n",
       "0      PUSH1 PUSH1 MSTORE PUSH1 CALLDATASIZE LT PUSH2...   \n",
       "1      PUSH1 PUSH1 MSTORE PUSH1 CALLDATASIZE LT PUSH2...   \n",
       "2      PUSH1 PUSH1 MSTORE PUSH1 CALLDATASIZE LT PUSH2...   \n",
       "3      PUSH1 PUSH1 MSTORE CALLDATASIZE ISZERO PUSH2 J...   \n",
       "4      ORIGIN PUSH20 EQ ISZERO ADDRESS JUMPI PUSH20 S...   \n",
       "...                                                  ...   \n",
       "19995  ORIGIN PUSH20 EQ ISZERO ADDRESS JUMPI PUSH20 S...   \n",
       "19996  PUSH1 PUSH1 MSTORE PUSH1 CALLDATASIZE LT PUSH2...   \n",
       "19997  PUSH1 PUSH1 MSTORE CALLDATASIZE ISZERO PUSH1 J...   \n",
       "19998  PUSH1 PUSH1 MSTORE PUSH1 CALLDATASIZE LT PUSH2...   \n",
       "19999  ORIGIN PUSH20 EQ ISZERO ADDRESS JUMPI PUSH20 S...   \n",
       "\n",
       "                                   swc_label  \n",
       "0      0000000000000000000000000000000000000  \n",
       "1      0000000000000000000000000000000000000  \n",
       "2      0000000000000000000000000000000000000  \n",
       "3      0000000000100000000000000000000000000  \n",
       "4      0000000000000001000000000000000000000  \n",
       "...                                      ...  \n",
       "19995  0000000000000001000000000000000000000  \n",
       "19996  0000000000000000000000000000000000000  \n",
       "19997  0000100000000100000000000000000000000  \n",
       "19998  0000000000000000000000000000000000000  \n",
       "19999  0000000000000001000000000000000000000  \n",
       "\n",
       "[20000 rows x 4 columns]"
      ]
     },
     "execution_count": 3,
     "metadata": {},
     "output_type": "execute_result"
    }
   ],
   "source": [
    "import pandas as pd\n",
    "\n",
    "opc = pd.read_csv('CDS_opcode_sv1.csv', dtype={'swc_label': object, 'opcode': object})\n",
    "\n",
    "opc"
   ]
  },
  {
   "cell_type": "markdown",
   "metadata": {},
   "source": [
    "## Tokenization"
   ]
  },
  {
   "cell_type": "markdown",
   "metadata": {},
   "source": [
    "### 1. Import Required Libraries"
   ]
  },
  {
   "cell_type": "code",
   "execution_count": 4,
   "metadata": {},
   "outputs": [],
   "source": [
    "from tensorflow.keras.preprocessing.text import Tokenizer\n",
    "from tensorflow.keras.preprocessing.sequence import pad_sequences"
   ]
  },
  {
   "cell_type": "markdown",
   "metadata": {},
   "source": [
    "### 2. Define Hyper-Parameters"
   ]
  },
  {
   "cell_type": "code",
   "execution_count": 5,
   "metadata": {},
   "outputs": [],
   "source": [
    "OPCODE_SIZE = 150\n",
    "OPCODE_SEQ_LEN = 1800\n",
    "TRUNC_TYPE = 'post'\n",
    "PADDING_TYPE = 'post'\n",
    "OOV_TOKEN = '<OOV>'"
   ]
  },
  {
   "cell_type": "markdown",
   "metadata": {},
   "source": [
    "### 3. Create Tokenizer Object"
   ]
  },
  {
   "cell_type": "code",
   "execution_count": 6,
   "metadata": {},
   "outputs": [],
   "source": [
    "tokenizer = Tokenizer(num_words = OPCODE_SIZE, oov_token=OOV_TOKEN)\n",
    "tokenizer.fit_on_texts(opc['opcode'])\n",
    "word_index = tokenizer.word_index"
   ]
  },
  {
   "cell_type": "code",
   "execution_count": 7,
   "metadata": {},
   "outputs": [
    {
     "data": {
      "text/plain": [
       "dict_items([('<OOV>', 1), ('push1', 2), ('swap1', 3), ('dup1', 4), ('push2', 5), ('pop', 6), ('dup2', 7), ('jumpdest', 8), ('add', 9), ('mstore', 10), ('and', 11), ('iszero', 12), ('jumpi', 13), ('swap2', 14), ('mload', 15), ('dup3', 16), ('jump', 17), ('sub', 18), ('dup4', 19), ('sload', 20), ('push20', 21), ('revert', 22), ('exp', 23), ('swap3', 24), ('push4', 25), ('eq', 26), ('sha3', 27), ('dup5', 28), ('mul', 29), ('calldataload', 30), ('callvalue', 31), ('div', 32), ('lt', 33), ('sstore', 34), ('dup6', 35), ('caller', 36), ('swap4', 37), ('assert', 38), ('fail', 39), ('return', 40), ('not', 41), ('push32', 42), ('dup7', 43), ('gt', 44), ('dup8', 45), ('returndatasize', 46), ('swap5', 47), ('stop', 48), ('dup9', 49), ('calldatasize', 50), ('extcodesize', 51), ('call', 52), ('or', 53), ('gas', 54), ('push3', 55), ('swap6', 56), ('shl', 57), ('invalid', 58), ('returndatacopy', 59), ('log3', 60), ('dup10', 61), ('push29', 62), ('swap7', 63), ('dup11', 64), ('codecopy', 65), ('address', 66), ('calldatacopy', 67), ('dup12', 68), ('push8', 69), ('swap8', 70), ('log1', 71), ('timestamp', 72), ('dup13', 73), ('swap9', 74), ('log2', 75), ('push5', 76), ('dup14', 77), ('swap10', 78), ('delegatecall', 79), ('balance', 80), ('staticcall', 81), ('dup15', 82), ('push21', 83), ('swap11', 84), ('push16', 85), ('swap12', 86), ('push6', 87), ('push9', 88), ('number', 89), ('slt', 90), ('push7', 91), ('mod', 92), ('dup16', 93), ('push13', 94), ('origin', 95), ('push10', 96), ('suicide', 97), ('codesize', 98), ('msize', 99), ('signextend', 100), ('shr', 101), ('log4', 102), ('byte', 103), ('push12', 104), ('swap13', 105), ('push31', 106), ('push28', 107), ('push22', 108), ('mstore8', 109), ('mulmod', 110), ('push19', 111), ('push11', 112), ('swap15', 113), ('push15', 114), ('gasprice', 115), ('swap14', 116), ('create2', 117), ('addmod', 118), ('gaslimit', 119), ('xor', 120), ('push24', 121), ('push17', 122), ('sdiv', 123), ('create', 124), ('push14', 125), ('sgt', 126), ('coinbase', 127), ('callcode', 128), ('blockhash', 129), ('push25', 130), ('push27', 131), ('push26', 132), ('push23', 133), ('difficulty', 134), ('push18', 135), ('push30', 136), ('pc', 137), ('swap16', 138), ('selfbalance', 139), ('smod', 140), ('extcodecopy', 141), ('chainid', 142), ('extcodehash', 143), ('sar', 144), ('log0', 145), ('returnsub', 146), ('jumpsub', 147), ('beginsub', 148)])"
      ]
     },
     "execution_count": 7,
     "metadata": {},
     "output_type": "execute_result"
    }
   ],
   "source": [
    "word_index.items()"
   ]
  },
  {
   "cell_type": "code",
   "execution_count": 8,
   "metadata": {},
   "outputs": [],
   "source": [
    "# Save Tokenizer as Pickle\n",
    "import pickle\n",
    "with open('tokenizer.pickle', 'wb') as fh:\n",
    "   pickle.dump(tokenizer, fh)"
   ]
  },
  {
   "cell_type": "markdown",
   "metadata": {},
   "source": [
    "### 4. Tokenize and Pad all OPCODES"
   ]
  },
  {
   "cell_type": "code",
   "execution_count": 9,
   "metadata": {},
   "outputs": [],
   "source": [
    "# Tokenize OPCODES\n",
    "tokenized_opcodes = tokenizer.texts_to_sequences(opc['opcode'])"
   ]
  },
  {
   "cell_type": "code",
   "execution_count": 10,
   "metadata": {},
   "outputs": [
    {
     "data": {
      "text/plain": [
       "20000"
      ]
     },
     "execution_count": 10,
     "metadata": {},
     "output_type": "execute_result"
    }
   ],
   "source": [
    "len(tokenized_opcodes)"
   ]
  },
  {
   "cell_type": "code",
   "execution_count": 11,
   "metadata": {},
   "outputs": [],
   "source": [
    "# Pad TOkenized OPCODES\n",
    "padded_opcodes = pad_sequences(tokenized_opcodes, maxlen=OPCODE_SEQ_LEN, padding=PADDING_TYPE, truncating=TRUNC_TYPE)"
   ]
  },
  {
   "cell_type": "code",
   "execution_count": 12,
   "metadata": {},
   "outputs": [
    {
     "name": "stdout",
     "output_type": "stream",
     "text": [
      "2404 1800\n"
     ]
    }
   ],
   "source": [
    "print(len(tokenized_opcodes[1]), len(padded_opcodes[1]))"
   ]
  },
  {
   "cell_type": "code",
   "execution_count": 13,
   "metadata": {},
   "outputs": [
    {
     "data": {
      "text/plain": [
       "numpy.ndarray"
      ]
     },
     "execution_count": 13,
     "metadata": {},
     "output_type": "execute_result"
    }
   ],
   "source": [
    "type(padded_opcodes[0])"
   ]
  },
  {
   "cell_type": "markdown",
   "metadata": {},
   "source": [
    "### 5. Save modified OPCODES as CSV"
   ]
  },
  {
   "cell_type": "code",
   "execution_count": 14,
   "metadata": {},
   "outputs": [],
   "source": [
    "import numpy as np\n",
    "opcodes = np.array(padded_opcodes).tolist()"
   ]
  },
  {
   "cell_type": "code",
   "execution_count": 15,
   "metadata": {},
   "outputs": [],
   "source": [
    "opc['opcode'] = opcodes"
   ]
  },
  {
   "cell_type": "code",
   "execution_count": 16,
   "metadata": {},
   "outputs": [
    {
     "data": {
      "text/html": [
       "<div>\n",
       "<style scoped>\n",
       "    .dataframe tbody tr th:only-of-type {\n",
       "        vertical-align: middle;\n",
       "    }\n",
       "\n",
       "    .dataframe tbody tr th {\n",
       "        vertical-align: top;\n",
       "    }\n",
       "\n",
       "    .dataframe thead th {\n",
       "        text-align: right;\n",
       "    }\n",
       "</style>\n",
       "<table border=\"1\" class=\"dataframe\">\n",
       "  <thead>\n",
       "    <tr style=\"text-align: right;\">\n",
       "      <th></th>\n",
       "      <th>_id</th>\n",
       "      <th>address</th>\n",
       "      <th>opcode</th>\n",
       "      <th>swc_label</th>\n",
       "    </tr>\n",
       "  </thead>\n",
       "  <tbody>\n",
       "    <tr>\n",
       "      <th>0</th>\n",
       "      <td>240000</td>\n",
       "      <td>0x8da4feb3dd3643943c614ca793e8f59baae50544</td>\n",
       "      <td>[2, 2, 10, 2, 50, 33, 5, 13, 25, 62, 2, 30, 32...</td>\n",
       "      <td>0000000000000000000000000000000000000</td>\n",
       "    </tr>\n",
       "    <tr>\n",
       "      <th>1</th>\n",
       "      <td>240001</td>\n",
       "      <td>0xe1521029d2591ba2a0f92b6e744a825f665f748b</td>\n",
       "      <td>[2, 2, 10, 2, 50, 33, 5, 13, 2, 30, 62, 3, 32,...</td>\n",
       "      <td>0000000000000000000000000000000000000</td>\n",
       "    </tr>\n",
       "    <tr>\n",
       "      <th>2</th>\n",
       "      <td>240002</td>\n",
       "      <td>0xe378696ce7ad55cfacc40337f476faf8fba9aff2</td>\n",
       "      <td>[2, 2, 10, 2, 50, 33, 5, 13, 2, 30, 62, 3, 32,...</td>\n",
       "      <td>0000000000000000000000000000000000000</td>\n",
       "    </tr>\n",
       "    <tr>\n",
       "      <th>3</th>\n",
       "      <td>240003</td>\n",
       "      <td>0x1872b33bb33e372d6f039a8b6af2e1be228bda23</td>\n",
       "      <td>[2, 2, 10, 50, 12, 5, 13, 25, 62, 2, 30, 32, 1...</td>\n",
       "      <td>0000000000100000000000000000000000000</td>\n",
       "    </tr>\n",
       "    <tr>\n",
       "      <th>4</th>\n",
       "      <td>240004</td>\n",
       "      <td>0x6ef34258c0c8ae7acc688311189dfc783ebb5bfa</td>\n",
       "      <td>[95, 21, 26, 12, 66, 13, 21, 97, 0, 0, 0, 0, 0...</td>\n",
       "      <td>0000000000000001000000000000000000000</td>\n",
       "    </tr>\n",
       "    <tr>\n",
       "      <th>...</th>\n",
       "      <td>...</td>\n",
       "      <td>...</td>\n",
       "      <td>...</td>\n",
       "      <td>...</td>\n",
       "    </tr>\n",
       "    <tr>\n",
       "      <th>19995</th>\n",
       "      <td>230127</td>\n",
       "      <td>0xee623e3a60d4f67c6490749bc8714a4554caec2a</td>\n",
       "      <td>[95, 21, 26, 12, 66, 13, 21, 97, 0, 0, 0, 0, 0...</td>\n",
       "      <td>0000000000000001000000000000000000000</td>\n",
       "    </tr>\n",
       "    <tr>\n",
       "      <th>19996</th>\n",
       "      <td>230128</td>\n",
       "      <td>0x2835e490c49f715e0644db9f4682bdf66a1e0901</td>\n",
       "      <td>[2, 2, 10, 2, 50, 33, 5, 13, 2, 30, 62, 3, 32,...</td>\n",
       "      <td>0000000000000000000000000000000000000</td>\n",
       "    </tr>\n",
       "    <tr>\n",
       "      <th>19997</th>\n",
       "      <td>230129</td>\n",
       "      <td>0xef5173286ed4eb1be6a3b517629cd38b48e6ca4e</td>\n",
       "      <td>[2, 2, 10, 50, 12, 2, 13, 8, 2, 2, 2, 2, 31, 4...</td>\n",
       "      <td>0000100000000100000000000000000000000</td>\n",
       "    </tr>\n",
       "    <tr>\n",
       "      <th>19998</th>\n",
       "      <td>230130</td>\n",
       "      <td>0xe7f74f8e45cbe8ba091b4bffca5cda624b505f1f</td>\n",
       "      <td>[2, 2, 10, 2, 50, 33, 5, 13, 2, 30, 62, 3, 32,...</td>\n",
       "      <td>0000000000000000000000000000000000000</td>\n",
       "    </tr>\n",
       "    <tr>\n",
       "      <th>19999</th>\n",
       "      <td>230131</td>\n",
       "      <td>0x54471c7deefda785000b1a3d3e438f205faebe11</td>\n",
       "      <td>[95, 21, 26, 12, 66, 13, 21, 97, 0, 0, 0, 0, 0...</td>\n",
       "      <td>0000000000000001000000000000000000000</td>\n",
       "    </tr>\n",
       "  </tbody>\n",
       "</table>\n",
       "<p>20000 rows × 4 columns</p>\n",
       "</div>"
      ],
      "text/plain": [
       "          _id                                     address  \\\n",
       "0      240000  0x8da4feb3dd3643943c614ca793e8f59baae50544   \n",
       "1      240001  0xe1521029d2591ba2a0f92b6e744a825f665f748b   \n",
       "2      240002  0xe378696ce7ad55cfacc40337f476faf8fba9aff2   \n",
       "3      240003  0x1872b33bb33e372d6f039a8b6af2e1be228bda23   \n",
       "4      240004  0x6ef34258c0c8ae7acc688311189dfc783ebb5bfa   \n",
       "...       ...                                         ...   \n",
       "19995  230127  0xee623e3a60d4f67c6490749bc8714a4554caec2a   \n",
       "19996  230128  0x2835e490c49f715e0644db9f4682bdf66a1e0901   \n",
       "19997  230129  0xef5173286ed4eb1be6a3b517629cd38b48e6ca4e   \n",
       "19998  230130  0xe7f74f8e45cbe8ba091b4bffca5cda624b505f1f   \n",
       "19999  230131  0x54471c7deefda785000b1a3d3e438f205faebe11   \n",
       "\n",
       "                                                  opcode  \\\n",
       "0      [2, 2, 10, 2, 50, 33, 5, 13, 25, 62, 2, 30, 32...   \n",
       "1      [2, 2, 10, 2, 50, 33, 5, 13, 2, 30, 62, 3, 32,...   \n",
       "2      [2, 2, 10, 2, 50, 33, 5, 13, 2, 30, 62, 3, 32,...   \n",
       "3      [2, 2, 10, 50, 12, 5, 13, 25, 62, 2, 30, 32, 1...   \n",
       "4      [95, 21, 26, 12, 66, 13, 21, 97, 0, 0, 0, 0, 0...   \n",
       "...                                                  ...   \n",
       "19995  [95, 21, 26, 12, 66, 13, 21, 97, 0, 0, 0, 0, 0...   \n",
       "19996  [2, 2, 10, 2, 50, 33, 5, 13, 2, 30, 62, 3, 32,...   \n",
       "19997  [2, 2, 10, 50, 12, 2, 13, 8, 2, 2, 2, 2, 31, 4...   \n",
       "19998  [2, 2, 10, 2, 50, 33, 5, 13, 2, 30, 62, 3, 32,...   \n",
       "19999  [95, 21, 26, 12, 66, 13, 21, 97, 0, 0, 0, 0, 0...   \n",
       "\n",
       "                                   swc_label  \n",
       "0      0000000000000000000000000000000000000  \n",
       "1      0000000000000000000000000000000000000  \n",
       "2      0000000000000000000000000000000000000  \n",
       "3      0000000000100000000000000000000000000  \n",
       "4      0000000000000001000000000000000000000  \n",
       "...                                      ...  \n",
       "19995  0000000000000001000000000000000000000  \n",
       "19996  0000000000000000000000000000000000000  \n",
       "19997  0000100000000100000000000000000000000  \n",
       "19998  0000000000000000000000000000000000000  \n",
       "19999  0000000000000001000000000000000000000  \n",
       "\n",
       "[20000 rows x 4 columns]"
      ]
     },
     "execution_count": 16,
     "metadata": {},
     "output_type": "execute_result"
    }
   ],
   "source": [
    "opc"
   ]
  },
  {
   "cell_type": "markdown",
   "metadata": {},
   "source": [
    "#### 5.1.A Merge Labels & Convert to Binary Labels"
   ]
  },
  {
   "cell_type": "code",
   "execution_count": 17,
   "metadata": {},
   "outputs": [],
   "source": [
    "opc['swc_label'] = (opc['swc_label'].str.contains('1')).astype(int)"
   ]
  },
  {
   "cell_type": "code",
   "execution_count": 18,
   "metadata": {},
   "outputs": [
    {
     "data": {
      "text/plain": [
       "(4331, 15669)"
      ]
     },
     "execution_count": 18,
     "metadata": {},
     "output_type": "execute_result"
    }
   ],
   "source": [
    "len(opc[opc['swc_label'] == 1]), len(opc[opc['swc_label'] == 0])"
   ]
  },
  {
   "cell_type": "code",
   "execution_count": 19,
   "metadata": {},
   "outputs": [
    {
     "data": {
      "text/html": [
       "<div>\n",
       "<style scoped>\n",
       "    .dataframe tbody tr th:only-of-type {\n",
       "        vertical-align: middle;\n",
       "    }\n",
       "\n",
       "    .dataframe tbody tr th {\n",
       "        vertical-align: top;\n",
       "    }\n",
       "\n",
       "    .dataframe thead th {\n",
       "        text-align: right;\n",
       "    }\n",
       "</style>\n",
       "<table border=\"1\" class=\"dataframe\">\n",
       "  <thead>\n",
       "    <tr style=\"text-align: right;\">\n",
       "      <th></th>\n",
       "      <th>_id</th>\n",
       "      <th>address</th>\n",
       "      <th>opcode</th>\n",
       "      <th>swc_label</th>\n",
       "    </tr>\n",
       "  </thead>\n",
       "  <tbody>\n",
       "    <tr>\n",
       "      <th>0</th>\n",
       "      <td>240000</td>\n",
       "      <td>0x8da4feb3dd3643943c614ca793e8f59baae50544</td>\n",
       "      <td>[2, 2, 10, 2, 50, 33, 5, 13, 25, 62, 2, 30, 32...</td>\n",
       "      <td>0</td>\n",
       "    </tr>\n",
       "    <tr>\n",
       "      <th>1</th>\n",
       "      <td>240001</td>\n",
       "      <td>0xe1521029d2591ba2a0f92b6e744a825f665f748b</td>\n",
       "      <td>[2, 2, 10, 2, 50, 33, 5, 13, 2, 30, 62, 3, 32,...</td>\n",
       "      <td>0</td>\n",
       "    </tr>\n",
       "    <tr>\n",
       "      <th>2</th>\n",
       "      <td>240002</td>\n",
       "      <td>0xe378696ce7ad55cfacc40337f476faf8fba9aff2</td>\n",
       "      <td>[2, 2, 10, 2, 50, 33, 5, 13, 2, 30, 62, 3, 32,...</td>\n",
       "      <td>0</td>\n",
       "    </tr>\n",
       "    <tr>\n",
       "      <th>3</th>\n",
       "      <td>240003</td>\n",
       "      <td>0x1872b33bb33e372d6f039a8b6af2e1be228bda23</td>\n",
       "      <td>[2, 2, 10, 50, 12, 5, 13, 25, 62, 2, 30, 32, 1...</td>\n",
       "      <td>1</td>\n",
       "    </tr>\n",
       "    <tr>\n",
       "      <th>4</th>\n",
       "      <td>240004</td>\n",
       "      <td>0x6ef34258c0c8ae7acc688311189dfc783ebb5bfa</td>\n",
       "      <td>[95, 21, 26, 12, 66, 13, 21, 97, 0, 0, 0, 0, 0...</td>\n",
       "      <td>1</td>\n",
       "    </tr>\n",
       "    <tr>\n",
       "      <th>...</th>\n",
       "      <td>...</td>\n",
       "      <td>...</td>\n",
       "      <td>...</td>\n",
       "      <td>...</td>\n",
       "    </tr>\n",
       "    <tr>\n",
       "      <th>19995</th>\n",
       "      <td>230127</td>\n",
       "      <td>0xee623e3a60d4f67c6490749bc8714a4554caec2a</td>\n",
       "      <td>[95, 21, 26, 12, 66, 13, 21, 97, 0, 0, 0, 0, 0...</td>\n",
       "      <td>1</td>\n",
       "    </tr>\n",
       "    <tr>\n",
       "      <th>19996</th>\n",
       "      <td>230128</td>\n",
       "      <td>0x2835e490c49f715e0644db9f4682bdf66a1e0901</td>\n",
       "      <td>[2, 2, 10, 2, 50, 33, 5, 13, 2, 30, 62, 3, 32,...</td>\n",
       "      <td>0</td>\n",
       "    </tr>\n",
       "    <tr>\n",
       "      <th>19997</th>\n",
       "      <td>230129</td>\n",
       "      <td>0xef5173286ed4eb1be6a3b517629cd38b48e6ca4e</td>\n",
       "      <td>[2, 2, 10, 50, 12, 2, 13, 8, 2, 2, 2, 2, 31, 4...</td>\n",
       "      <td>1</td>\n",
       "    </tr>\n",
       "    <tr>\n",
       "      <th>19998</th>\n",
       "      <td>230130</td>\n",
       "      <td>0xe7f74f8e45cbe8ba091b4bffca5cda624b505f1f</td>\n",
       "      <td>[2, 2, 10, 2, 50, 33, 5, 13, 2, 30, 62, 3, 32,...</td>\n",
       "      <td>0</td>\n",
       "    </tr>\n",
       "    <tr>\n",
       "      <th>19999</th>\n",
       "      <td>230131</td>\n",
       "      <td>0x54471c7deefda785000b1a3d3e438f205faebe11</td>\n",
       "      <td>[95, 21, 26, 12, 66, 13, 21, 97, 0, 0, 0, 0, 0...</td>\n",
       "      <td>1</td>\n",
       "    </tr>\n",
       "  </tbody>\n",
       "</table>\n",
       "<p>20000 rows × 4 columns</p>\n",
       "</div>"
      ],
      "text/plain": [
       "          _id                                     address  \\\n",
       "0      240000  0x8da4feb3dd3643943c614ca793e8f59baae50544   \n",
       "1      240001  0xe1521029d2591ba2a0f92b6e744a825f665f748b   \n",
       "2      240002  0xe378696ce7ad55cfacc40337f476faf8fba9aff2   \n",
       "3      240003  0x1872b33bb33e372d6f039a8b6af2e1be228bda23   \n",
       "4      240004  0x6ef34258c0c8ae7acc688311189dfc783ebb5bfa   \n",
       "...       ...                                         ...   \n",
       "19995  230127  0xee623e3a60d4f67c6490749bc8714a4554caec2a   \n",
       "19996  230128  0x2835e490c49f715e0644db9f4682bdf66a1e0901   \n",
       "19997  230129  0xef5173286ed4eb1be6a3b517629cd38b48e6ca4e   \n",
       "19998  230130  0xe7f74f8e45cbe8ba091b4bffca5cda624b505f1f   \n",
       "19999  230131  0x54471c7deefda785000b1a3d3e438f205faebe11   \n",
       "\n",
       "                                                  opcode  swc_label  \n",
       "0      [2, 2, 10, 2, 50, 33, 5, 13, 25, 62, 2, 30, 32...          0  \n",
       "1      [2, 2, 10, 2, 50, 33, 5, 13, 2, 30, 62, 3, 32,...          0  \n",
       "2      [2, 2, 10, 2, 50, 33, 5, 13, 2, 30, 62, 3, 32,...          0  \n",
       "3      [2, 2, 10, 50, 12, 5, 13, 25, 62, 2, 30, 32, 1...          1  \n",
       "4      [95, 21, 26, 12, 66, 13, 21, 97, 0, 0, 0, 0, 0...          1  \n",
       "...                                                  ...        ...  \n",
       "19995  [95, 21, 26, 12, 66, 13, 21, 97, 0, 0, 0, 0, 0...          1  \n",
       "19996  [2, 2, 10, 2, 50, 33, 5, 13, 2, 30, 62, 3, 32,...          0  \n",
       "19997  [2, 2, 10, 50, 12, 2, 13, 8, 2, 2, 2, 2, 31, 4...          1  \n",
       "19998  [2, 2, 10, 2, 50, 33, 5, 13, 2, 30, 62, 3, 32,...          0  \n",
       "19999  [95, 21, 26, 12, 66, 13, 21, 97, 0, 0, 0, 0, 0...          1  \n",
       "\n",
       "[20000 rows x 4 columns]"
      ]
     },
     "execution_count": 19,
     "metadata": {},
     "output_type": "execute_result"
    }
   ],
   "source": [
    "opc"
   ]
  },
  {
   "cell_type": "markdown",
   "metadata": {},
   "source": [
    "#### 5.1.B Split the DataFrame into Training & Testing Sets"
   ]
  },
  {
   "cell_type": "code",
   "execution_count": 20,
   "metadata": {},
   "outputs": [],
   "source": [
    "from sklearn.model_selection import train_test_split\n",
    "\n",
    "final_data = opc[['opcode', 'swc_label']]\n",
    "train, test = train_test_split(final_data, test_size=0.3, random_state=69, shuffle=True, stratify=final_data['swc_label'])"
   ]
  },
  {
   "cell_type": "code",
   "execution_count": 21,
   "metadata": {},
   "outputs": [
    {
     "data": {
      "text/plain": [
       "(                                                  opcode  swc_label\n",
       " 386    [2, 2, 10, 2, 50, 33, 5, 13, 2, 30, 62, 3, 32,...          0\n",
       " 11807  [2, 2, 10, 31, 4, 12, 5, 13, 2, 4, 22, 8, 6, 2...          0\n",
       " 1006   [2, 2, 10, 2, 50, 33, 5, 13, 2, 30, 62, 3, 32,...          0\n",
       " 15101  [2, 2, 10, 2, 50, 33, 5, 13, 2, 30, 62, 3, 32,...          0\n",
       " 2145   [2, 2, 10, 2, 30, 62, 3, 32, 25, 11, 4, 25, 26...          1\n",
       " ...                                                  ...        ...\n",
       " 12618  [2, 2, 10, 2, 50, 33, 5, 13, 25, 62, 2, 30, 32...          0\n",
       " 18541  [2, 2, 10, 2, 30, 62, 3, 32, 25, 11, 4, 25, 26...          1\n",
       " 13532  [2, 2, 10, 50, 12, 5, 13, 25, 62, 2, 30, 32, 1...          0\n",
       " 13055  [2, 2, 10, 2, 50, 33, 5, 13, 25, 62, 2, 30, 32...          0\n",
       " 19226  [21, 51, 6, 21, 51, 6, 21, 51, 6, 21, 51, 6, 2...          0\n",
       " \n",
       " [14000 rows x 2 columns],\n",
       "                                                   opcode  swc_label\n",
       " 11795  [2, 2, 10, 2, 50, 33, 5, 13, 25, 62, 2, 30, 32...          0\n",
       " 9017   [2, 2, 10, 50, 12, 5, 13, 25, 2, 2, 23, 2, 30,...          1\n",
       " 9603   [2, 2, 10, 2, 50, 33, 5, 13, 25, 62, 2, 30, 32...          0\n",
       " 19106  [2, 2, 10, 2, 50, 33, 5, 13, 25, 2, 2, 23, 2, ...          0\n",
       " 14321  [2, 2, 10, 2, 50, 33, 5, 13, 25, 2, 2, 23, 2, ...          0\n",
       " ...                                                  ...        ...\n",
       " 12019  [2, 2, 10, 50, 12, 5, 13, 25, 2, 2, 23, 2, 30,...          1\n",
       " 19796  [2, 2, 10, 2, 50, 33, 5, 13, 25, 62, 2, 30, 32...          0\n",
       " 8897   [21, 66, 26, 2, 2, 10, 2, 50, 33, 5, 13, 25, 6...          0\n",
       " 17281  [2, 2, 10, 2, 50, 33, 5, 13, 25, 62, 2, 30, 32...          1\n",
       " 6944   [2, 2, 10, 50, 12, 5, 13, 2, 2, 23, 2, 30, 32,...          0\n",
       " \n",
       " [6000 rows x 2 columns])"
      ]
     },
     "execution_count": 21,
     "metadata": {},
     "output_type": "execute_result"
    }
   ],
   "source": [
    "train, test"
   ]
  },
  {
   "cell_type": "code",
   "execution_count": 22,
   "metadata": {},
   "outputs": [
    {
     "data": {
      "text/plain": [
       "(3032, 10968)"
      ]
     },
     "execution_count": 22,
     "metadata": {},
     "output_type": "execute_result"
    }
   ],
   "source": [
    "len(train[train['swc_label'] == 1]), len(train[train['swc_label'] == 0])"
   ]
  },
  {
   "cell_type": "code",
   "execution_count": 23,
   "metadata": {},
   "outputs": [
    {
     "data": {
      "text/plain": [
       "(1299, 4701)"
      ]
     },
     "execution_count": 23,
     "metadata": {},
     "output_type": "execute_result"
    }
   ],
   "source": [
    "len(test[test['swc_label'] == 1]), len(test[test['swc_label'] == 0])"
   ]
  },
  {
   "cell_type": "markdown",
   "metadata": {},
   "source": [
    "#### 5.2 Save Train and Test DataSet as CSV"
   ]
  },
  {
   "cell_type": "code",
   "execution_count": 24,
   "metadata": {},
   "outputs": [],
   "source": [
    "train.to_csv('./split_tt/train.csv', index=False)"
   ]
  },
  {
   "cell_type": "code",
   "execution_count": 25,
   "metadata": {},
   "outputs": [],
   "source": [
    "test.to_csv('./split_tt/test.csv', index=False)"
   ]
  },
  {
   "cell_type": "code",
   "execution_count": null,
   "metadata": {},
   "outputs": [],
   "source": []
  }
 ],
 "metadata": {
  "kernelspec": {
   "display_name": "Python 3.7.2 ('py3')",
   "language": "python",
   "name": "python3"
  },
  "language_info": {
   "codemirror_mode": {
    "name": "ipython",
    "version": 3
   },
   "file_extension": ".py",
   "mimetype": "text/x-python",
   "name": "python",
   "nbconvert_exporter": "python",
   "pygments_lexer": "ipython3",
   "version": "3.7.2"
  },
  "vscode": {
   "interpreter": {
    "hash": "7c4f77bdfc014eba12b1ac757acf37bc32ed4055cc87d3473a38b1b99ddf1e54"
   }
  }
 },
 "nbformat": 4,
 "nbformat_minor": 4
}
