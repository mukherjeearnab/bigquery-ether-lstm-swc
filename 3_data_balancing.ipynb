{
 "cells": [
  {
   "cell_type": "markdown",
   "metadata": {},
   "source": [
    "## Training Set Balancing"
   ]
  },
  {
   "cell_type": "markdown",
   "metadata": {},
   "source": [
    "### 1. Importing Tokenized Training-Set CSV"
   ]
  },
  {
   "cell_type": "code",
   "execution_count": 1,
   "metadata": {},
   "outputs": [
    {
     "data": {
      "text/html": [
       "<div>\n",
       "<style scoped>\n",
       "    .dataframe tbody tr th:only-of-type {\n",
       "        vertical-align: middle;\n",
       "    }\n",
       "\n",
       "    .dataframe tbody tr th {\n",
       "        vertical-align: top;\n",
       "    }\n",
       "\n",
       "    .dataframe thead th {\n",
       "        text-align: right;\n",
       "    }\n",
       "</style>\n",
       "<table border=\"1\" class=\"dataframe\">\n",
       "  <thead>\n",
       "    <tr style=\"text-align: right;\">\n",
       "      <th></th>\n",
       "      <th>opcode</th>\n",
       "      <th>swc_label</th>\n",
       "    </tr>\n",
       "  </thead>\n",
       "  <tbody>\n",
       "    <tr>\n",
       "      <th>0</th>\n",
       "      <td>[2, 2, 10, 2, 49, 33, 5, 13, 2, 30, 62, 3, 32,...</td>\n",
       "      <td>0</td>\n",
       "    </tr>\n",
       "    <tr>\n",
       "      <th>1</th>\n",
       "      <td>[2, 2, 10, 2, 49, 33, 5, 13, 2, 30, 2, 102, 4,...</td>\n",
       "      <td>0</td>\n",
       "    </tr>\n",
       "    <tr>\n",
       "      <th>2</th>\n",
       "      <td>[2, 2, 10, 2, 49, 33, 5, 13, 2, 30, 62, 3, 32,...</td>\n",
       "      <td>0</td>\n",
       "    </tr>\n",
       "    <tr>\n",
       "      <th>3</th>\n",
       "      <td>[2, 2, 10, 2, 49, 33, 5, 13, 2, 30, 62, 3, 32,...</td>\n",
       "      <td>0</td>\n",
       "    </tr>\n",
       "    <tr>\n",
       "      <th>4</th>\n",
       "      <td>[2, 2, 10, 25, 62, 2, 30, 32, 11, 25, 7, 26, 5...</td>\n",
       "      <td>0</td>\n",
       "    </tr>\n",
       "    <tr>\n",
       "      <th>...</th>\n",
       "      <td>...</td>\n",
       "      <td>...</td>\n",
       "    </tr>\n",
       "    <tr>\n",
       "      <th>177677</th>\n",
       "      <td>[2, 2, 10, 49, 12, 5, 13, 25, 2, 2, 23, 2, 30,...</td>\n",
       "      <td>1</td>\n",
       "    </tr>\n",
       "    <tr>\n",
       "      <th>177678</th>\n",
       "      <td>[92, 21, 26, 12, 65, 13, 21, 91, 0, 0, 0, 0, 0...</td>\n",
       "      <td>1</td>\n",
       "    </tr>\n",
       "    <tr>\n",
       "      <th>177679</th>\n",
       "      <td>[2, 2, 10, 2, 49, 33, 5, 13, 25, 62, 2, 30, 32...</td>\n",
       "      <td>0</td>\n",
       "    </tr>\n",
       "    <tr>\n",
       "      <th>177680</th>\n",
       "      <td>[2, 2, 10, 2, 49, 33, 5, 13, 25, 62, 2, 30, 32...</td>\n",
       "      <td>0</td>\n",
       "    </tr>\n",
       "    <tr>\n",
       "      <th>177681</th>\n",
       "      <td>[2, 2, 10, 2, 49, 33, 5, 13, 25, 62, 2, 30, 32...</td>\n",
       "      <td>0</td>\n",
       "    </tr>\n",
       "  </tbody>\n",
       "</table>\n",
       "<p>177682 rows × 2 columns</p>\n",
       "</div>"
      ],
      "text/plain": [
       "                                                   opcode  swc_label\n",
       "0       [2, 2, 10, 2, 49, 33, 5, 13, 2, 30, 62, 3, 32,...          0\n",
       "1       [2, 2, 10, 2, 49, 33, 5, 13, 2, 30, 2, 102, 4,...          0\n",
       "2       [2, 2, 10, 2, 49, 33, 5, 13, 2, 30, 62, 3, 32,...          0\n",
       "3       [2, 2, 10, 2, 49, 33, 5, 13, 2, 30, 62, 3, 32,...          0\n",
       "4       [2, 2, 10, 25, 62, 2, 30, 32, 11, 25, 7, 26, 5...          0\n",
       "...                                                   ...        ...\n",
       "177677  [2, 2, 10, 49, 12, 5, 13, 25, 2, 2, 23, 2, 30,...          1\n",
       "177678  [92, 21, 26, 12, 65, 13, 21, 91, 0, 0, 0, 0, 0...          1\n",
       "177679  [2, 2, 10, 2, 49, 33, 5, 13, 25, 62, 2, 30, 32...          0\n",
       "177680  [2, 2, 10, 2, 49, 33, 5, 13, 25, 62, 2, 30, 32...          0\n",
       "177681  [2, 2, 10, 2, 49, 33, 5, 13, 25, 62, 2, 30, 32...          0\n",
       "\n",
       "[177682 rows x 2 columns]"
      ]
     },
     "execution_count": 1,
     "metadata": {},
     "output_type": "execute_result"
    }
   ],
   "source": [
    "import pandas as pd\n",
    "import json\n",
    "\n",
    "opc = pd.read_csv('./split_tt/train.csv')\n",
    "opc['opcode'] = opc['opcode'].apply(lambda x: json.loads(x))\n",
    "\n",
    "opc"
   ]
  },
  {
   "cell_type": "markdown",
   "metadata": {},
   "source": [
    "### 2. Applying Over-Sampling Techniques on the Training DataSet"
   ]
  },
  {
   "cell_type": "markdown",
   "metadata": {},
   "source": [
    "### 2.A. SMOTE"
   ]
  },
  {
   "cell_type": "code",
   "execution_count": 2,
   "metadata": {},
   "outputs": [
    {
     "name": "stdout",
     "output_type": "stream",
     "text": [
      "Done Applying SMOTE\n"
     ]
    }
   ],
   "source": [
    "from imblearn.over_sampling import SMOTE\n",
    "\n",
    "# Create an instance of SMOTE using the SMOTE() constructor, supplying the Random-State hyper-parameter.\n",
    "sm = SMOTE(random_state = 60)\n",
    "\n",
    "# Slice the DataFrame into X (Features) and Y (Labels)\n",
    "X, Y = pd.DataFrame(opc['opcode'].tolist(), index=opc['opcode'].index), opc['swc_label']\n",
    "   \n",
    "# Applying SMOTE\n",
    "X_sm, Y_sm = sm.fit_sample(X, Y)\n",
    "\n",
    "# Create New DataFrame to store Balanced Dataset\n",
    "temp_df = pd.DataFrame()\n",
    "temp_df['opcode'] = X_sm.values.tolist()\n",
    "temp_df['swc_label'] = Y_sm.values.tolist()\n",
    "    \n",
    "# Creates CSV Files of Balanced Dataset(s)\n",
    "temp_df.to_csv(f'./split_ds/opcode_sm_TRAIN.csv', index=False)\n",
    "    \n",
    "print('Done Applying SMOTE')"
   ]
  },
  {
   "cell_type": "markdown",
   "metadata": {},
   "source": [
    "### 2.B. SMOTETomek"
   ]
  },
  {
   "cell_type": "code",
   "execution_count": null,
   "metadata": {},
   "outputs": [],
   "source": [
    "from imblearn.combine import SMOTETomek \n",
    "\n",
    "# Create an instance of SMOTETomek using the SMOTETomek() constructor, supplying the Random-State hyper-parameter. \n",
    "smt = SMOTETomek(random_state = 60)\n",
    "\n",
    "# Slice the DataFrame into X (Features) and Y (Labels)\n",
    "X, Y = pd.DataFrame(opc['opcode'].tolist(), index=opc['opcode'].index), opc['label']\n",
    "   \n",
    "# Applying SMOTETomek\n",
    "X_smt, Y_smt = smt.fit_sample(X, Y)\n",
    "\n",
    "# Create New DataFrame to store Balanced Dataset\n",
    "temp_df = pd.DataFrame()\n",
    "temp_df['opcode'] = X_smt.values.tolist()\n",
    "temp_df['label'] = Y_smt.values.tolist()\n",
    "    \n",
    "# Creates CSV Files of Balanced Dataset(s)\n",
    "temp_df.to_csv(f'./split_ds/opcode_smt_TRAIN.csv', index=False)\n",
    "    \n",
    "print('Done Applying SMOTETomek')"
   ]
  },
  {
   "cell_type": "markdown",
   "metadata": {},
   "source": [
    "### 2.C. ADASYN"
   ]
  },
  {
   "cell_type": "code",
   "execution_count": 7,
   "metadata": {},
   "outputs": [
    {
     "name": "stdout",
     "output_type": "stream",
     "text": [
      "Done Applying ADASYN\n"
     ]
    }
   ],
   "source": [
    "from imblearn.over_sampling import ADASYN \n",
    "\n",
    "# Create an instance of ADASYN using the ADASYN() constructor, supplying the Random-State hyper-parameter. \n",
    "ada = ADASYN(random_state=60, sampling_strategy='minority')\n",
    "\n",
    "# Slice the DataFrame into X (Features) and Y (Labels)\n",
    "X, Y = pd.DataFrame(opc['opcode'].tolist(), index=opc['opcode'].index), opc['swc_label']\n",
    "   \n",
    "# Applying ADASYN\n",
    "X_ada, Y_ada = ada.fit_sample(X, Y)\n",
    "\n",
    "# Create New DataFrame to store Balanced Dataset\n",
    "temp_df = pd.DataFrame()\n",
    "temp_df['opcode'] = X_ada.values.tolist()\n",
    "temp_df['swc_label'] = Y_ada.values.tolist()\n",
    "    \n",
    "# Creates CSV Files of Balanced Dataset(s)\n",
    "temp_df.to_csv(f'./split_ds/opcode_ada_TRAIN.csv', index=False)\n",
    "    \n",
    "print('Done Applying ADASYN')"
   ]
  },
  {
   "cell_type": "markdown",
   "metadata": {},
   "source": [
    "## Test Set Balancing"
   ]
  },
  {
   "cell_type": "markdown",
   "metadata": {},
   "source": [
    "### 1. Importing Tokenized Testing-Set CSV"
   ]
  },
  {
   "cell_type": "code",
   "execution_count": 4,
   "metadata": {},
   "outputs": [
    {
     "data": {
      "text/html": [
       "<div>\n",
       "<style scoped>\n",
       "    .dataframe tbody tr th:only-of-type {\n",
       "        vertical-align: middle;\n",
       "    }\n",
       "\n",
       "    .dataframe tbody tr th {\n",
       "        vertical-align: top;\n",
       "    }\n",
       "\n",
       "    .dataframe thead th {\n",
       "        text-align: right;\n",
       "    }\n",
       "</style>\n",
       "<table border=\"1\" class=\"dataframe\">\n",
       "  <thead>\n",
       "    <tr style=\"text-align: right;\">\n",
       "      <th></th>\n",
       "      <th>opcode</th>\n",
       "      <th>swc_label</th>\n",
       "    </tr>\n",
       "  </thead>\n",
       "  <tbody>\n",
       "    <tr>\n",
       "      <th>0</th>\n",
       "      <td>[2, 2, 10, 2, 49, 33, 5, 13, 2, 30, 62, 3, 32,...</td>\n",
       "      <td>0</td>\n",
       "    </tr>\n",
       "    <tr>\n",
       "      <th>1</th>\n",
       "      <td>[2, 2, 10, 2, 49, 33, 5, 13, 25, 62, 2, 30, 32...</td>\n",
       "      <td>0</td>\n",
       "    </tr>\n",
       "    <tr>\n",
       "      <th>2</th>\n",
       "      <td>[2, 2, 10, 49, 12, 5, 13, 25, 62, 2, 30, 32, 1...</td>\n",
       "      <td>1</td>\n",
       "    </tr>\n",
       "    <tr>\n",
       "      <th>3</th>\n",
       "      <td>[2, 2, 10, 2, 49, 33, 5, 13, 25, 2, 2, 23, 2, ...</td>\n",
       "      <td>0</td>\n",
       "    </tr>\n",
       "    <tr>\n",
       "      <th>4</th>\n",
       "      <td>[2, 2, 10, 2, 49, 33, 5, 13, 2, 30, 62, 3, 32,...</td>\n",
       "      <td>0</td>\n",
       "    </tr>\n",
       "    <tr>\n",
       "      <th>...</th>\n",
       "      <td>...</td>\n",
       "      <td>...</td>\n",
       "    </tr>\n",
       "    <tr>\n",
       "      <th>76145</th>\n",
       "      <td>[2, 2, 10, 2, 49, 33, 5, 13, 2, 30, 62, 3, 32,...</td>\n",
       "      <td>0</td>\n",
       "    </tr>\n",
       "    <tr>\n",
       "      <th>76146</th>\n",
       "      <td>[2, 2, 10, 2, 49, 33, 5, 13, 2, 30, 62, 3, 32,...</td>\n",
       "      <td>1</td>\n",
       "    </tr>\n",
       "    <tr>\n",
       "      <th>76147</th>\n",
       "      <td>[2, 2, 10, 2, 49, 33, 5, 13, 2, 30, 62, 3, 32,...</td>\n",
       "      <td>0</td>\n",
       "    </tr>\n",
       "    <tr>\n",
       "      <th>76148</th>\n",
       "      <td>[2, 2, 10, 49, 12, 5, 13, 25, 2, 2, 23, 2, 30,...</td>\n",
       "      <td>0</td>\n",
       "    </tr>\n",
       "    <tr>\n",
       "      <th>76149</th>\n",
       "      <td>[2, 2, 10, 49, 12, 2, 13, 8, 2, 2, 2, 2, 31, 4...</td>\n",
       "      <td>1</td>\n",
       "    </tr>\n",
       "  </tbody>\n",
       "</table>\n",
       "<p>76150 rows × 2 columns</p>\n",
       "</div>"
      ],
      "text/plain": [
       "                                                  opcode  swc_label\n",
       "0      [2, 2, 10, 2, 49, 33, 5, 13, 2, 30, 62, 3, 32,...          0\n",
       "1      [2, 2, 10, 2, 49, 33, 5, 13, 25, 62, 2, 30, 32...          0\n",
       "2      [2, 2, 10, 49, 12, 5, 13, 25, 62, 2, 30, 32, 1...          1\n",
       "3      [2, 2, 10, 2, 49, 33, 5, 13, 25, 2, 2, 23, 2, ...          0\n",
       "4      [2, 2, 10, 2, 49, 33, 5, 13, 2, 30, 62, 3, 32,...          0\n",
       "...                                                  ...        ...\n",
       "76145  [2, 2, 10, 2, 49, 33, 5, 13, 2, 30, 62, 3, 32,...          0\n",
       "76146  [2, 2, 10, 2, 49, 33, 5, 13, 2, 30, 62, 3, 32,...          1\n",
       "76147  [2, 2, 10, 2, 49, 33, 5, 13, 2, 30, 62, 3, 32,...          0\n",
       "76148  [2, 2, 10, 49, 12, 5, 13, 25, 2, 2, 23, 2, 30,...          0\n",
       "76149  [2, 2, 10, 49, 12, 2, 13, 8, 2, 2, 2, 2, 31, 4...          1\n",
       "\n",
       "[76150 rows x 2 columns]"
      ]
     },
     "execution_count": 4,
     "metadata": {},
     "output_type": "execute_result"
    }
   ],
   "source": [
    "opc_test = pd.read_csv('./split_tt/test.csv')\n",
    "opc_test['opcode'] = opc_test['opcode'].apply(lambda x: json.loads(x))\n",
    "\n",
    "opc_test"
   ]
  },
  {
   "cell_type": "markdown",
   "metadata": {},
   "source": [
    "### 2. Applying Under-Sampling Techniques on Testing DataSet"
   ]
  },
  {
   "cell_type": "markdown",
   "metadata": {},
   "source": [
    "### 2.A. RandomUnderSampler"
   ]
  },
  {
   "cell_type": "code",
   "execution_count": 5,
   "metadata": {},
   "outputs": [
    {
     "name": "stdout",
     "output_type": "stream",
     "text": [
      "Done Applying RandomUnderSampler\n"
     ]
    }
   ],
   "source": [
    "from imblearn.under_sampling import RandomUnderSampler\n",
    "\n",
    "# Create an instance of RandomUnderSampler using the RandomUnderSampler() constructor, supplying the Random-State hyper-parameter.\n",
    "rus = RandomUnderSampler(random_state = 60)\n",
    "\n",
    "# Slice the DataFrame into X (Features) and Y (Labels)\n",
    "X, Y = pd.DataFrame(opc_test['opcode'].tolist(), index=opc_test['opcode'].index), opc_test['swc_label']\n",
    "    \n",
    "# Applying TomekLinks\n",
    "X_rus, Y_rus = rus.fit_resample(X, Y)\n",
    "    \n",
    "# Create New DataFrame to store Balanced Dataset\n",
    "temp_df = pd.DataFrame()\n",
    "temp_df['opcode'] = X_rus.values.tolist()\n",
    "temp_df['swc_label'] = Y_rus.values.tolist()\n",
    "\n",
    "\n",
    "# Creates CSV Files of Balanced Dataset(s)\n",
    "temp_df.to_csv(f'./split_ds/opcode_rus_TEST.csv', index=False)\n",
    "    \n",
    "print('Done Applying RandomUnderSampler')"
   ]
  },
  {
   "cell_type": "code",
   "execution_count": null,
   "metadata": {},
   "outputs": [],
   "source": []
  }
 ],
 "metadata": {
  "kernelspec": {
   "display_name": "Python 3",
   "language": "python",
   "name": "python3"
  },
  "language_info": {
   "codemirror_mode": {
    "name": "ipython",
    "version": 3
   },
   "file_extension": ".py",
   "mimetype": "text/x-python",
   "name": "python",
   "nbconvert_exporter": "python",
   "pygments_lexer": "ipython3",
   "version": "3.7.2"
  }
 },
 "nbformat": 4,
 "nbformat_minor": 4
}
