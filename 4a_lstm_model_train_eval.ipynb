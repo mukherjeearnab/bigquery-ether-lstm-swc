{
 "cells": [
  {
   "cell_type": "markdown",
   "metadata": {},
   "source": [
    "## SET ENVIRONMENT VARIABLES"
   ]
  },
  {
   "cell_type": "code",
   "execution_count": 1,
   "metadata": {},
   "outputs": [
    {
     "name": "stdout",
     "output_type": "stream",
     "text": [
      "7\n"
     ]
    }
   ],
   "source": [
    "import os\n",
    "os.environ[\"CUDA_VISIBLE_DEVICES\"] = \"7\"\n",
    "\n",
    "print(os.environ[\"CUDA_VISIBLE_DEVICES\"])"
   ]
  },
  {
   "cell_type": "markdown",
   "metadata": {},
   "source": [
    "## Import and Prepare the DataSets"
   ]
  },
  {
   "cell_type": "markdown",
   "metadata": {},
   "source": [
    "### 1. Import Train & Test CSV(s)"
   ]
  },
  {
   "cell_type": "code",
   "execution_count": 2,
   "metadata": {},
   "outputs": [
    {
     "name": "stdout",
     "output_type": "stream",
     "text": [
      "                                                  opcode  swc_label\n",
      "0      [2, 2, 10, 2, 50, 33, 5, 13, 2, 30, 62, 3, 32,...          0\n",
      "1      [2, 2, 10, 31, 4, 12, 5, 13, 2, 4, 22, 8, 6, 2...          0\n",
      "2      [2, 2, 10, 2, 50, 33, 5, 13, 2, 30, 62, 3, 32,...          0\n",
      "3      [2, 2, 10, 2, 50, 33, 5, 13, 2, 30, 62, 3, 32,...          0\n",
      "4      [2, 2, 10, 2, 30, 62, 3, 32, 25, 11, 4, 25, 26...          1\n",
      "...                                                  ...        ...\n",
      "21931  [2, 2, 10, 19, 35, 22, 39, 17, 38, 2, 12, 26, ...          1\n",
      "21932  [2, 2, 10, 13, 40, 26, 6, 15, 2, 23, 52, 2, 31...          1\n",
      "21933  [2, 2, 10, 30, 7, 12, 8, 13, 30, 46, 4, 29, 16...          1\n",
      "21934  [95, 21, 26, 12, 66, 13, 21, 97, 0, 0, 0, 0, 0...          1\n",
      "21935  [2, 2, 10, 2, 30, 62, 3, 32, 15, 17, 13, 16, 2...          1\n",
      "\n",
      "[21936 rows x 2 columns]                                                  opcode  swc_label\n",
      "0     [2, 2, 10, 31, 4, 12, 5, 13, 2, 4, 22, 8, 6, 2...          0\n",
      "1     [2, 2, 10, 2, 50, 33, 5, 13, 25, 62, 2, 30, 32...          0\n",
      "2     [2, 2, 10, 2, 50, 33, 5, 13, 2, 30, 62, 3, 32,...          0\n",
      "3     [2, 2, 10, 2, 50, 33, 5, 13, 25, 62, 2, 30, 32...          0\n",
      "4     [2, 2, 10, 50, 12, 5, 13, 2, 30, 62, 3, 32, 4,...          0\n",
      "...                                                 ...        ...\n",
      "2593  [95, 21, 26, 12, 66, 13, 21, 97, 0, 0, 0, 0, 0...          1\n",
      "2594  [2, 2, 10, 25, 62, 2, 30, 32, 11, 25, 7, 26, 2...          1\n",
      "2595  [95, 21, 26, 12, 66, 13, 21, 97, 0, 0, 0, 0, 0...          1\n",
      "2596  [2, 2, 10, 50, 12, 5, 13, 25, 2, 2, 23, 2, 30,...          1\n",
      "2597  [2, 2, 10, 2, 50, 33, 5, 13, 25, 62, 2, 30, 32...          1\n",
      "\n",
      "[2598 rows x 2 columns]\n"
     ]
    }
   ],
   "source": [
    "import pandas as pd\n",
    "import json\n",
    "\n",
    "# Set the TRAIN_SAMPLING_TECHNIQUE as follows\n",
    "# SMOTE ---> 'sm'\n",
    "# SMOTETomek ---> 'smt'\n",
    "# ADASYN ---> 'ada'\n",
    "TRAIN_SAMPLING_TECHNIQUE = 'sm'\n",
    "\n",
    "# Set the TEST_SAMPLING_TECHNIQUE as follows\n",
    "# RandomUnderSampler ---> 'rus'\n",
    "# TomekLinks ---> 'tmk'\n",
    "TEST_SAMPLING_TECHNIQUE = 'rus'\n",
    "\n",
    "# Importing Training Set\n",
    "train = pd.read_csv(f'./split_ds/opcode_{TRAIN_SAMPLING_TECHNIQUE}_TRAIN.csv')\n",
    "train['opcode'] = train['opcode'].apply(lambda x: json.loads(x))\n",
    "\n",
    "# Importing Testing Set\n",
    "test = pd.read_csv(f'./split_ds/opcode_{TEST_SAMPLING_TECHNIQUE}_TEST.csv')\n",
    "test['opcode'] = test['opcode'].apply(lambda x: json.loads(x))\n",
    "\n",
    "print(train, test)"
   ]
  },
  {
   "cell_type": "markdown",
   "metadata": {},
   "source": [
    "### 2. Split the Test DataSet into Testing and Validiation DataSet"
   ]
  },
  {
   "cell_type": "code",
   "execution_count": 3,
   "metadata": {},
   "outputs": [],
   "source": [
    "from sklearn.model_selection import train_test_split\n",
    "test, val = train_test_split(test, test_size=0.5, random_state=69, shuffle=True, stratify=test['swc_label'])"
   ]
  },
  {
   "cell_type": "markdown",
   "metadata": {},
   "source": [
    "### 3. Convert DataFrame(s) to Numpy N-D Array(s)"
   ]
  },
  {
   "cell_type": "code",
   "execution_count": 4,
   "metadata": {},
   "outputs": [
    {
     "name": "stdout",
     "output_type": "stream",
     "text": [
      "Train-Sequences (21936, 1800) <class 'numpy.ndarray'>\n",
      "Train-Labels (21936,) <class 'numpy.int64'>\n",
      "Test-Sequences (1299, 1800) <class 'numpy.ndarray'>\n",
      "Test-Labels (1299,) <class 'numpy.int64'>\n",
      "Validiation-Sequences (1299, 1800) <class 'numpy.ndarray'>\n",
      "Validiation-Labels (1299,) <class 'numpy.int64'>\n"
     ]
    }
   ],
   "source": [
    "import numpy as np\n",
    "\n",
    "train_sequences = np.array(train['opcode'].tolist())\n",
    "train_labels = np.array(train['swc_label'].tolist())\n",
    "\n",
    "test_sequences = np.array(test['opcode'].tolist())\n",
    "test_labels = np.array(test['swc_label'].tolist())\n",
    "\n",
    "val_sequences = np.array(val['opcode'].tolist())\n",
    "val_labels = np.array(val['swc_label'].tolist())\n",
    "\n",
    "print(\"Train-Sequences\", train_sequences.shape, type(train_sequences[0]))\n",
    "print(\"Train-Labels\", train_labels.shape, type(train_labels[0]))\n",
    " \n",
    "print(\"Test-Sequences\", test_sequences.shape, type(test_sequences[0]))\n",
    "print(\"Test-Labels\", test_labels.shape, type(test_labels[0]))\n",
    " \n",
    "print(\"Validiation-Sequences\", val_sequences.shape, type(val_sequences[0]))\n",
    "print(\"Validiation-Labels\", val_labels.shape, type(val_labels[0]))"
   ]
  },
  {
   "cell_type": "markdown",
   "metadata": {},
   "source": [
    "## Create & Evaluate the Deep-Learning Model (RNN based on LSTM architecture)"
   ]
  },
  {
   "cell_type": "markdown",
   "metadata": {},
   "source": [
    "### 1. Define the Hyper-Parameters"
   ]
  },
  {
   "cell_type": "code",
   "execution_count": 5,
   "metadata": {},
   "outputs": [],
   "source": [
    "OPCODE_SEQ_LEN = 1800\n",
    "EMBEDDING_DIM = 50\n",
    "NUM_EPOCS = 128\n",
    "BATCH_SIZE = 1"
   ]
  },
  {
   "cell_type": "markdown",
   "metadata": {},
   "source": [
    "### 1A. Import Evaluation metrics"
   ]
  },
  {
   "cell_type": "code",
   "execution_count": 6,
   "metadata": {},
   "outputs": [],
   "source": [
    "from sklearn.metrics import f1_score\n",
    "\n",
    "def f1(y_true, y_pred):\n",
    "    return f1_score(y_true, y_pred)\n",
    "\n",
    "def f1M(y_true, y_pred):\n",
    "    return f1_score(y_true, y_pred, average='macro')"
   ]
  },
  {
   "cell_type": "markdown",
   "metadata": {},
   "source": [
    "### 2. Define the Neural Network Structure (Layers)"
   ]
  },
  {
   "cell_type": "code",
   "execution_count": 7,
   "metadata": {},
   "outputs": [
    {
     "name": "stderr",
     "output_type": "stream",
     "text": [
      "2022-11-08 19:32:12.616356: I tensorflow/compiler/jit/xla_cpu_device.cc:41] Not creating XLA devices, tf_xla_enable_xla_devices not set\n",
      "2022-11-08 19:32:12.616904: I tensorflow/core/platform/cpu_feature_guard.cc:142] This TensorFlow binary is optimized with oneAPI Deep Neural Network Library (oneDNN) to use the following CPU instructions in performance-critical operations:  SSE4.1 SSE4.2 AVX AVX2 FMA\n",
      "To enable them in other operations, rebuild TensorFlow with the appropriate compiler flags.\n",
      "2022-11-08 19:32:12.625402: I tensorflow/core/common_runtime/process_util.cc:146] Creating new thread pool with default inter op setting: 2. Tune using inter_op_parallelism_threads for best performance.\n"
     ]
    },
    {
     "name": "stdout",
     "output_type": "stream",
     "text": [
      "Model: \"model\"\n",
      "_________________________________________________________________\n",
      "Layer (type)                 Output Shape              Param #   \n",
      "=================================================================\n",
      "input_1 (InputLayer)         [(None, 1800)]            0         \n",
      "_________________________________________________________________\n",
      "embedding (Embedding)        (None, 1800, 50)          7500      \n",
      "_________________________________________________________________\n",
      "lstm1 (LSTM)                 (None, 1800, 128)         91648     \n",
      "_________________________________________________________________\n",
      "lstm2 (LSTM)                 (None, 1800, 64)          49408     \n",
      "_________________________________________________________________\n",
      "hi_layer (Dense)             (None, 1800, 256)         16640     \n",
      "_________________________________________________________________\n",
      "dropout (Dropout)            (None, 1800, 256)         0         \n",
      "_________________________________________________________________\n",
      "out_layer (Dense)            (None, 1800, 1)           257       \n",
      "=================================================================\n",
      "Total params: 165,453\n",
      "Trainable params: 165,453\n",
      "Non-trainable params: 0\n",
      "_________________________________________________________________\n"
     ]
    }
   ],
   "source": [
    "import tensorflow as tf\n",
    "from tensorflow.python.keras import layers, models, applications, Input, Model\n",
    "from tensorflow.keras.layers import Convolution2D, MaxPooling2D, UpSampling2D\n",
    "\n",
    "\n",
    "input = Input(shape=(OPCODE_SEQ_LEN,))\n",
    "\n",
    "embd = tf.keras.layers.Embedding(150, EMBEDDING_DIM, input_length=OPCODE_SEQ_LEN)(input)\n",
    "lstm1 = tf.keras.layers.LSTM(128, name='lstm1', return_sequences=True)(embd)\n",
    "lstm2 = tf.keras.layers.LSTM(64, name='lstm2', return_sequences=True)(lstm1)\n",
    "dense1 = tf.keras.layers.Dense(256, name='hi_layer', activation='relu')(lstm2)\n",
    "drop1 = tf.keras.layers.Dropout(0.5)(dense1)\n",
    "output = tf.keras.layers.Dense(1, name='out_layer', activation='sigmoid')(drop1)\n",
    "\n",
    "# model = CustomModel(input, output)\n",
    "model = Model(input, output)\n",
    "\n",
    "model.summary()\n"
   ]
  },
  {
   "cell_type": "code",
   "execution_count": 8,
   "metadata": {},
   "outputs": [
    {
     "name": "stdout",
     "output_type": "stream",
     "text": [
      "KerasTensor(type_spec=TensorSpec(shape=(None, 1800, 64), dtype=tf.float32, name=None), name='tf.keras.backend.print_tensor/Identity:0', description=\"created by layer 'tf.keras.backend.print_tensor'\")\n"
     ]
    }
   ],
   "source": [
    "import tensorflow.keras.backend as K\n",
    "\n",
    "tensor = K.print_tensor(lstm2)\n",
    "\n",
    "print(tensor)\n",
    "\n",
    "from model import callback\n"
   ]
  },
  {
   "cell_type": "markdown",
   "metadata": {},
   "source": [
    "### 3. Compile the model"
   ]
  },
  {
   "cell_type": "code",
   "execution_count": 9,
   "metadata": {},
   "outputs": [],
   "source": [
    "model.compile(loss='binary_crossentropy', optimizer='adam',\n",
    "              metrics=['accuracy'], run_eagerly=True)\n"
   ]
  },
  {
   "cell_type": "markdown",
   "metadata": {},
   "source": [
    "### 4. Fit and train the RNN model with Training and Validiation Data"
   ]
  },
  {
   "cell_type": "code",
   "execution_count": 10,
   "metadata": {},
   "outputs": [
    {
     "ename": "TypeError",
     "evalue": "__init__() missing 1 required positional argument: 'data'",
     "output_type": "error",
     "traceback": [
      "\u001b[0;31m---------------------------------------------------------------------------\u001b[0m",
      "\u001b[0;31mTypeError\u001b[0m                                 Traceback (most recent call last)",
      "\u001b[0;32m/tmp/ipykernel_6067/2828075973.py\u001b[0m in \u001b[0;36m<module>\u001b[0;34m\u001b[0m\n\u001b[1;32m      2\u001b[0m  \u001b[0mepochs\u001b[0m\u001b[0;34m=\u001b[0m\u001b[0mNUM_EPOCS\u001b[0m\u001b[0;34m,\u001b[0m\u001b[0;34m\u001b[0m\u001b[0;34m\u001b[0m\u001b[0m\n\u001b[1;32m      3\u001b[0m  \u001b[0mvalidation_data\u001b[0m\u001b[0;34m=\u001b[0m\u001b[0;34m(\u001b[0m\u001b[0mval_sequences\u001b[0m\u001b[0;34m,\u001b[0m \u001b[0mval_labels\u001b[0m\u001b[0;34m)\u001b[0m\u001b[0;34m,\u001b[0m\u001b[0;34m\u001b[0m\u001b[0;34m\u001b[0m\u001b[0m\n\u001b[0;32m----> 4\u001b[0;31m     batch_size=BATCH_SIZE, verbose=1, callbacks=[callback(model=model)])\n\u001b[0m",
      "\u001b[0;31mTypeError\u001b[0m: __init__() missing 1 required positional argument: 'data'"
     ]
    }
   ],
   "source": [
    "history = model.fit(train_sequences, train_labels, \n",
    " epochs=NUM_EPOCS, \n",
    " validation_data=(val_sequences, val_labels),\n",
    "    batch_size=BATCH_SIZE, verbose=1, callbacks=[callback(model=model, data=train_sequences[0])])\n"
   ]
  },
  {
   "cell_type": "markdown",
   "metadata": {},
   "source": [
    "### 5. Evaluate performance of model using Testing DataSet"
   ]
  },
  {
   "cell_type": "code",
   "execution_count": null,
   "metadata": {},
   "outputs": [],
   "source": [
    "results = model.evaluate(test_sequences, test_labels, batch_size=BATCH_SIZE)\n",
    "print(\"Test Loss, Test Accuracy:\", results)"
   ]
  },
  {
   "cell_type": "markdown",
   "metadata": {},
   "source": [
    "### 6. Save the model as HDF5 file"
   ]
  },
  {
   "cell_type": "code",
   "execution_count": null,
   "metadata": {},
   "outputs": [],
   "source": [
    "model.save(f'./models/model_{TRAIN_SAMPLING_TECHNIQUE}_{TEST_SAMPLING_TECHNIQUE}_{NUM_EPOCS}.h5') "
   ]
  },
  {
   "cell_type": "code",
   "execution_count": null,
   "metadata": {},
   "outputs": [],
   "source": [
    "# Save History as Pickle\n",
    "import pickle\n",
    "with open(f'./models/history_{TRAIN_SAMPLING_TECHNIQUE}_{TEST_SAMPLING_TECHNIQUE}_{NUM_EPOCS}.pickle', 'wb') as fh:\n",
    " pickle.dump(history.history, fh)\n",
    "\n",
    "# Save Results as Pickle\n",
    "import pickle\n",
    "with open(f'./models/results_{TRAIN_SAMPLING_TECHNIQUE}_{TEST_SAMPLING_TECHNIQUE}_{NUM_EPOCS}.pickle', 'wb') as fh:\n",
    " pickle.dump(results, fh)"
   ]
  },
  {
   "cell_type": "markdown",
   "metadata": {},
   "source": [
    "### 7. Plot performance metrics of the Deep-Learning Model "
   ]
  },
  {
   "cell_type": "code",
   "execution_count": null,
   "metadata": {},
   "outputs": [],
   "source": [
    "import matplotlib.pyplot as plt\n",
    "import seaborn as sns\n",
    "sns.set()"
   ]
  },
  {
   "cell_type": "code",
   "execution_count": null,
   "metadata": {},
   "outputs": [],
   "source": [
    "# Accuracy Metrics\n",
    "plt.plot(history.history['accuracy'])\n",
    "plt.plot(history.history['val_accuracy'])\n",
    "plt.xlabel(\"Epochs\")\n",
    "plt.ylabel('Accuracy')\n",
    "plt.legend(['accuracy', 'val_accuracy'])\n",
    "plt.show()"
   ]
  },
  {
   "cell_type": "code",
   "execution_count": null,
   "metadata": {},
   "outputs": [],
   "source": [
    "# Loss Metrics\n",
    "plt.plot(history.history['loss'])\n",
    "plt.plot(history.history['val_loss'])\n",
    "plt.xlabel(\"Epochs\")\n",
    "plt.ylabel('Loss')\n",
    "plt.legend(['loss', 'val_loss'])\n",
    "plt.show()"
   ]
  },
  {
   "cell_type": "code",
   "execution_count": null,
   "metadata": {},
   "outputs": [
    {
     "name": "stdout",
     "output_type": "stream",
     "text": [
      "128/128 [==============================] - 9s 71ms/step\n",
      "   2/2180 [..............................] - ETA: 20:51WARNING:tensorflow:Method (on_predict_batch_end) is slow compared to the batch update (0.759906). Check your callbacks.\n",
      "2180/2180 [==============================] - 168s 77ms/step\n",
      "Train Metrics\n",
      "-------------------------\n",
      "Accuracy: 0.997128\n",
      "Precision: 0.995977\n",
      "Recall: 0.998285\n",
      "F1 score: 0.997130\n",
      "F1-Macro score: 0.997128\n",
      "[[139006    562]\n",
      " [   239 139129]]\n",
      "Test Metrics\n",
      "-------------------------\n",
      "Accuracy: 0.977043\n",
      "Precision: 0.986637\n",
      "Recall: 0.967189\n",
      "F1 score: 0.976816\n",
      "F1-Macro score: 0.977041\n",
      "[[8060  107]\n",
      " [ 268 7900]]\n"
     ]
    }
   ],
   "source": [
    "pred_test_classes = model.predict_classes(test_sequences, verbose=1, batch_size=128)\n",
    "pred_train_classes = model.predict_classes(train_sequences, verbose=1, batch_size=128)\n",
    "\n",
    "from sklearn.metrics import accuracy_score\n",
    "from sklearn.metrics import precision_score\n",
    "from sklearn.metrics import recall_score\n",
    "from sklearn.metrics import f1_score\n",
    "from sklearn.metrics import cohen_kappa_score\n",
    "from sklearn.metrics import roc_auc_score\n",
    "from sklearn.metrics import confusion_matrix\n",
    "\n",
    "print('Train Metrics\\n-------------------------')\n",
    "# accuracy: (tp + tn) / (p + n)\n",
    "accuracy = accuracy_score(train_labels, pred_train_classes)\n",
    "print('Accuracy: %f' % accuracy)\n",
    "# precision tp / (tp + fp)\n",
    "precision = precision_score(train_labels, pred_train_classes)\n",
    "print('Precision: %f' % precision)\n",
    "# recall: tp / (tp + fn)\n",
    "recall = recall_score(train_labels, pred_train_classes)\n",
    "print('Recall: %f' % recall)\n",
    "# f1: 2 tp / (2 tp + fp + fn)\n",
    "f1 = f1_score(train_labels, pred_train_classes)\n",
    "print('F1 score: %f' % f1)\n",
    "f1M = f1_score(train_labels, pred_train_classes, average='macro')\n",
    "print('F1-Macro score: %f' % f1M)\n",
    "# confusion matrix\n",
    "matrix = confusion_matrix(train_labels, pred_train_classes)\n",
    "print(matrix)\n",
    "\n",
    "print('Test Metrics\\n-------------------------')\n",
    "# accuracy: (tp + tn) / (p + n)\n",
    "accuracy = accuracy_score(test_labels, pred_test_classes)\n",
    "print('Accuracy: %f' % accuracy)\n",
    "# precision tp / (tp + fp)\n",
    "precision = precision_score(test_labels, pred_test_classes)\n",
    "print('Precision: %f' % precision)\n",
    "# recall: tp / (tp + fn)\n",
    "recall = recall_score(test_labels, pred_test_classes)\n",
    "print('Recall: %f' % recall)\n",
    "# f1: 2 tp / (2 tp + fp + fn)\n",
    "f1 = f1_score(test_labels, pred_test_classes)\n",
    "print('F1 score: %f' % f1)\n",
    "f1M = f1_score(test_labels, pred_test_classes, average='macro')\n",
    "print('F1-Macro score: %f' % f1M)\n",
    "# confusion matrix\n",
    "matrix = confusion_matrix(test_labels, pred_test_classes)\n",
    "print(matrix)"
   ]
  },
  {
   "cell_type": "code",
   "execution_count": null,
   "metadata": {},
   "outputs": [],
   "source": []
  }
 ],
 "metadata": {
  "kernelspec": {
   "display_name": "Python 3.7.2 ('py3')",
   "language": "python",
   "name": "python3"
  },
  "language_info": {
   "codemirror_mode": {
    "name": "ipython",
    "version": 3
   },
   "file_extension": ".py",
   "mimetype": "text/x-python",
   "name": "python",
   "nbconvert_exporter": "python",
   "pygments_lexer": "ipython3",
   "version": "3.7.2"
  },
  "vscode": {
   "interpreter": {
    "hash": "7c4f77bdfc014eba12b1ac757acf37bc32ed4055cc87d3473a38b1b99ddf1e54"
   }
  }
 },
 "nbformat": 4,
 "nbformat_minor": 4
}
