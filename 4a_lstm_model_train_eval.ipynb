{
 "cells": [
  {
   "cell_type": "markdown",
   "metadata": {},
   "source": [
    "## SET ENVIRONMENT VARIABLES"
   ]
  },
  {
   "cell_type": "code",
   "execution_count": 1,
   "metadata": {},
   "outputs": [
    {
     "name": "stdout",
     "output_type": "stream",
     "text": [
      "7\n"
     ]
    }
   ],
   "source": [
    "import os\n",
    "os.environ[\"CUDA_VISIBLE_DEVICES\"] = \"7\"\n",
    "\n",
    "print(os.environ[\"CUDA_VISIBLE_DEVICES\"])"
   ]
  },
  {
   "cell_type": "markdown",
   "metadata": {},
   "source": [
    "## Import and Prepare the DataSets"
   ]
  },
  {
   "cell_type": "markdown",
   "metadata": {},
   "source": [
    "### 1. Import Train & Test CSV(s)"
   ]
  },
  {
   "cell_type": "code",
   "execution_count": 2,
   "metadata": {},
   "outputs": [
    {
     "name": "stdout",
     "output_type": "stream",
     "text": [
      "                                                  opcode  swc_label\n",
      "0      [2, 2, 10, 2, 50, 33, 5, 13, 2, 30, 62, 3, 32,...          0\n",
      "1      [2, 2, 10, 31, 4, 12, 5, 13, 2, 4, 22, 8, 6, 2...          0\n",
      "2      [2, 2, 10, 2, 50, 33, 5, 13, 2, 30, 62, 3, 32,...          0\n",
      "3      [2, 2, 10, 2, 50, 33, 5, 13, 2, 30, 62, 3, 32,...          0\n",
      "4      [2, 2, 10, 2, 30, 62, 3, 32, 25, 11, 4, 25, 26...          1\n",
      "...                                                  ...        ...\n",
      "21931  [2, 2, 10, 19, 35, 22, 39, 17, 38, 2, 12, 26, ...          1\n",
      "21932  [2, 2, 10, 13, 40, 26, 6, 15, 2, 23, 52, 2, 31...          1\n",
      "21933  [2, 2, 10, 30, 7, 12, 8, 13, 30, 46, 4, 29, 16...          1\n",
      "21934  [95, 21, 26, 12, 66, 13, 21, 97, 0, 0, 0, 0, 0...          1\n",
      "21935  [2, 2, 10, 2, 30, 62, 3, 32, 15, 17, 13, 16, 2...          1\n",
      "\n",
      "[21936 rows x 2 columns]                                                  opcode  swc_label\n",
      "0     [2, 2, 10, 31, 4, 12, 5, 13, 2, 4, 22, 8, 6, 2...          0\n",
      "1     [2, 2, 10, 2, 50, 33, 5, 13, 25, 62, 2, 30, 32...          0\n",
      "2     [2, 2, 10, 2, 50, 33, 5, 13, 2, 30, 62, 3, 32,...          0\n",
      "3     [2, 2, 10, 2, 50, 33, 5, 13, 25, 62, 2, 30, 32...          0\n",
      "4     [2, 2, 10, 50, 12, 5, 13, 2, 30, 62, 3, 32, 4,...          0\n",
      "...                                                 ...        ...\n",
      "2593  [95, 21, 26, 12, 66, 13, 21, 97, 0, 0, 0, 0, 0...          1\n",
      "2594  [2, 2, 10, 25, 62, 2, 30, 32, 11, 25, 7, 26, 2...          1\n",
      "2595  [95, 21, 26, 12, 66, 13, 21, 97, 0, 0, 0, 0, 0...          1\n",
      "2596  [2, 2, 10, 50, 12, 5, 13, 25, 2, 2, 23, 2, 30,...          1\n",
      "2597  [2, 2, 10, 2, 50, 33, 5, 13, 25, 62, 2, 30, 32...          1\n",
      "\n",
      "[2598 rows x 2 columns]\n"
     ]
    }
   ],
   "source": [
    "import pandas as pd\n",
    "import json\n",
    "\n",
    "# Set the TRAIN_SAMPLING_TECHNIQUE as follows\n",
    "# SMOTE ---> 'sm'\n",
    "# SMOTETomek ---> 'smt'\n",
    "# ADASYN ---> 'ada'\n",
    "TRAIN_SAMPLING_TECHNIQUE = 'sm'\n",
    "\n",
    "# Set the TEST_SAMPLING_TECHNIQUE as follows\n",
    "# RandomUnderSampler ---> 'rus'\n",
    "# TomekLinks ---> 'tmk'\n",
    "TEST_SAMPLING_TECHNIQUE = 'rus'\n",
    "\n",
    "# Importing Training Set\n",
    "train = pd.read_csv(f'./split_ds/opcode_{TRAIN_SAMPLING_TECHNIQUE}_TRAIN.csv')\n",
    "train['opcode'] = train['opcode'].apply(lambda x: json.loads(x))\n",
    "\n",
    "# Importing Testing Set\n",
    "test = pd.read_csv(f'./split_ds/opcode_{TEST_SAMPLING_TECHNIQUE}_TEST.csv')\n",
    "test['opcode'] = test['opcode'].apply(lambda x: json.loads(x))\n",
    "\n",
    "print(train, test)"
   ]
  },
  {
   "cell_type": "markdown",
   "metadata": {},
   "source": [
    "### 2. Split the Test DataSet into Testing and Validiation DataSet"
   ]
  },
  {
   "cell_type": "code",
   "execution_count": 3,
   "metadata": {},
   "outputs": [],
   "source": [
    "from sklearn.model_selection import train_test_split\n",
    "test, val = train_test_split(test, test_size=0.5, random_state=69, shuffle=True, stratify=test['swc_label'])"
   ]
  },
  {
   "cell_type": "markdown",
   "metadata": {},
   "source": [
    "### 3. Convert DataFrame(s) to Numpy N-D Array(s)"
   ]
  },
  {
   "cell_type": "code",
   "execution_count": 4,
   "metadata": {},
   "outputs": [
    {
     "name": "stderr",
     "output_type": "stream",
     "text": [
      "/home/halder/.conda/envs/py3/lib/python3.7/site-packages/torch/package/_directory_reader.py:17: UserWarning: Failed to initialize NumPy: module compiled against API version 0xe but this version of numpy is 0xd (Triggered internally at  /opt/conda/conda-bld/pytorch_1648016052946/work/torch/csrc/utils/tensor_numpy.cpp:68.)\n",
      "  _dtype_to_storage = {data_type(0).dtype: data_type for data_type in _storages}\n"
     ]
    }
   ],
   "source": [
    "import torch\n",
    "from torch.autograd import Variable\n",
    "\n",
    "def pandas2tensor(data, X=True):\n",
    "    tensor = Variable(torch.Tensor(data.tolist()))\n",
    "    if X:\n",
    "        return torch.reshape(tensor, (tensor.shape[0], 1, tensor.shape[1]))\n",
    "    else:\n",
    "        return tensor\n"
   ]
  },
  {
   "cell_type": "code",
   "execution_count": 5,
   "metadata": {},
   "outputs": [
    {
     "name": "stdout",
     "output_type": "stream",
     "text": [
      "Train-Sequences torch.Size([21936, 1, 1800]) <class 'torch.Tensor'>\n",
      "Train-Labels torch.Size([21936]) <class 'torch.Tensor'>\n",
      "Test-Sequences torch.Size([1299, 1, 1800]) <class 'torch.Tensor'>\n",
      "Test-Labels torch.Size([1299]) <class 'torch.Tensor'>\n",
      "Validiation-Sequences torch.Size([1299, 1, 1800]) <class 'torch.Tensor'>\n",
      "Validiation-Labels torch.Size([1299]) <class 'torch.Tensor'>\n"
     ]
    }
   ],
   "source": [
    "train_sequences = pandas2tensor(train['opcode'])\n",
    "train_labels = pandas2tensor(train['swc_label'], X=False)\n",
    "\n",
    "test_sequences = pandas2tensor(test['opcode'])\n",
    "test_labels = pandas2tensor(test['swc_label'], X=False)\n",
    "\n",
    "val_sequences = pandas2tensor(val['opcode'])\n",
    "val_labels = pandas2tensor(val['swc_label'], X=False)\n",
    "\n",
    "print(\"Train-Sequences\", train_sequences.shape, type(train_sequences[0]))\n",
    "print(\"Train-Labels\", train_labels.shape, type(train_labels[0]))\n",
    " \n",
    "print(\"Test-Sequences\", test_sequences.shape, type(test_sequences[0]))\n",
    "print(\"Test-Labels\", test_labels.shape, type(test_labels[0]))\n",
    " \n",
    "print(\"Validiation-Sequences\", val_sequences.shape, type(val_sequences[0]))\n",
    "print(\"Validiation-Labels\", val_labels.shape, type(val_labels[0]))\n"
   ]
  },
  {
   "cell_type": "markdown",
   "metadata": {},
   "source": [
    "## Create & Evaluate the Deep-Learning Model (RNN based on LSTM architecture)"
   ]
  },
  {
   "cell_type": "markdown",
   "metadata": {},
   "source": [
    "### 1. Define the Hyper-Parameters"
   ]
  },
  {
   "cell_type": "code",
   "execution_count": 6,
   "metadata": {},
   "outputs": [],
   "source": [
    "OPCODE_SEQ_LEN = 1800\n",
    "EMBEDDING_DIM = 50\n",
    "NUM_EPOCS = 128\n",
    "BATCH_SIZE = 128\n",
    "\n",
    "LEARNING_RATE = 0.001  # 0.001 lr\n",
    "INPUT_SIZE = 1800  # number of features\n",
    "HIDDEN_SIZE = 2  # number of features in hidden state\n",
    "NUM_LAYERS = 1  # number of stacked lstm layers\n",
    "NUM_CLASSES = 1  # number of output classes"
   ]
  },
  {
   "cell_type": "markdown",
   "metadata": {},
   "source": [
    "### 1A. Import Evaluation metrics"
   ]
  },
  {
   "cell_type": "code",
   "execution_count": 7,
   "metadata": {},
   "outputs": [],
   "source": [
    "from sklearn.metrics import f1_score\n",
    "\n",
    "def f1(y_true, y_pred):\n",
    "    return f1_score(y_true, y_pred)\n",
    "\n",
    "def f1M(y_true, y_pred):\n",
    "    return f1_score(y_true, y_pred, average='macro')"
   ]
  },
  {
   "cell_type": "markdown",
   "metadata": {},
   "source": [
    "### 2. Define the Neural Network Structure (Layers)"
   ]
  },
  {
   "cell_type": "code",
   "execution_count": 8,
   "metadata": {},
   "outputs": [
    {
     "ename": "NameError",
     "evalue": "name 'X' is not defined",
     "output_type": "error",
     "traceback": [
      "\u001b[0;31m---------------------------------------------------------------------------\u001b[0m",
      "\u001b[0;31mNameError\u001b[0m                                 Traceback (most recent call last)",
      "\u001b[0;32m/tmp/ipykernel_87826/745723979.py\u001b[0m in \u001b[0;36m<module>\u001b[0;34m\u001b[0m\n\u001b[0;32m----> 1\u001b[0;31m \u001b[0;32mfrom\u001b[0m \u001b[0mmodel\u001b[0m \u001b[0;32mimport\u001b[0m \u001b[0mLSTM\u001b[0m\u001b[0;34m\u001b[0m\u001b[0;34m\u001b[0m\u001b[0m\n\u001b[0m\u001b[1;32m      2\u001b[0m \u001b[0;34m\u001b[0m\u001b[0m\n\u001b[1;32m      3\u001b[0m model = LSTM(num_classes=NUM_CLASSES, input_size=INPUT_SIZE, \n\u001b[1;32m      4\u001b[0m     \u001b[0mhidden_size\u001b[0m\u001b[0;34m=\u001b[0m\u001b[0mHIDDEN_SIZE\u001b[0m\u001b[0;34m,\u001b[0m \u001b[0mnum_layers\u001b[0m\u001b[0;34m=\u001b[0m\u001b[0mNUM_LAYERS\u001b[0m\u001b[0;34m,\u001b[0m\u001b[0;34m\u001b[0m\u001b[0;34m\u001b[0m\u001b[0m\n\u001b[1;32m      5\u001b[0m     seq_length=train_sequences.shape[1])\n",
      "\u001b[0;32m~/Arnab/soli-swc/model.py\u001b[0m in \u001b[0;36m<module>\u001b[0;34m\u001b[0m\n\u001b[1;32m     40\u001b[0m \u001b[0;34m\u001b[0m\u001b[0m\n\u001b[1;32m     41\u001b[0m \u001b[0;34m\u001b[0m\u001b[0m\n\u001b[0;32m---> 42\u001b[0;31m \u001b[0;32mclass\u001b[0m \u001b[0mLSTM\u001b[0m\u001b[0;34m(\u001b[0m\u001b[0;34m)\u001b[0m\u001b[0;34m:\u001b[0m\u001b[0;34m\u001b[0m\u001b[0;34m\u001b[0m\u001b[0m\n\u001b[0m\u001b[1;32m     43\u001b[0m     \u001b[0;32mdef\u001b[0m \u001b[0m__init__\u001b[0m\u001b[0;34m(\u001b[0m\u001b[0mself\u001b[0m\u001b[0;34m,\u001b[0m \u001b[0mnum_classes\u001b[0m\u001b[0;34m,\u001b[0m \u001b[0minput_size\u001b[0m\u001b[0;34m,\u001b[0m \u001b[0mhidden_size\u001b[0m\u001b[0;34m,\u001b[0m \u001b[0mnum_layers\u001b[0m\u001b[0;34m,\u001b[0m \u001b[0mseq_length\u001b[0m\u001b[0;34m)\u001b[0m \u001b[0;34m->\u001b[0m \u001b[0mLSTMNet\u001b[0m\u001b[0;34m:\u001b[0m\u001b[0;34m\u001b[0m\u001b[0;34m\u001b[0m\u001b[0m\n\u001b[1;32m     44\u001b[0m         self.model = LSTMNet(num_classes, input_size,\n",
      "\u001b[0;32m~/Arnab/soli-swc/model.py\u001b[0m in \u001b[0;36mLSTM\u001b[0;34m()\u001b[0m\n\u001b[1;32m     54\u001b[0m \u001b[0;34m\u001b[0m\u001b[0m\n\u001b[1;32m     55\u001b[0m     \u001b[0;31m# Divide into batches\u001b[0m\u001b[0;34m\u001b[0m\u001b[0;34m\u001b[0m\u001b[0;34m\u001b[0m\u001b[0m\n\u001b[0;32m---> 56\u001b[0;31m     \u001b[0mX_batches\u001b[0m \u001b[0;34m=\u001b[0m \u001b[0mtorch\u001b[0m\u001b[0;34m.\u001b[0m\u001b[0msplit\u001b[0m\u001b[0;34m(\u001b[0m\u001b[0mX\u001b[0m\u001b[0;34m,\u001b[0m \u001b[0mbatch_size\u001b[0m\u001b[0;34m)\u001b[0m\u001b[0;34m\u001b[0m\u001b[0;34m\u001b[0m\u001b[0m\n\u001b[0m\u001b[1;32m     57\u001b[0m     \u001b[0my_batches\u001b[0m \u001b[0;34m=\u001b[0m \u001b[0mtorch\u001b[0m\u001b[0;34m.\u001b[0m\u001b[0msplit\u001b[0m\u001b[0;34m(\u001b[0m\u001b[0my\u001b[0m\u001b[0;34m,\u001b[0m \u001b[0mbatch_size\u001b[0m\u001b[0;34m)\u001b[0m\u001b[0;34m\u001b[0m\u001b[0;34m\u001b[0m\u001b[0m\n\u001b[1;32m     58\u001b[0m \u001b[0;34m\u001b[0m\u001b[0m\n",
      "\u001b[0;31mNameError\u001b[0m: name 'X' is not defined"
     ]
    }
   ],
   "source": [
    "from model import LSTM\n",
    "\n",
    "model = LSTM(num_classes=NUM_CLASSES, input_size=INPUT_SIZE, \n",
    "    hidden_size=HIDDEN_SIZE, num_layers=NUM_LAYERS, \n",
    "    seq_length=train_sequences.shape[1])\n",
    "\n",
    "model.model"
   ]
  },
  {
   "cell_type": "markdown",
   "metadata": {},
   "source": [
    "### 3. Compile the model"
   ]
  },
  {
   "cell_type": "code",
   "execution_count": null,
   "metadata": {},
   "outputs": [],
   "source": [
    "model.compile(learning_rate=LEARNING_RATE)"
   ]
  },
  {
   "cell_type": "markdown",
   "metadata": {},
   "source": [
    "### 4. Fit and train the RNN model with Training and Validiation Data"
   ]
  },
  {
   "cell_type": "code",
   "execution_count": null,
   "metadata": {},
   "outputs": [
    {
     "ename": "SyntaxError",
     "evalue": "invalid syntax (2164458196.py, line 2)",
     "output_type": "error",
     "traceback": [
      "\u001b[0;36m  File \u001b[0;32m\"/tmp/ipykernel_79626/2164458196.py\"\u001b[0;36m, line \u001b[0;32m2\u001b[0m\n\u001b[0;31m    X_validation=val_sequences, y_validation=val_labels)\u001b[0m\n\u001b[0m               ^\u001b[0m\n\u001b[0;31mSyntaxError\u001b[0m\u001b[0;31m:\u001b[0m invalid syntax\n"
     ]
    }
   ],
   "source": [
    "model.fit(num_epochs=NUM_EPOCS, X=train_sequences, y=train_labels, batch_size=1,\n",
    "    X_validation=val_sequences, y_validation=val_labels)\n"
   ]
  },
  {
   "cell_type": "markdown",
   "metadata": {},
   "source": [
    "### 5. Evaluate performance of model using Testing DataSet"
   ]
  },
  {
   "cell_type": "code",
   "execution_count": null,
   "metadata": {},
   "outputs": [],
   "source": [
    "results = model.evaluate(test_sequences, test_labels, batch_size=BATCH_SIZE)\n",
    "print(\"Test Loss, Test Accuracy:\", results)"
   ]
  },
  {
   "cell_type": "markdown",
   "metadata": {},
   "source": [
    "### 6. Save the model as HDF5 file"
   ]
  },
  {
   "cell_type": "code",
   "execution_count": null,
   "metadata": {},
   "outputs": [],
   "source": [
    "model.save(f'./models/model_{TRAIN_SAMPLING_TECHNIQUE}_{TEST_SAMPLING_TECHNIQUE}_{NUM_EPOCS}.h5') "
   ]
  },
  {
   "cell_type": "code",
   "execution_count": null,
   "metadata": {},
   "outputs": [],
   "source": [
    "# Save History as Pickle\n",
    "import pickle\n",
    "with open(f'./models/history_{TRAIN_SAMPLING_TECHNIQUE}_{TEST_SAMPLING_TECHNIQUE}_{NUM_EPOCS}.pickle', 'wb') as fh:\n",
    " pickle.dump(history.history, fh)\n",
    "\n",
    "# Save Results as Pickle\n",
    "import pickle\n",
    "with open(f'./models/results_{TRAIN_SAMPLING_TECHNIQUE}_{TEST_SAMPLING_TECHNIQUE}_{NUM_EPOCS}.pickle', 'wb') as fh:\n",
    " pickle.dump(results, fh)"
   ]
  },
  {
   "cell_type": "markdown",
   "metadata": {},
   "source": [
    "### 7. Plot performance metrics of the Deep-Learning Model "
   ]
  },
  {
   "cell_type": "code",
   "execution_count": null,
   "metadata": {},
   "outputs": [],
   "source": [
    "import matplotlib.pyplot as plt\n",
    "import seaborn as sns\n",
    "sns.set()"
   ]
  },
  {
   "cell_type": "code",
   "execution_count": null,
   "metadata": {},
   "outputs": [],
   "source": [
    "# Accuracy Metrics\n",
    "plt.plot(history.history['accuracy'])\n",
    "plt.plot(history.history['val_accuracy'])\n",
    "plt.xlabel(\"Epochs\")\n",
    "plt.ylabel('Accuracy')\n",
    "plt.legend(['accuracy', 'val_accuracy'])\n",
    "plt.show()"
   ]
  },
  {
   "cell_type": "code",
   "execution_count": null,
   "metadata": {},
   "outputs": [],
   "source": [
    "# Loss Metrics\n",
    "plt.plot(history.history['loss'])\n",
    "plt.plot(history.history['val_loss'])\n",
    "plt.xlabel(\"Epochs\")\n",
    "plt.ylabel('Loss')\n",
    "plt.legend(['loss', 'val_loss'])\n",
    "plt.show()"
   ]
  },
  {
   "cell_type": "code",
   "execution_count": null,
   "metadata": {},
   "outputs": [],
   "source": [
    "pred_test_classes = model.predict_classes(test_sequences, verbose=1, batch_size=128)\n",
    "pred_train_classes = model.predict_classes(train_sequences, verbose=1, batch_size=128)\n",
    "\n",
    "from sklearn.metrics import accuracy_score\n",
    "from sklearn.metrics import precision_score\n",
    "from sklearn.metrics import recall_score\n",
    "from sklearn.metrics import f1_score\n",
    "from sklearn.metrics import cohen_kappa_score\n",
    "from sklearn.metrics import roc_auc_score\n",
    "from sklearn.metrics import confusion_matrix\n",
    "\n",
    "print('Train Metrics\\n-------------------------')\n",
    "# accuracy: (tp + tn) / (p + n)\n",
    "accuracy = accuracy_score(train_labels, pred_train_classes)\n",
    "print('Accuracy: %f' % accuracy)\n",
    "# precision tp / (tp + fp)\n",
    "precision = precision_score(train_labels, pred_train_classes)\n",
    "print('Precision: %f' % precision)\n",
    "# recall: tp / (tp + fn)\n",
    "recall = recall_score(train_labels, pred_train_classes)\n",
    "print('Recall: %f' % recall)\n",
    "# f1: 2 tp / (2 tp + fp + fn)\n",
    "f1 = f1_score(train_labels, pred_train_classes)\n",
    "print('F1 score: %f' % f1)\n",
    "f1M = f1_score(train_labels, pred_train_classes, average='macro')\n",
    "print('F1-Macro score: %f' % f1M)\n",
    "# confusion matrix\n",
    "matrix = confusion_matrix(train_labels, pred_train_classes)\n",
    "print(matrix)\n",
    "\n",
    "print('Test Metrics\\n-------------------------')\n",
    "# accuracy: (tp + tn) / (p + n)\n",
    "accuracy = accuracy_score(test_labels, pred_test_classes)\n",
    "print('Accuracy: %f' % accuracy)\n",
    "# precision tp / (tp + fp)\n",
    "precision = precision_score(test_labels, pred_test_classes)\n",
    "print('Precision: %f' % precision)\n",
    "# recall: tp / (tp + fn)\n",
    "recall = recall_score(test_labels, pred_test_classes)\n",
    "print('Recall: %f' % recall)\n",
    "# f1: 2 tp / (2 tp + fp + fn)\n",
    "f1 = f1_score(test_labels, pred_test_classes)\n",
    "print('F1 score: %f' % f1)\n",
    "f1M = f1_score(test_labels, pred_test_classes, average='macro')\n",
    "print('F1-Macro score: %f' % f1M)\n",
    "# confusion matrix\n",
    "matrix = confusion_matrix(test_labels, pred_test_classes)\n",
    "print(matrix)"
   ]
  },
  {
   "cell_type": "code",
   "execution_count": null,
   "metadata": {},
   "outputs": [],
   "source": []
  }
 ],
 "metadata": {
  "kernelspec": {
   "display_name": "Python 3.7.2 ('py3')",
   "language": "python",
   "name": "python3"
  },
  "language_info": {
   "codemirror_mode": {
    "name": "ipython",
    "version": 3
   },
   "file_extension": ".py",
   "mimetype": "text/x-python",
   "name": "python",
   "nbconvert_exporter": "python",
   "pygments_lexer": "ipython3",
   "version": "3.7.2"
  },
  "vscode": {
   "interpreter": {
    "hash": "7c4f77bdfc014eba12b1ac757acf37bc32ed4055cc87d3473a38b1b99ddf1e54"
   }
  }
 },
 "nbformat": 4,
 "nbformat_minor": 4
}
