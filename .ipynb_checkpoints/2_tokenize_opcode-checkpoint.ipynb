{
 "cells": [
  {
   "cell_type": "markdown",
   "metadata": {},
   "source": [
    "## Import Cleaned OPCODES"
   ]
  },
  {
   "cell_type": "code",
   "execution_count": 22,
   "metadata": {},
   "outputs": [
    {
     "data": {
      "text/html": [
       "<div>\n",
       "<style scoped>\n",
       "    .dataframe tbody tr th:only-of-type {\n",
       "        vertical-align: middle;\n",
       "    }\n",
       "\n",
       "    .dataframe tbody tr th {\n",
       "        vertical-align: top;\n",
       "    }\n",
       "\n",
       "    .dataframe thead th {\n",
       "        text-align: right;\n",
       "    }\n",
       "</style>\n",
       "<table border=\"1\" class=\"dataframe\">\n",
       "  <thead>\n",
       "    <tr style=\"text-align: right;\">\n",
       "      <th></th>\n",
       "      <th>_id</th>\n",
       "      <th>address</th>\n",
       "      <th>opcode</th>\n",
       "      <th>swc_label</th>\n",
       "    </tr>\n",
       "  </thead>\n",
       "  <tbody>\n",
       "    <tr>\n",
       "      <th>0</th>\n",
       "      <td>240000</td>\n",
       "      <td>0x8da4feb3dd3643943c614ca793e8f59baae50544</td>\n",
       "      <td>PUSH1 PUSH1 MSTORE PUSH1 CALLDATASIZE LT PUSH2...</td>\n",
       "      <td>0000000000000000000000000000000000000</td>\n",
       "    </tr>\n",
       "    <tr>\n",
       "      <th>1</th>\n",
       "      <td>240001</td>\n",
       "      <td>0xe1521029d2591ba2a0f92b6e744a825f665f748b</td>\n",
       "      <td>PUSH1 PUSH1 MSTORE PUSH1 CALLDATASIZE LT PUSH2...</td>\n",
       "      <td>0000000000000000000000000000000000000</td>\n",
       "    </tr>\n",
       "    <tr>\n",
       "      <th>2</th>\n",
       "      <td>240002</td>\n",
       "      <td>0xe378696ce7ad55cfacc40337f476faf8fba9aff2</td>\n",
       "      <td>PUSH1 PUSH1 MSTORE PUSH1 CALLDATASIZE LT PUSH2...</td>\n",
       "      <td>0000000000000000000000000000000000000</td>\n",
       "    </tr>\n",
       "    <tr>\n",
       "      <th>3</th>\n",
       "      <td>240003</td>\n",
       "      <td>0x1872b33bb33e372d6f039a8b6af2e1be228bda23</td>\n",
       "      <td>PUSH1 PUSH1 MSTORE CALLDATASIZE ISZERO PUSH2 J...</td>\n",
       "      <td>0000000000100000000000000000000000000</td>\n",
       "    </tr>\n",
       "    <tr>\n",
       "      <th>4</th>\n",
       "      <td>240004</td>\n",
       "      <td>0x6ef34258c0c8ae7acc688311189dfc783ebb5bfa</td>\n",
       "      <td>ORIGIN PUSH20 EQ ISZERO ADDRESS JUMPI PUSH20 S...</td>\n",
       "      <td>0000000000000001000000000000000000000</td>\n",
       "    </tr>\n",
       "    <tr>\n",
       "      <th>...</th>\n",
       "      <td>...</td>\n",
       "      <td>...</td>\n",
       "      <td>...</td>\n",
       "      <td>...</td>\n",
       "    </tr>\n",
       "    <tr>\n",
       "      <th>253827</th>\n",
       "      <td>29967</td>\n",
       "      <td>0xa8ba70d5c2fae0b92d5ef8607bf7de09916c3027</td>\n",
       "      <td>PUSH1 PUSH1 MSTORE PUSH1 CALLDATALOAD PUSH29 S...</td>\n",
       "      <td>0000001000000000000000000000000000000</td>\n",
       "    </tr>\n",
       "    <tr>\n",
       "      <th>253828</th>\n",
       "      <td>29968</td>\n",
       "      <td>0x69677e5c602c2e495ec059dbda9f46413a192cc0</td>\n",
       "      <td>PUSH1 PUSH1 MSTORE CALLDATASIZE ISZERO PUSH2 J...</td>\n",
       "      <td>0000000000000000000000000000000000000</td>\n",
       "    </tr>\n",
       "    <tr>\n",
       "      <th>253829</th>\n",
       "      <td>29969</td>\n",
       "      <td>0xf82b842bd96282ed2c50a2e64c8de1a9d6862825</td>\n",
       "      <td>PUSH1 PUSH1 MSTORE PUSH1 CALLDATASIZE LT PUSH2...</td>\n",
       "      <td>0000000000000000000000000000000000000</td>\n",
       "    </tr>\n",
       "    <tr>\n",
       "      <th>253830</th>\n",
       "      <td>29970</td>\n",
       "      <td>0x401071960e0201430b5a882ce47300b534bd78ff</td>\n",
       "      <td>PUSH1 PUSH1 MSTORE PUSH1 CALLDATASIZE LT PUSH2...</td>\n",
       "      <td>0000000000100000000000000000000000000</td>\n",
       "    </tr>\n",
       "    <tr>\n",
       "      <th>253831</th>\n",
       "      <td>29971</td>\n",
       "      <td>0xd2fcbec53476bb0fb8e278461cbaf5a949758356</td>\n",
       "      <td>PUSH1 PUSH1 MSTORE PUSH1 CALLDATASIZE LT PUSH2...</td>\n",
       "      <td>0000000000000000000000000000000000000</td>\n",
       "    </tr>\n",
       "  </tbody>\n",
       "</table>\n",
       "<p>253832 rows × 4 columns</p>\n",
       "</div>"
      ],
      "text/plain": [
       "           _id                                     address  \\\n",
       "0       240000  0x8da4feb3dd3643943c614ca793e8f59baae50544   \n",
       "1       240001  0xe1521029d2591ba2a0f92b6e744a825f665f748b   \n",
       "2       240002  0xe378696ce7ad55cfacc40337f476faf8fba9aff2   \n",
       "3       240003  0x1872b33bb33e372d6f039a8b6af2e1be228bda23   \n",
       "4       240004  0x6ef34258c0c8ae7acc688311189dfc783ebb5bfa   \n",
       "...        ...                                         ...   \n",
       "253827   29967  0xa8ba70d5c2fae0b92d5ef8607bf7de09916c3027   \n",
       "253828   29968  0x69677e5c602c2e495ec059dbda9f46413a192cc0   \n",
       "253829   29969  0xf82b842bd96282ed2c50a2e64c8de1a9d6862825   \n",
       "253830   29970  0x401071960e0201430b5a882ce47300b534bd78ff   \n",
       "253831   29971  0xd2fcbec53476bb0fb8e278461cbaf5a949758356   \n",
       "\n",
       "                                                   opcode  \\\n",
       "0       PUSH1 PUSH1 MSTORE PUSH1 CALLDATASIZE LT PUSH2...   \n",
       "1       PUSH1 PUSH1 MSTORE PUSH1 CALLDATASIZE LT PUSH2...   \n",
       "2       PUSH1 PUSH1 MSTORE PUSH1 CALLDATASIZE LT PUSH2...   \n",
       "3       PUSH1 PUSH1 MSTORE CALLDATASIZE ISZERO PUSH2 J...   \n",
       "4       ORIGIN PUSH20 EQ ISZERO ADDRESS JUMPI PUSH20 S...   \n",
       "...                                                   ...   \n",
       "253827  PUSH1 PUSH1 MSTORE PUSH1 CALLDATALOAD PUSH29 S...   \n",
       "253828  PUSH1 PUSH1 MSTORE CALLDATASIZE ISZERO PUSH2 J...   \n",
       "253829  PUSH1 PUSH1 MSTORE PUSH1 CALLDATASIZE LT PUSH2...   \n",
       "253830  PUSH1 PUSH1 MSTORE PUSH1 CALLDATASIZE LT PUSH2...   \n",
       "253831  PUSH1 PUSH1 MSTORE PUSH1 CALLDATASIZE LT PUSH2...   \n",
       "\n",
       "                                    swc_label  \n",
       "0       0000000000000000000000000000000000000  \n",
       "1       0000000000000000000000000000000000000  \n",
       "2       0000000000000000000000000000000000000  \n",
       "3       0000000000100000000000000000000000000  \n",
       "4       0000000000000001000000000000000000000  \n",
       "...                                       ...  \n",
       "253827  0000001000000000000000000000000000000  \n",
       "253828  0000000000000000000000000000000000000  \n",
       "253829  0000000000000000000000000000000000000  \n",
       "253830  0000000000100000000000000000000000000  \n",
       "253831  0000000000000000000000000000000000000  \n",
       "\n",
       "[253832 rows x 4 columns]"
      ]
     },
     "execution_count": 22,
     "metadata": {},
     "output_type": "execute_result"
    }
   ],
   "source": [
    "import pandas as pd\n",
    "\n",
    "opc = pd.read_csv('CDS_opcode_sv1.csv', dtype={'swc_label': object, 'opcode': object})\n",
    "\n",
    "opc"
   ]
  },
  {
   "cell_type": "markdown",
   "metadata": {},
   "source": [
    "## Tokenization"
   ]
  },
  {
   "cell_type": "markdown",
   "metadata": {},
   "source": [
    "### 1. Import Required Libraries"
   ]
  },
  {
   "cell_type": "code",
   "execution_count": 23,
   "metadata": {},
   "outputs": [],
   "source": [
    "from tensorflow.keras.preprocessing.text import Tokenizer\n",
    "from tensorflow.keras.preprocessing.sequence import pad_sequences"
   ]
  },
  {
   "cell_type": "markdown",
   "metadata": {},
   "source": [
    "### 2. Define Hyper-Parameters"
   ]
  },
  {
   "cell_type": "code",
   "execution_count": 24,
   "metadata": {},
   "outputs": [],
   "source": [
    "OPCODE_SIZE = 150\n",
    "OPCODE_SEQ_LEN = 1800\n",
    "TRUNC_TYPE = 'post'\n",
    "PADDING_TYPE = 'post'\n",
    "OOV_TOKEN = '<OOV>'"
   ]
  },
  {
   "cell_type": "markdown",
   "metadata": {},
   "source": [
    "### 3. Create Tokenizer Object"
   ]
  },
  {
   "cell_type": "code",
   "execution_count": 25,
   "metadata": {},
   "outputs": [],
   "source": [
    "tokenizer = Tokenizer(num_words = OPCODE_SIZE, oov_token=OOV_TOKEN)\n",
    "tokenizer.fit_on_texts(opc['opcode'])\n",
    "word_index = tokenizer.word_index"
   ]
  },
  {
   "cell_type": "code",
   "execution_count": 26,
   "metadata": {},
   "outputs": [
    {
     "data": {
      "text/plain": [
       "dict_items([('<OOV>', 1), ('push1', 2), ('swap1', 3), ('dup1', 4), ('push2', 5), ('pop', 6), ('dup2', 7), ('jumpdest', 8), ('add', 9), ('mstore', 10), ('and', 11), ('iszero', 12), ('jumpi', 13), ('swap2', 14), ('mload', 15), ('dup3', 16), ('jump', 17), ('sub', 18), ('dup4', 19), ('sload', 20), ('push20', 21), ('revert', 22), ('exp', 23), ('swap3', 24), ('push4', 25), ('eq', 26), ('sha3', 27), ('dup5', 28), ('mul', 29), ('calldataload', 30), ('callvalue', 31), ('div', 32), ('lt', 33), ('sstore', 34), ('dup6', 35), ('caller', 36), ('swap4', 37), ('assert', 38), ('fail', 39), ('return', 40), ('push32', 41), ('not', 42), ('gt', 43), ('dup7', 44), ('dup8', 45), ('returndatasize', 46), ('swap5', 47), ('stop', 48), ('calldatasize', 49), ('dup9', 50), ('extcodesize', 51), ('call', 52), ('or', 53), ('gas', 54), ('push3', 55), ('swap6', 56), ('shl', 57), ('returndatacopy', 58), ('log3', 59), ('dup10', 60), ('invalid', 61), ('push29', 62), ('swap7', 63), ('dup11', 64), ('address', 65), ('codecopy', 66), ('calldatacopy', 67), ('dup12', 68), ('log1', 69), ('swap8', 70), ('timestamp', 71), ('push8', 72), ('dup13', 73), ('log2', 74), ('swap9', 75), ('push5', 76), ('dup14', 77), ('swap10', 78), ('delegatecall', 79), ('balance', 80), ('push21', 81), ('dup15', 82), ('staticcall', 83), ('swap11', 84), ('push16', 85), ('push6', 86), ('swap12', 87), ('push9', 88), ('number', 89), ('slt', 90), ('suicide', 91), ('origin', 92), ('mod', 93), ('dup16', 94), ('push13', 95), ('push10', 96), ('push7', 97), ('codesize', 98), ('msize', 99), ('signextend', 100), ('log4', 101), ('shr', 102), ('swap13', 103), ('byte', 104), ('push28', 105), ('push31', 106), ('mstore8', 107), ('push19', 108), ('push12', 109), ('push22', 110), ('push15', 111), ('push11', 112), ('gasprice', 113), ('swap15', 114), ('swap14', 115), ('create2', 116), ('push17', 117), ('gaslimit', 118), ('sdiv', 119), ('xor', 120), ('mulmod', 121), ('create', 122), ('push24', 123), ('push14', 124), ('sgt', 125), ('callcode', 126), ('blockhash', 127), ('coinbase', 128), ('push27', 129), ('push25', 130), ('push23', 131), ('difficulty', 132), ('push26', 133), ('addmod', 134), ('push18', 135), ('push30', 136), ('pc', 137), ('swap16', 138), ('chainid', 139), ('extcodecopy', 140), ('extcodehash', 141), ('selfbalance', 142), ('log0', 143), ('smod', 144), ('returnsub', 145), ('sar', 146), ('beginsub', 147), ('jumpsub', 148)])"
      ]
     },
     "execution_count": 26,
     "metadata": {},
     "output_type": "execute_result"
    }
   ],
   "source": [
    "word_index.items()"
   ]
  },
  {
   "cell_type": "code",
   "execution_count": 27,
   "metadata": {},
   "outputs": [],
   "source": [
    "# Save Tokenizer as Pickle\n",
    "import pickle\n",
    "with open('tokenizer.pickle', 'wb') as fh:\n",
    "   pickle.dump(tokenizer, fh)"
   ]
  },
  {
   "cell_type": "markdown",
   "metadata": {},
   "source": [
    "### 4. Tokenize and Pad all OPCODES"
   ]
  },
  {
   "cell_type": "code",
   "execution_count": 28,
   "metadata": {},
   "outputs": [],
   "source": [
    "# Tokenize OPCODES\n",
    "tokenized_opcodes = tokenizer.texts_to_sequences(opc['opcode'])"
   ]
  },
  {
   "cell_type": "code",
   "execution_count": 29,
   "metadata": {},
   "outputs": [
    {
     "data": {
      "text/plain": [
       "253832"
      ]
     },
     "execution_count": 29,
     "metadata": {},
     "output_type": "execute_result"
    }
   ],
   "source": [
    "len(tokenized_opcodes)"
   ]
  },
  {
   "cell_type": "code",
   "execution_count": 30,
   "metadata": {},
   "outputs": [],
   "source": [
    "# Pad TOkenized OPCODES\n",
    "padded_opcodes = pad_sequences(tokenized_opcodes, maxlen=OPCODE_SEQ_LEN, padding=PADDING_TYPE, truncating=TRUNC_TYPE)"
   ]
  },
  {
   "cell_type": "code",
   "execution_count": 31,
   "metadata": {},
   "outputs": [
    {
     "name": "stdout",
     "output_type": "stream",
     "text": [
      "2404 1800\n"
     ]
    }
   ],
   "source": [
    "print(len(tokenized_opcodes[1]), len(padded_opcodes[1]))"
   ]
  },
  {
   "cell_type": "code",
   "execution_count": 32,
   "metadata": {},
   "outputs": [
    {
     "data": {
      "text/plain": [
       "numpy.ndarray"
      ]
     },
     "execution_count": 32,
     "metadata": {},
     "output_type": "execute_result"
    }
   ],
   "source": [
    "type(padded_opcodes[0])"
   ]
  },
  {
   "cell_type": "markdown",
   "metadata": {},
   "source": [
    "### 5. Save modified OPCODES as CSV"
   ]
  },
  {
   "cell_type": "code",
   "execution_count": 33,
   "metadata": {},
   "outputs": [],
   "source": [
    "import numpy as np\n",
    "opcodes = np.array(padded_opcodes).tolist()"
   ]
  },
  {
   "cell_type": "code",
   "execution_count": 34,
   "metadata": {},
   "outputs": [],
   "source": [
    "opc['opcode'] = opcodes"
   ]
  },
  {
   "cell_type": "code",
   "execution_count": 35,
   "metadata": {},
   "outputs": [
    {
     "data": {
      "text/html": [
       "<div>\n",
       "<style scoped>\n",
       "    .dataframe tbody tr th:only-of-type {\n",
       "        vertical-align: middle;\n",
       "    }\n",
       "\n",
       "    .dataframe tbody tr th {\n",
       "        vertical-align: top;\n",
       "    }\n",
       "\n",
       "    .dataframe thead th {\n",
       "        text-align: right;\n",
       "    }\n",
       "</style>\n",
       "<table border=\"1\" class=\"dataframe\">\n",
       "  <thead>\n",
       "    <tr style=\"text-align: right;\">\n",
       "      <th></th>\n",
       "      <th>_id</th>\n",
       "      <th>address</th>\n",
       "      <th>opcode</th>\n",
       "      <th>swc_label</th>\n",
       "    </tr>\n",
       "  </thead>\n",
       "  <tbody>\n",
       "    <tr>\n",
       "      <th>0</th>\n",
       "      <td>240000</td>\n",
       "      <td>0x8da4feb3dd3643943c614ca793e8f59baae50544</td>\n",
       "      <td>[2, 2, 10, 2, 49, 33, 5, 13, 25, 62, 2, 30, 32...</td>\n",
       "      <td>0000000000000000000000000000000000000</td>\n",
       "    </tr>\n",
       "    <tr>\n",
       "      <th>1</th>\n",
       "      <td>240001</td>\n",
       "      <td>0xe1521029d2591ba2a0f92b6e744a825f665f748b</td>\n",
       "      <td>[2, 2, 10, 2, 49, 33, 5, 13, 2, 30, 62, 3, 32,...</td>\n",
       "      <td>0000000000000000000000000000000000000</td>\n",
       "    </tr>\n",
       "    <tr>\n",
       "      <th>2</th>\n",
       "      <td>240002</td>\n",
       "      <td>0xe378696ce7ad55cfacc40337f476faf8fba9aff2</td>\n",
       "      <td>[2, 2, 10, 2, 49, 33, 5, 13, 2, 30, 62, 3, 32,...</td>\n",
       "      <td>0000000000000000000000000000000000000</td>\n",
       "    </tr>\n",
       "    <tr>\n",
       "      <th>3</th>\n",
       "      <td>240003</td>\n",
       "      <td>0x1872b33bb33e372d6f039a8b6af2e1be228bda23</td>\n",
       "      <td>[2, 2, 10, 49, 12, 5, 13, 25, 62, 2, 30, 32, 1...</td>\n",
       "      <td>0000000000100000000000000000000000000</td>\n",
       "    </tr>\n",
       "    <tr>\n",
       "      <th>4</th>\n",
       "      <td>240004</td>\n",
       "      <td>0x6ef34258c0c8ae7acc688311189dfc783ebb5bfa</td>\n",
       "      <td>[92, 21, 26, 12, 65, 13, 21, 91, 0, 0, 0, 0, 0...</td>\n",
       "      <td>0000000000000001000000000000000000000</td>\n",
       "    </tr>\n",
       "    <tr>\n",
       "      <th>...</th>\n",
       "      <td>...</td>\n",
       "      <td>...</td>\n",
       "      <td>...</td>\n",
       "      <td>...</td>\n",
       "    </tr>\n",
       "    <tr>\n",
       "      <th>253827</th>\n",
       "      <td>29967</td>\n",
       "      <td>0xa8ba70d5c2fae0b92d5ef8607bf7de09916c3027</td>\n",
       "      <td>[2, 2, 10, 2, 30, 62, 3, 32, 4, 25, 26, 5, 13,...</td>\n",
       "      <td>0000001000000000000000000000000000000</td>\n",
       "    </tr>\n",
       "    <tr>\n",
       "      <th>253828</th>\n",
       "      <td>29968</td>\n",
       "      <td>0x69677e5c602c2e495ec059dbda9f46413a192cc0</td>\n",
       "      <td>[2, 2, 10, 49, 12, 5, 13, 25, 62, 2, 30, 32, 1...</td>\n",
       "      <td>0000000000000000000000000000000000000</td>\n",
       "    </tr>\n",
       "    <tr>\n",
       "      <th>253829</th>\n",
       "      <td>29969</td>\n",
       "      <td>0xf82b842bd96282ed2c50a2e64c8de1a9d6862825</td>\n",
       "      <td>[2, 2, 10, 2, 49, 33, 5, 13, 2, 30, 62, 3, 32,...</td>\n",
       "      <td>0000000000000000000000000000000000000</td>\n",
       "    </tr>\n",
       "    <tr>\n",
       "      <th>253830</th>\n",
       "      <td>29970</td>\n",
       "      <td>0x401071960e0201430b5a882ce47300b534bd78ff</td>\n",
       "      <td>[2, 2, 10, 2, 49, 33, 5, 13, 2, 30, 62, 3, 32,...</td>\n",
       "      <td>0000000000100000000000000000000000000</td>\n",
       "    </tr>\n",
       "    <tr>\n",
       "      <th>253831</th>\n",
       "      <td>29971</td>\n",
       "      <td>0xd2fcbec53476bb0fb8e278461cbaf5a949758356</td>\n",
       "      <td>[2, 2, 10, 2, 49, 33, 5, 13, 2, 30, 62, 3, 32,...</td>\n",
       "      <td>0000000000000000000000000000000000000</td>\n",
       "    </tr>\n",
       "  </tbody>\n",
       "</table>\n",
       "<p>253832 rows × 4 columns</p>\n",
       "</div>"
      ],
      "text/plain": [
       "           _id                                     address  \\\n",
       "0       240000  0x8da4feb3dd3643943c614ca793e8f59baae50544   \n",
       "1       240001  0xe1521029d2591ba2a0f92b6e744a825f665f748b   \n",
       "2       240002  0xe378696ce7ad55cfacc40337f476faf8fba9aff2   \n",
       "3       240003  0x1872b33bb33e372d6f039a8b6af2e1be228bda23   \n",
       "4       240004  0x6ef34258c0c8ae7acc688311189dfc783ebb5bfa   \n",
       "...        ...                                         ...   \n",
       "253827   29967  0xa8ba70d5c2fae0b92d5ef8607bf7de09916c3027   \n",
       "253828   29968  0x69677e5c602c2e495ec059dbda9f46413a192cc0   \n",
       "253829   29969  0xf82b842bd96282ed2c50a2e64c8de1a9d6862825   \n",
       "253830   29970  0x401071960e0201430b5a882ce47300b534bd78ff   \n",
       "253831   29971  0xd2fcbec53476bb0fb8e278461cbaf5a949758356   \n",
       "\n",
       "                                                   opcode  \\\n",
       "0       [2, 2, 10, 2, 49, 33, 5, 13, 25, 62, 2, 30, 32...   \n",
       "1       [2, 2, 10, 2, 49, 33, 5, 13, 2, 30, 62, 3, 32,...   \n",
       "2       [2, 2, 10, 2, 49, 33, 5, 13, 2, 30, 62, 3, 32,...   \n",
       "3       [2, 2, 10, 49, 12, 5, 13, 25, 62, 2, 30, 32, 1...   \n",
       "4       [92, 21, 26, 12, 65, 13, 21, 91, 0, 0, 0, 0, 0...   \n",
       "...                                                   ...   \n",
       "253827  [2, 2, 10, 2, 30, 62, 3, 32, 4, 25, 26, 5, 13,...   \n",
       "253828  [2, 2, 10, 49, 12, 5, 13, 25, 62, 2, 30, 32, 1...   \n",
       "253829  [2, 2, 10, 2, 49, 33, 5, 13, 2, 30, 62, 3, 32,...   \n",
       "253830  [2, 2, 10, 2, 49, 33, 5, 13, 2, 30, 62, 3, 32,...   \n",
       "253831  [2, 2, 10, 2, 49, 33, 5, 13, 2, 30, 62, 3, 32,...   \n",
       "\n",
       "                                    swc_label  \n",
       "0       0000000000000000000000000000000000000  \n",
       "1       0000000000000000000000000000000000000  \n",
       "2       0000000000000000000000000000000000000  \n",
       "3       0000000000100000000000000000000000000  \n",
       "4       0000000000000001000000000000000000000  \n",
       "...                                       ...  \n",
       "253827  0000001000000000000000000000000000000  \n",
       "253828  0000000000000000000000000000000000000  \n",
       "253829  0000000000000000000000000000000000000  \n",
       "253830  0000000000100000000000000000000000000  \n",
       "253831  0000000000000000000000000000000000000  \n",
       "\n",
       "[253832 rows x 4 columns]"
      ]
     },
     "execution_count": 35,
     "metadata": {},
     "output_type": "execute_result"
    }
   ],
   "source": [
    "opc"
   ]
  },
  {
   "cell_type": "markdown",
   "metadata": {},
   "source": [
    "#### 5.1.A Merge Labels & Convert to Binary Labels"
   ]
  },
  {
   "cell_type": "code",
   "execution_count": 36,
   "metadata": {},
   "outputs": [],
   "source": [
    "opc['swc_label'] = (opc['swc_label'].str.contains('1')).astype(int)"
   ]
  },
  {
   "cell_type": "code",
   "execution_count": 37,
   "metadata": {},
   "outputs": [
    {
     "data": {
      "text/plain": [
       "(54449, 199383)"
      ]
     },
     "execution_count": 37,
     "metadata": {},
     "output_type": "execute_result"
    }
   ],
   "source": [
    "len(opc[opc['swc_label'] == 1]), len(opc[opc['swc_label'] == 0])"
   ]
  },
  {
   "cell_type": "code",
   "execution_count": 38,
   "metadata": {},
   "outputs": [
    {
     "data": {
      "text/html": [
       "<div>\n",
       "<style scoped>\n",
       "    .dataframe tbody tr th:only-of-type {\n",
       "        vertical-align: middle;\n",
       "    }\n",
       "\n",
       "    .dataframe tbody tr th {\n",
       "        vertical-align: top;\n",
       "    }\n",
       "\n",
       "    .dataframe thead th {\n",
       "        text-align: right;\n",
       "    }\n",
       "</style>\n",
       "<table border=\"1\" class=\"dataframe\">\n",
       "  <thead>\n",
       "    <tr style=\"text-align: right;\">\n",
       "      <th></th>\n",
       "      <th>_id</th>\n",
       "      <th>address</th>\n",
       "      <th>opcode</th>\n",
       "      <th>swc_label</th>\n",
       "    </tr>\n",
       "  </thead>\n",
       "  <tbody>\n",
       "    <tr>\n",
       "      <th>0</th>\n",
       "      <td>240000</td>\n",
       "      <td>0x8da4feb3dd3643943c614ca793e8f59baae50544</td>\n",
       "      <td>[2, 2, 10, 2, 49, 33, 5, 13, 25, 62, 2, 30, 32...</td>\n",
       "      <td>0</td>\n",
       "    </tr>\n",
       "    <tr>\n",
       "      <th>1</th>\n",
       "      <td>240001</td>\n",
       "      <td>0xe1521029d2591ba2a0f92b6e744a825f665f748b</td>\n",
       "      <td>[2, 2, 10, 2, 49, 33, 5, 13, 2, 30, 62, 3, 32,...</td>\n",
       "      <td>0</td>\n",
       "    </tr>\n",
       "    <tr>\n",
       "      <th>2</th>\n",
       "      <td>240002</td>\n",
       "      <td>0xe378696ce7ad55cfacc40337f476faf8fba9aff2</td>\n",
       "      <td>[2, 2, 10, 2, 49, 33, 5, 13, 2, 30, 62, 3, 32,...</td>\n",
       "      <td>0</td>\n",
       "    </tr>\n",
       "    <tr>\n",
       "      <th>3</th>\n",
       "      <td>240003</td>\n",
       "      <td>0x1872b33bb33e372d6f039a8b6af2e1be228bda23</td>\n",
       "      <td>[2, 2, 10, 49, 12, 5, 13, 25, 62, 2, 30, 32, 1...</td>\n",
       "      <td>1</td>\n",
       "    </tr>\n",
       "    <tr>\n",
       "      <th>4</th>\n",
       "      <td>240004</td>\n",
       "      <td>0x6ef34258c0c8ae7acc688311189dfc783ebb5bfa</td>\n",
       "      <td>[92, 21, 26, 12, 65, 13, 21, 91, 0, 0, 0, 0, 0...</td>\n",
       "      <td>1</td>\n",
       "    </tr>\n",
       "    <tr>\n",
       "      <th>...</th>\n",
       "      <td>...</td>\n",
       "      <td>...</td>\n",
       "      <td>...</td>\n",
       "      <td>...</td>\n",
       "    </tr>\n",
       "    <tr>\n",
       "      <th>253827</th>\n",
       "      <td>29967</td>\n",
       "      <td>0xa8ba70d5c2fae0b92d5ef8607bf7de09916c3027</td>\n",
       "      <td>[2, 2, 10, 2, 30, 62, 3, 32, 4, 25, 26, 5, 13,...</td>\n",
       "      <td>1</td>\n",
       "    </tr>\n",
       "    <tr>\n",
       "      <th>253828</th>\n",
       "      <td>29968</td>\n",
       "      <td>0x69677e5c602c2e495ec059dbda9f46413a192cc0</td>\n",
       "      <td>[2, 2, 10, 49, 12, 5, 13, 25, 62, 2, 30, 32, 1...</td>\n",
       "      <td>0</td>\n",
       "    </tr>\n",
       "    <tr>\n",
       "      <th>253829</th>\n",
       "      <td>29969</td>\n",
       "      <td>0xf82b842bd96282ed2c50a2e64c8de1a9d6862825</td>\n",
       "      <td>[2, 2, 10, 2, 49, 33, 5, 13, 2, 30, 62, 3, 32,...</td>\n",
       "      <td>0</td>\n",
       "    </tr>\n",
       "    <tr>\n",
       "      <th>253830</th>\n",
       "      <td>29970</td>\n",
       "      <td>0x401071960e0201430b5a882ce47300b534bd78ff</td>\n",
       "      <td>[2, 2, 10, 2, 49, 33, 5, 13, 2, 30, 62, 3, 32,...</td>\n",
       "      <td>1</td>\n",
       "    </tr>\n",
       "    <tr>\n",
       "      <th>253831</th>\n",
       "      <td>29971</td>\n",
       "      <td>0xd2fcbec53476bb0fb8e278461cbaf5a949758356</td>\n",
       "      <td>[2, 2, 10, 2, 49, 33, 5, 13, 2, 30, 62, 3, 32,...</td>\n",
       "      <td>0</td>\n",
       "    </tr>\n",
       "  </tbody>\n",
       "</table>\n",
       "<p>253832 rows × 4 columns</p>\n",
       "</div>"
      ],
      "text/plain": [
       "           _id                                     address  \\\n",
       "0       240000  0x8da4feb3dd3643943c614ca793e8f59baae50544   \n",
       "1       240001  0xe1521029d2591ba2a0f92b6e744a825f665f748b   \n",
       "2       240002  0xe378696ce7ad55cfacc40337f476faf8fba9aff2   \n",
       "3       240003  0x1872b33bb33e372d6f039a8b6af2e1be228bda23   \n",
       "4       240004  0x6ef34258c0c8ae7acc688311189dfc783ebb5bfa   \n",
       "...        ...                                         ...   \n",
       "253827   29967  0xa8ba70d5c2fae0b92d5ef8607bf7de09916c3027   \n",
       "253828   29968  0x69677e5c602c2e495ec059dbda9f46413a192cc0   \n",
       "253829   29969  0xf82b842bd96282ed2c50a2e64c8de1a9d6862825   \n",
       "253830   29970  0x401071960e0201430b5a882ce47300b534bd78ff   \n",
       "253831   29971  0xd2fcbec53476bb0fb8e278461cbaf5a949758356   \n",
       "\n",
       "                                                   opcode  swc_label  \n",
       "0       [2, 2, 10, 2, 49, 33, 5, 13, 25, 62, 2, 30, 32...          0  \n",
       "1       [2, 2, 10, 2, 49, 33, 5, 13, 2, 30, 62, 3, 32,...          0  \n",
       "2       [2, 2, 10, 2, 49, 33, 5, 13, 2, 30, 62, 3, 32,...          0  \n",
       "3       [2, 2, 10, 49, 12, 5, 13, 25, 62, 2, 30, 32, 1...          1  \n",
       "4       [92, 21, 26, 12, 65, 13, 21, 91, 0, 0, 0, 0, 0...          1  \n",
       "...                                                   ...        ...  \n",
       "253827  [2, 2, 10, 2, 30, 62, 3, 32, 4, 25, 26, 5, 13,...          1  \n",
       "253828  [2, 2, 10, 49, 12, 5, 13, 25, 62, 2, 30, 32, 1...          0  \n",
       "253829  [2, 2, 10, 2, 49, 33, 5, 13, 2, 30, 62, 3, 32,...          0  \n",
       "253830  [2, 2, 10, 2, 49, 33, 5, 13, 2, 30, 62, 3, 32,...          1  \n",
       "253831  [2, 2, 10, 2, 49, 33, 5, 13, 2, 30, 62, 3, 32,...          0  \n",
       "\n",
       "[253832 rows x 4 columns]"
      ]
     },
     "execution_count": 38,
     "metadata": {},
     "output_type": "execute_result"
    }
   ],
   "source": [
    "opc"
   ]
  },
  {
   "cell_type": "markdown",
   "metadata": {},
   "source": [
    "#### 5.1.B Split the DataFrame into Training & Testing Sets"
   ]
  },
  {
   "cell_type": "code",
   "execution_count": 40,
   "metadata": {},
   "outputs": [],
   "source": [
    "from sklearn.model_selection import train_test_split\n",
    "\n",
    "final_data = opc[['opcode', 'swc_label']]\n",
    "train, test = train_test_split(final_data, test_size=0.3, random_state=69, shuffle=True, stratify=final_data['swc_label'])"
   ]
  },
  {
   "cell_type": "code",
   "execution_count": 41,
   "metadata": {},
   "outputs": [
    {
     "data": {
      "text/plain": [
       "(                                                   opcode  swc_label\n",
       " 158905  [2, 2, 10, 2, 49, 33, 5, 13, 2, 30, 62, 3, 32,...          0\n",
       " 166834  [2, 2, 10, 2, 49, 33, 5, 13, 2, 30, 2, 102, 4,...          0\n",
       " 14325   [2, 2, 10, 2, 49, 33, 5, 13, 2, 30, 62, 3, 32,...          0\n",
       " 239108  [2, 2, 10, 2, 49, 33, 5, 13, 2, 30, 62, 3, 32,...          0\n",
       " 221937  [2, 2, 10, 25, 62, 2, 30, 32, 11, 25, 7, 26, 5...          0\n",
       " ...                                                   ...        ...\n",
       " 223912  [2, 2, 10, 49, 12, 5, 13, 25, 2, 2, 23, 2, 30,...          1\n",
       " 4305    [92, 21, 26, 12, 65, 13, 21, 91, 0, 0, 0, 0, 0...          1\n",
       " 240781  [2, 2, 10, 2, 49, 33, 5, 13, 25, 62, 2, 30, 32...          0\n",
       " 122921  [2, 2, 10, 2, 49, 33, 5, 13, 25, 62, 2, 30, 32...          0\n",
       " 245156  [2, 2, 10, 2, 49, 33, 5, 13, 25, 62, 2, 30, 32...          0\n",
       " \n",
       " [177682 rows x 2 columns],\n",
       "                                                    opcode  swc_label\n",
       " 64057   [2, 2, 10, 2, 49, 33, 5, 13, 2, 30, 62, 3, 32,...          0\n",
       " 40159   [2, 2, 10, 2, 49, 33, 5, 13, 25, 62, 2, 30, 32...          0\n",
       " 55860   [2, 2, 10, 49, 12, 5, 13, 25, 62, 2, 30, 32, 1...          1\n",
       " 213820  [2, 2, 10, 2, 49, 33, 5, 13, 25, 2, 2, 23, 2, ...          0\n",
       " 130662  [2, 2, 10, 2, 49, 33, 5, 13, 2, 30, 62, 3, 32,...          0\n",
       " ...                                                   ...        ...\n",
       " 201255  [2, 2, 10, 2, 49, 33, 5, 13, 2, 30, 62, 3, 32,...          0\n",
       " 16094   [2, 2, 10, 2, 49, 33, 5, 13, 2, 30, 62, 3, 32,...          1\n",
       " 204869  [2, 2, 10, 2, 49, 33, 5, 13, 2, 30, 62, 3, 32,...          0\n",
       " 245469  [2, 2, 10, 49, 12, 5, 13, 25, 2, 2, 23, 2, 30,...          0\n",
       " 123640  [2, 2, 10, 49, 12, 2, 13, 8, 2, 2, 2, 2, 31, 4...          1\n",
       " \n",
       " [76150 rows x 2 columns])"
      ]
     },
     "execution_count": 41,
     "metadata": {},
     "output_type": "execute_result"
    }
   ],
   "source": [
    "train, test"
   ]
  },
  {
   "cell_type": "code",
   "execution_count": 43,
   "metadata": {},
   "outputs": [
    {
     "data": {
      "text/plain": [
       "(38114, 139568)"
      ]
     },
     "execution_count": 43,
     "metadata": {},
     "output_type": "execute_result"
    }
   ],
   "source": [
    "len(train[train['swc_label'] == 1]), len(train[train['swc_label'] == 0])"
   ]
  },
  {
   "cell_type": "code",
   "execution_count": 45,
   "metadata": {},
   "outputs": [
    {
     "data": {
      "text/plain": [
       "(16335, 59815)"
      ]
     },
     "execution_count": 45,
     "metadata": {},
     "output_type": "execute_result"
    }
   ],
   "source": [
    "len(test[test['swc_label'] == 1]), len(test[test['swc_label'] == 0])"
   ]
  },
  {
   "cell_type": "markdown",
   "metadata": {},
   "source": [
    "#### 5.2 Save Train and Test DataSet as CSV"
   ]
  },
  {
   "cell_type": "code",
   "execution_count": 46,
   "metadata": {},
   "outputs": [],
   "source": [
    "train.to_csv('./split_tt/train.csv', index=False)"
   ]
  },
  {
   "cell_type": "code",
   "execution_count": 47,
   "metadata": {},
   "outputs": [],
   "source": [
    "test.to_csv('./split_tt/test.csv', index=False)"
   ]
  },
  {
   "cell_type": "code",
   "execution_count": null,
   "metadata": {},
   "outputs": [],
   "source": []
  }
 ],
 "metadata": {
  "kernelspec": {
   "display_name": "Python 3",
   "language": "python",
   "name": "python3"
  },
  "language_info": {
   "codemirror_mode": {
    "name": "ipython",
    "version": 3
   },
   "file_extension": ".py",
   "mimetype": "text/x-python",
   "name": "python",
   "nbconvert_exporter": "python",
   "pygments_lexer": "ipython3",
   "version": "3.7.2"
  }
 },
 "nbformat": 4,
 "nbformat_minor": 4
}
