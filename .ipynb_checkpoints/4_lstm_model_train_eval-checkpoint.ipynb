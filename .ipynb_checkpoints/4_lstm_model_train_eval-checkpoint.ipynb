{
 "cells": [
  {
   "cell_type": "markdown",
   "metadata": {},
   "source": [
    "## Import and Prepare the DataSets"
   ]
  },
  {
   "cell_type": "markdown",
   "metadata": {},
   "source": [
    "### 1. Import Train & Test CSV(s)"
   ]
  },
  {
   "cell_type": "code",
   "execution_count": 3,
   "metadata": {},
   "outputs": [
    {
     "name": "stdout",
     "output_type": "stream",
     "text": [
      " opcode label\n",
      "0 [2, 2, 13, 31, 11, 6, 15, 2, 5, 22, 9, 9, 33, ...  0\n",
      "1 [2, 2, 13, 31, 11, 6, 15, 2, 5, 22, 9, 33, 2, ...  0\n",
      "2 [2, 2, 2, 18, 18, 18, 55, 5, 16, 2, 76, 2, 24,...  0\n",
      "3 [2, 2, 13, 31, 11, 6, 15, 2, 5, 22, 9, 6, 5, 6...  0\n",
      "4 [2, 2, 13, 87, 2, 32, 87, 2, 32, 63, 2, 32, 2,...  0\n",
      "...  ...  ...\n",
      "94293 [2, 2, 13, 12, 5, 22, 9, 2, 22, 27, 10, 6, 11,...  1\n",
      "94294 [2, 2, 13, 31, 5, 11, 5, 15, 2, 5, 22, 9, 4, 3...  1\n",
      "94295 [2, 2, 13, 22, 4, 16, 31, 11, 10, 12, 18, 8, 7...  1\n",
      "94296 [2, 2, 2, 18, 18, 18, 55, 5, 16, 2, 76, 2, 24,...  1\n",
      "94297 [2, 2, 13, 31, 5, 11, 6, 15, 2, 5, 22, 9, 4, 6...  1\n",
      "\n",
      "[94298 rows x 2 columns] opcode label\n",
      "0 [2, 2, 13, 2, 2, 2, 6, 28, 7, 19, 7, 2, 26, 36...  0\n",
      "1 [2, 2, 13, 33, 2, 2, 6, 28, 7, 19, 7, 12, 26, ...  0\n",
      "2 [2, 2, 2, 18, 18, 18, 55, 5, 16, 2, 76, 2, 24,...  0\n",
      "3 [2, 2, 13, 31, 5, 11, 6, 15, 2, 5, 22, 9, 4, 3...  1\n",
      "4 [2, 2, 13, 31, 5, 11, 6, 15, 2, 5, 22, 9, 4, 3...  0\n",
      "...  ...  ...\n",
      "12432 [2, 2, 13, 31, 11, 6, 15, 2, 5, 22, 9, 33, 2, ...  0\n",
      "12433 [2, 2, 13, 31, 5, 11, 6, 15, 2, 5, 22, 9, 4, 2...  0\n",
      "12434 [2, 2, 13, 31, 11, 41, 15, 2, 5, 22, 9, 33, 2,...  0\n",
      "12435 [2, 2, 13, 31, 5, 11, 41, 15, 2, 5, 22, 9, 4, ...  0\n",
      "12436 [2, 2, 13, 2, 5, 32, 2, 2, 2, 6, 28, 7, 19, 7,...  0\n",
      "\n",
      "[12437 rows x 2 columns]\n"
     ]
    }
   ],
   "source": [
    "import pandas as pd\n",
    "import json\n",
    "\n",
    "# Set the OVER_SAMPLING_TECHNIQUE as follows\n",
    "# SMOTE ---> 'sm'\n",
    "# SMOTETomek ---> 'smt'\n",
    "OVER_SAMPLING_TECHNIQUE = 'sm'\n",
    "\n",
    "# Set the UNDER_SAMPLING_TECHNIQUE as follows\n",
    "# RandomUnderSampler ---> 'rus'\n",
    "# TomekLinks ---> 'tmk'\n",
    "UNDER_SAMPLING_TECHNIQUE = 'rus'\n",
    "\n",
    "# Importing Training Set\n",
    "train = pd.read_csv(f'./split_ds/opcode_{OVER_SAMPLING_TECHNIQUE}_TRAIN.csv')\n",
    "train['opcode'] = train['opcode'].apply(lambda x: json.loads(x))\n",
    "\n",
    "# Importing Testing Set\n",
    "test = pd.read_csv(f'./split_ds/opcode_{UNDER_SAMPLING_TECHNIQUE}_TEST.csv')\n",
    "test['opcode'] = test['opcode'].apply(lambda x: json.loads(x))\n",
    "\n",
    "print(train, test)"
   ]
  },
  {
   "cell_type": "markdown",
   "metadata": {},
   "source": [
    "### 2. Split the Test DataSet into Testing and Validiation DataSet"
   ]
  },
  {
   "cell_type": "code",
   "execution_count": 4,
   "metadata": {},
   "outputs": [],
   "source": [
    "from sklearn.model_selection import train_test_split\n",
    "test, val = train_test_split(test, test_size=0.5, random_state=69, shuffle=True, stratify=test['label'])"
   ]
  },
  {
   "cell_type": "markdown",
   "metadata": {},
   "source": [
    "### 3. Convert DataFrame(s) to Numpy N-D Array(s)"
   ]
  },
  {
   "cell_type": "code",
   "execution_count": 5,
   "metadata": {},
   "outputs": [
    {
     "name": "stdout",
     "output_type": "stream",
     "text": [
      "Train-Sequences (94298, 3800) <class 'numpy.ndarray'>\n",
      "Train-Labels (94298,) <class 'numpy.int64'>\n",
      "Test-Sequences (6218, 3800) <class 'numpy.ndarray'>\n",
      "Test-Labels (6218,) <class 'numpy.int64'>\n",
      "Validiation-Sequences (6219, 3800) <class 'numpy.ndarray'>\n",
      "Validiation-Labels (6219,) <class 'numpy.int64'>\n"
     ]
    }
   ],
   "source": [
    "import numpy as np\n",
    "\n",
    "train_sequences = np.array(train['opcode'].tolist())\n",
    "train_labels = np.array(train['label'].tolist())\n",
    "\n",
    "test_sequences = np.array(test['opcode'].tolist())\n",
    "test_labels = np.array(test['label'].tolist())\n",
    "\n",
    "val_sequences = np.array(val['opcode'].tolist())\n",
    "val_labels = np.array(val['label'].tolist())\n",
    "\n",
    "print(\"Train-Sequences\", train_sequences.shape, type(train_sequences[0]))\n",
    "print(\"Train-Labels\", train_labels.shape, type(train_labels[0]))\n",
    " \n",
    "print(\"Test-Sequences\", test_sequences.shape, type(test_sequences[0]))\n",
    "print(\"Test-Labels\", test_labels.shape, type(test_labels[0]))\n",
    " \n",
    "print(\"Validiation-Sequences\", val_sequences.shape, type(val_sequences[0]))\n",
    "print(\"Validiation-Labels\", val_labels.shape, type(val_labels[0]))"
   ]
  },
  {
   "cell_type": "markdown",
   "metadata": {},
   "source": [
    "## Create & Evaluate the Deep-Learning Model (RNN based on LSTM architecture)"
   ]
  },
  {
   "cell_type": "markdown",
   "metadata": {},
   "source": [
    "### 1. Define the Hyper-Parameters"
   ]
  },
  {
   "cell_type": "code",
   "execution_count": 2,
   "metadata": {},
   "outputs": [],
   "source": [
    "OPCODE_SEQ_LEN = 3800\n",
    "EMBEDDING_DIM = 50\n",
    "NUM_EPOCS = 128\n",
    "BATCH_SIZE = 64"
   ]
  },
  {
   "cell_type": "markdown",
   "metadata": {},
   "source": [
    "### 2. Define the Neural Network Structure (Layers)"
   ]
  },
  {
   "cell_type": "code",
   "execution_count": 6,
   "metadata": {},
   "outputs": [
    {
     "name": "stdout",
     "output_type": "stream",
     "text": [
      "_________________________________________________________________\n",
      "Layer (type)                 Output Shape              Param #   \n",
      "=================================================================\n",
      "embedding_1 (Embedding)      (None, 3800, 64)          9600      \n",
      "_________________________________________________________________\n",
      "lstm1 (CuDNNLSTM)            (None, 3800, 128)         99328     \n",
      "_________________________________________________________________\n",
      "lstm2 (CuDNNLSTM)            (None, 64)                49664     \n",
      "_________________________________________________________________\n",
      "hi_layer (Dense)             (None, 256)               16640     \n",
      "_________________________________________________________________\n",
      "dropout_1 (Dropout)          (None, 256)               0         \n",
      "_________________________________________________________________\n",
      "out_layer (Dense)            (None, 1)                 257       \n",
      "=================================================================\n",
      "Total params: 175,489\n",
      "Trainable params: 175,489\n",
      "Non-trainable params: 0\n",
      "_________________________________________________________________\n"
     ]
    }
   ],
   "source": [
    "import tensorflow as tf\n",
    "\n",
    "model = tf.keras.models.Sequential()\n",
    "\n",
    "model.add(tf.keras.layers.Embedding(150, EMBEDDING_DIM, input_length=OPCODE_SEQ_LEN))\n",
    "model.add(tf.keras.layers.CuDNNLSTM(128, name='lstm1', return_sequences=True))\n",
    "model.add(tf.keras.layers.CuDNNLSTM(64, name='lstm2'))\n",
    "model.add(tf.keras.layers.Dense(256, name='hi_layer', activation='relu'))\n",
    "model.add(tf.keras.layers.Dropout(0.5))\n",
    "model.add(tf.keras.layers.Dense(1, name='out_layer', activation='sigmoid'))\n",
    "\n",
    "model.summary()"
   ]
  },
  {
   "cell_type": "markdown",
   "metadata": {},
   "source": [
    "### 3. Compile the model"
   ]
  },
  {
   "cell_type": "code",
   "execution_count": 5,
   "metadata": {},
   "outputs": [],
   "source": [
    "model.compile(loss='binary_crossentropy', optimizer='adam', metrics=['accuracy'])"
   ]
  },
  {
   "cell_type": "markdown",
   "metadata": {},
   "source": [
    "### 4. Fit and train the RNN model with Training and Validiation Data"
   ]
  },
  {
   "cell_type": "code",
   "execution_count": 51,
   "metadata": {},
   "outputs": [
    {
     "name": "stdout",
     "output_type": "stream",
     "text": [
      "Train on 94298 samples, validate on 6219 samples\n",
      "Epoch 1/1\n",
      "94298/94298 [==============================] - 1089s 12ms/step - loss: 0.4625 - acc: 0.7817 - val_loss: 0.4039 - val_acc: 0.8267\n"
     ]
    }
   ],
   "source": [
    "history = model.fit(train_sequences, train_labels, \n",
    " epochs=NUM_EPOCS, \n",
    " validation_data=(val_sequences, val_labels),\n",
    " batch_size=BATCH_SIZE, verbose=1)"
   ]
  },
  {
   "cell_type": "markdown",
   "metadata": {},
   "source": [
    "### 5. Evaluate performance of model using Testing DataSet"
   ]
  },
  {
   "cell_type": "code",
   "execution_count": 52,
   "metadata": {},
   "outputs": [
    {
     "name": "stdout",
     "output_type": "stream",
     "text": [
      "6218/6218 [==============================] - 36s 6ms/step\n",
      "Test Loss, Test Accuracy: [0.40623094332720466, 0.8295271791381137]\n"
     ]
    }
   ],
   "source": [
    "results = model.evaluate(test_sequences, test_labels, batch_size=BATCH_SIZE)\n",
    "print(\"Test Loss, Test Accuracy:\", results)"
   ]
  },
  {
   "cell_type": "markdown",
   "metadata": {},
   "source": [
    "### 6. Save the model as HDF5 file"
   ]
  },
  {
   "cell_type": "code",
   "execution_count": null,
   "metadata": {},
   "outputs": [],
   "source": [
    "model.save(f'./models/model_{OVER_SAMPLING_TECHNIQUE}.h5') "
   ]
  },
  {
   "cell_type": "code",
   "execution_count": null,
   "metadata": {},
   "outputs": [],
   "source": [
    "# Save History as Pickle\n",
    "import pickle\n",
    "with open(f'./models/history_{OVER_SAMPLING_TECHNIQUE}.pickle', 'wb') as fh:\n",
    " pickle.dump(history.history, fh)\n",
    "\n",
    "# Save Results as Pickle\n",
    "import pickle\n",
    "with open(f'./models/results_{OVER_SAMPLING_TECHNIQUE}.pickle', 'wb') as fh:\n",
    " pickle.dump(results, fh)"
   ]
  },
  {
   "cell_type": "markdown",
   "metadata": {},
   "source": [
    "### 7. Plot performance metrics of the Deep-Learning Model "
   ]
  },
  {
   "cell_type": "code",
   "execution_count": 4,
   "metadata": {},
   "outputs": [],
   "source": [
    "import matplotlib.pyplot as plt\n",
    "import seaborn as sns\n",
    "sns.set()"
   ]
  },
  {
   "cell_type": "code",
   "execution_count": null,
   "metadata": {},
   "outputs": [],
   "source": [
    "# Accuracy Metrics\n",
    "plt.plot(history.history['accuracy'])\n",
    "plt.plot(history.history['val_accuracy'])\n",
    "plt.xlabel(\"Epochs\")\n",
    "plt.ylabel('Accuracy')\n",
    "plt.legend(['accuracy', 'val_accuracy'])\n",
    "plt.show()"
   ]
  },
  {
   "cell_type": "code",
   "execution_count": null,
   "metadata": {},
   "outputs": [],
   "source": [
    "# Loss Metrics\n",
    "plt.plot(history.history['loss'])\n",
    "plt.plot(history.history['val_loss'])\n",
    "plt.xlabel(\"Epochs\")\n",
    "plt.ylabel('Loss')\n",
    "plt.legend(['loss', 'val_loss'])\n",
    "plt.show()"
   ]
  }
 ],
 "metadata": {
  "kernelspec": {
   "display_name": "Python 3",
   "language": "python",
   "name": "python3"
  },
  "language_info": {
   "codemirror_mode": {
    "name": "ipython",
    "version": 3
   },
   "file_extension": ".py",
   "mimetype": "text/x-python",
   "name": "python",
   "nbconvert_exporter": "python",
   "pygments_lexer": "ipython3",
   "version": "3.7.2"
  }
 },
 "nbformat": 4,
 "nbformat_minor": 4
}
