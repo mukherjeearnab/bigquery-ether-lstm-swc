{
 "cells": [
  {
   "cell_type": "markdown",
   "metadata": {},
   "source": [
    "## SET ENVIRONMENT VARIABLES"
   ]
  },
  {
   "cell_type": "code",
   "execution_count": 1,
   "metadata": {},
   "outputs": [
    {
     "name": "stdout",
     "output_type": "stream",
     "text": [
      "7\n"
     ]
    }
   ],
   "source": [
    "import os\n",
    "os.environ[\"CUDA_VISIBLE_DEVICES\"] = \"7\"\n",
    "\n",
    "print(os.environ[\"CUDA_VISIBLE_DEVICES\"])"
   ]
  },
  {
   "cell_type": "markdown",
   "metadata": {},
   "source": [
    "## Import and Prepare the DataSets"
   ]
  },
  {
   "cell_type": "markdown",
   "metadata": {},
   "source": [
    "### 1. Import Train & Test CSV(s)"
   ]
  },
  {
   "cell_type": "code",
   "execution_count": 27,
   "metadata": {},
   "outputs": [
    {
     "name": "stdout",
     "output_type": "stream",
     "text": [
      "                                                   opcode  swc_label\n",
      "0       [2, 2, 10, 2, 49, 33, 5, 13, 2, 30, 62, 3, 32,...          0\n",
      "1       [2, 2, 10, 2, 49, 33, 5, 13, 2, 30, 2, 102, 4,...          0\n",
      "2       [2, 2, 10, 2, 49, 33, 5, 13, 2, 30, 62, 3, 32,...          0\n",
      "3       [2, 2, 10, 2, 49, 33, 5, 13, 2, 30, 62, 3, 32,...          0\n",
      "4       [2, 2, 10, 25, 62, 2, 30, 32, 11, 25, 7, 26, 5...          0\n",
      "...                                                   ...        ...\n",
      "279131  [92, 21, 26, 12, 65, 13, 21, 91, 0, 0, 0, 0, 0...          1\n",
      "279132  [2, 2, 10, 2, 49, 33, 5, 13, 2, 30, 62, 3, 32,...          1\n",
      "279133  [2, 2, 10, 2, 49, 33, 39, 13, 2, 30, 62, 3, 32...          1\n",
      "279134  [2, 2, 10, 43, 16, 8, 12, 3, 29, 62, 2, 31, 25...          1\n",
      "279135  [2, 2, 10, 32, 25, 14, 10, 5, 28, 40, 2, 28, 1...          1\n",
      "\n",
      "[279136 rows x 2 columns]                                                   opcode  swc_label\n",
      "0      [2, 2, 10, 2, 49, 33, 5, 13, 2, 30, 62, 3, 32,...          0\n",
      "1      [2, 2, 10, 2, 49, 33, 5, 13, 2, 30, 62, 3, 32,...          0\n",
      "2      [2, 2, 10, 2, 49, 33, 5, 13, 25, 2, 2, 23, 2, ...          0\n",
      "3      [2, 2, 10, 2, 49, 33, 5, 13, 2, 30, 62, 3, 32,...          0\n",
      "4      [2, 2, 10, 2, 49, 33, 5, 13, 2, 30, 62, 3, 32,...          0\n",
      "...                                                  ...        ...\n",
      "32665  [2, 2, 10, 49, 12, 5, 13, 25, 2, 2, 23, 2, 30,...          1\n",
      "32666  [2, 2, 10, 2, 30, 62, 3, 32, 25, 11, 4, 25, 26...          1\n",
      "32667  [92, 21, 26, 12, 65, 13, 21, 91, 0, 0, 0, 0, 0...          1\n",
      "32668  [2, 2, 10, 2, 49, 33, 5, 13, 2, 30, 62, 3, 32,...          1\n",
      "32669  [2, 2, 10, 49, 12, 2, 13, 8, 2, 2, 2, 2, 31, 4...          1\n",
      "\n",
      "[32670 rows x 2 columns]\n"
     ]
    }
   ],
   "source": [
    "import pandas as pd\n",
    "import json\n",
    "\n",
    "# Set the TRAIN_SAMPLING_TECHNIQUE as follows\n",
    "# SMOTE ---> 'sm'\n",
    "# SMOTETomek ---> 'smt'\n",
    "# ADASYN ---> 'ada'\n",
    "TRAIN_SAMPLING_TECHNIQUE = 'sm'\n",
    "\n",
    "# Set the TEST_SAMPLING_TECHNIQUE as follows\n",
    "# RandomUnderSampler ---> 'rus'\n",
    "# TomekLinks ---> 'tmk'\n",
    "TEST_SAMPLING_TECHNIQUE = 'rus'\n",
    "\n",
    "# Importing Training Set\n",
    "train = pd.read_csv(f'./split_ds/opcode_{TRAIN_SAMPLING_TECHNIQUE}_TRAIN.csv')\n",
    "train['opcode'] = train['opcode'].apply(lambda x: json.loads(x))\n",
    "\n",
    "# Importing Testing Set\n",
    "test = pd.read_csv(f'./split_ds/opcode_{TEST_SAMPLING_TECHNIQUE}_TEST.csv')\n",
    "test['opcode'] = test['opcode'].apply(lambda x: json.loads(x))\n",
    "\n",
    "print(train, test)"
   ]
  },
  {
   "cell_type": "markdown",
   "metadata": {},
   "source": [
    "### 2. Split the Test DataSet into Testing and Validiation DataSet"
   ]
  },
  {
   "cell_type": "code",
   "execution_count": 3,
   "metadata": {},
   "outputs": [],
   "source": [
    "from sklearn.model_selection import train_test_split\n",
    "test, val = train_test_split(test, test_size=0.5, random_state=69, shuffle=True, stratify=test['swc_label'])"
   ]
  },
  {
   "cell_type": "markdown",
   "metadata": {},
   "source": [
    "### 3. Convert DataFrame(s) to Numpy N-D Array(s)"
   ]
  },
  {
   "cell_type": "code",
   "execution_count": 4,
   "metadata": {},
   "outputs": [
    {
     "name": "stdout",
     "output_type": "stream",
     "text": [
      "Train-Sequences (279136, 1800) <class 'numpy.ndarray'>\n",
      "Train-Labels (279136,) <class 'numpy.int64'>\n",
      "Test-Sequences (16335, 1800) <class 'numpy.ndarray'>\n",
      "Test-Labels (16335,) <class 'numpy.int64'>\n",
      "Validiation-Sequences (16335, 1800) <class 'numpy.ndarray'>\n",
      "Validiation-Labels (16335,) <class 'numpy.int64'>\n"
     ]
    }
   ],
   "source": [
    "import numpy as np\n",
    "\n",
    "train_sequences = np.array(train['opcode'].tolist())\n",
    "train_labels = np.array(train['swc_label'].tolist())\n",
    "\n",
    "test_sequences = np.array(test['opcode'].tolist())\n",
    "test_labels = np.array(test['swc_label'].tolist())\n",
    "\n",
    "val_sequences = np.array(val['opcode'].tolist())\n",
    "val_labels = np.array(val['swc_label'].tolist())\n",
    "\n",
    "print(\"Train-Sequences\", train_sequences.shape, type(train_sequences[0]))\n",
    "print(\"Train-Labels\", train_labels.shape, type(train_labels[0]))\n",
    " \n",
    "print(\"Test-Sequences\", test_sequences.shape, type(test_sequences[0]))\n",
    "print(\"Test-Labels\", test_labels.shape, type(test_labels[0]))\n",
    " \n",
    "print(\"Validiation-Sequences\", val_sequences.shape, type(val_sequences[0]))\n",
    "print(\"Validiation-Labels\", val_labels.shape, type(val_labels[0]))"
   ]
  },
  {
   "cell_type": "markdown",
   "metadata": {},
   "source": [
    "## Create & Evaluate the Deep-Learning Model (RNN based on LSTM architecture)"
   ]
  },
  {
   "cell_type": "markdown",
   "metadata": {},
   "source": [
    "### 1. Define the Hyper-Parameters"
   ]
  },
  {
   "cell_type": "code",
   "execution_count": 12,
   "metadata": {},
   "outputs": [],
   "source": [
    "OPCODE_SEQ_LEN = 1800\n",
    "EMBEDDING_DIM = 50\n",
    "NUM_EPOCS = 128\n",
    "BATCH_SIZE = 128"
   ]
  },
  {
   "cell_type": "markdown",
   "metadata": {},
   "source": [
    "### 1A. Import Evaluation metrics"
   ]
  },
  {
   "cell_type": "code",
   "execution_count": 13,
   "metadata": {},
   "outputs": [],
   "source": [
    "from sklearn.metrics import f1_score\n",
    "\n",
    "def f1(y_true, y_pred):\n",
    "    return f1_score(y_true, y_pred)\n",
    "\n",
    "def f1M(y_true, y_pred):\n",
    "    return f1_score(y_true, y_pred, average='macro')"
   ]
  },
  {
   "cell_type": "markdown",
   "metadata": {},
   "source": [
    "### 2. Define the Neural Network Structure (Layers)"
   ]
  },
  {
   "cell_type": "code",
   "execution_count": 14,
   "metadata": {},
   "outputs": [
    {
     "name": "stdout",
     "output_type": "stream",
     "text": [
      "Model: \"sequential_1\"\n",
      "_________________________________________________________________\n",
      "Layer (type)                 Output Shape              Param #   \n",
      "=================================================================\n",
      "embedding_1 (Embedding)      (None, 1800, 50)          7500      \n",
      "_________________________________________________________________\n",
      "lstm1 (LSTM)                 (None, 1800, 128)         91648     \n",
      "_________________________________________________________________\n",
      "lstm2 (LSTM)                 (None, 64)                49408     \n",
      "_________________________________________________________________\n",
      "hi_layer (Dense)             (None, 256)               16640     \n",
      "_________________________________________________________________\n",
      "dropout_1 (Dropout)          (None, 256)               0         \n",
      "_________________________________________________________________\n",
      "out_layer (Dense)            (None, 1)                 257       \n",
      "=================================================================\n",
      "Total params: 165,453\n",
      "Trainable params: 165,453\n",
      "Non-trainable params: 0\n",
      "_________________________________________________________________\n"
     ]
    }
   ],
   "source": [
    "import tensorflow as tf\n",
    "\n",
    "model = tf.keras.models.Sequential()\n",
    "\n",
    "model.add(tf.keras.layers.Embedding(150, EMBEDDING_DIM, input_length=OPCODE_SEQ_LEN))\n",
    "model.add(tf.keras.layers.LSTM(128, name='lstm1', return_sequences=True))\n",
    "model.add(tf.keras.layers.LSTM(64, name='lstm2'))\n",
    "model.add(tf.keras.layers.Dense(256, name='hi_layer', activation='relu'))\n",
    "model.add(tf.keras.layers.Dropout(0.5))\n",
    "model.add(tf.keras.layers.Dense(1, name='out_layer', activation='sigmoid'))\n",
    "\n",
    "model.summary()"
   ]
  },
  {
   "cell_type": "markdown",
   "metadata": {},
   "source": [
    "### 3. Compile the model"
   ]
  },
  {
   "cell_type": "code",
   "execution_count": 15,
   "metadata": {},
   "outputs": [],
   "source": [
    "model.compile(loss='binary_crossentropy', optimizer='adam', metrics=['accuracy'])"
   ]
  },
  {
   "cell_type": "markdown",
   "metadata": {},
   "source": [
    "### 4. Fit and train the RNN model with Training and Validiation Data"
   ]
  },
  {
   "cell_type": "code",
   "execution_count": null,
   "metadata": {},
   "outputs": [
    {
     "name": "stdout",
     "output_type": "stream",
     "text": [
      "Epoch 1/128\n",
      "2181/2181 [==============================] - 459s 210ms/step - loss: 0.4710 - accuracy: 0.7579 - val_loss: 0.2814 - val_accuracy: 0.8808\n",
      "Epoch 2/128\n",
      "2181/2181 [==============================] - 458s 210ms/step - loss: 0.1410 - accuracy: 0.9430 - val_loss: 0.2064 - val_accuracy: 0.9079\n",
      "Epoch 3/128\n",
      "2181/2181 [==============================] - 461s 211ms/step - loss: 0.0869 - accuracy: 0.9617 - val_loss: 0.1374 - val_accuracy: 0.9347\n",
      "Epoch 4/128\n",
      "2181/2181 [==============================] - 477s 219ms/step - loss: 0.0716 - accuracy: 0.9677 - val_loss: 0.1120 - val_accuracy: 0.9467\n",
      "Epoch 5/128\n",
      "2181/2181 [==============================] - 540s 248ms/step - loss: 0.0613 - accuracy: 0.9731 - val_loss: 0.1167 - val_accuracy: 0.9449\n",
      "Epoch 6/128\n",
      "2181/2181 [==============================] - 524s 240ms/step - loss: 0.0539 - accuracy: 0.9764 - val_loss: 0.1063 - val_accuracy: 0.9478\n",
      "Epoch 7/128\n",
      "2181/2181 [==============================] - 543s 249ms/step - loss: 0.0497 - accuracy: 0.9782 - val_loss: 0.0894 - val_accuracy: 0.9586\n",
      "Epoch 8/128\n",
      "2181/2181 [==============================] - 554s 254ms/step - loss: 0.0463 - accuracy: 0.9798 - val_loss: 0.0823 - val_accuracy: 0.9649\n",
      "Epoch 9/128\n",
      "2181/2181 [==============================] - 564s 258ms/step - loss: 0.0428 - accuracy: 0.9815 - val_loss: 0.0937 - val_accuracy: 0.9574\n",
      "Epoch 10/128\n",
      "2181/2181 [==============================] - 478s 219ms/step - loss: 0.0397 - accuracy: 0.9831 - val_loss: 0.0788 - val_accuracy: 0.9641\n",
      "Epoch 11/128\n",
      "2181/2181 [==============================] - 579s 266ms/step - loss: 0.0369 - accuracy: 0.9843 - val_loss: 0.1109 - val_accuracy: 0.9527\n",
      "Epoch 12/128\n",
      "2181/2181 [==============================] - 549s 252ms/step - loss: 0.0346 - accuracy: 0.9854 - val_loss: 0.0844 - val_accuracy: 0.9642\n",
      "Epoch 13/128\n",
      "2181/2181 [==============================] - 526s 241ms/step - loss: 0.0330 - accuracy: 0.9864 - val_loss: 0.0742 - val_accuracy: 0.9688\n",
      "Epoch 14/128\n",
      "2181/2181 [==============================] - 503s 230ms/step - loss: 0.0309 - accuracy: 0.9873 - val_loss: 0.0847 - val_accuracy: 0.9633\n",
      "Epoch 15/128\n",
      "2181/2181 [==============================] - 500s 229ms/step - loss: 0.0329 - accuracy: 0.9861 - val_loss: 0.0875 - val_accuracy: 0.9613\n",
      "Epoch 16/128\n",
      "2181/2181 [==============================] - 499s 229ms/step - loss: 0.0319 - accuracy: 0.9865 - val_loss: 0.0860 - val_accuracy: 0.9632\n",
      "Epoch 17/128\n",
      "2181/2181 [==============================] - 500s 229ms/step - loss: 0.0277 - accuracy: 0.9886 - val_loss: 0.0979 - val_accuracy: 0.9617\n",
      "Epoch 18/128\n",
      "2181/2181 [==============================] - 456s 209ms/step - loss: 0.0256 - accuracy: 0.9895 - val_loss: 0.0793 - val_accuracy: 0.9692\n",
      "Epoch 19/128\n",
      "2181/2181 [==============================] - 429s 197ms/step - loss: 0.0247 - accuracy: 0.9896 - val_loss: 0.1057 - val_accuracy: 0.9583\n",
      "Epoch 20/128\n",
      "2181/2181 [==============================] - 428s 196ms/step - loss: 0.0238 - accuracy: 0.9901 - val_loss: 0.0957 - val_accuracy: 0.9664\n",
      "Epoch 21/128\n",
      "2181/2181 [==============================] - 428s 196ms/step - loss: 0.0230 - accuracy: 0.9906 - val_loss: 0.0862 - val_accuracy: 0.9687\n",
      "Epoch 22/128\n",
      "2181/2181 [==============================] - 428s 196ms/step - loss: 0.0227 - accuracy: 0.9909 - val_loss: 0.0840 - val_accuracy: 0.9708\n",
      "Epoch 23/128\n",
      "2181/2181 [==============================] - 498s 228ms/step - loss: 0.0229 - accuracy: 0.9908 - val_loss: 0.0847 - val_accuracy: 0.9679\n",
      "Epoch 24/128\n",
      "2181/2181 [==============================] - 508s 233ms/step - loss: 0.0226 - accuracy: 0.9908 - val_loss: 0.0935 - val_accuracy: 0.9657\n",
      "Epoch 25/128\n",
      "2181/2181 [==============================] - 515s 236ms/step - loss: 0.0222 - accuracy: 0.9911 - val_loss: 0.0824 - val_accuracy: 0.9710\n",
      "Epoch 26/128\n",
      "2181/2181 [==============================] - 520s 238ms/step - loss: 0.0224 - accuracy: 0.9909 - val_loss: 0.1016 - val_accuracy: 0.9661\n",
      "Epoch 27/128\n",
      "2181/2181 [==============================] - 522s 240ms/step - loss: 0.0199 - accuracy: 0.9920 - val_loss: 0.0881 - val_accuracy: 0.9696\n",
      "Epoch 28/128\n",
      "2181/2181 [==============================] - 460s 211ms/step - loss: 0.0193 - accuracy: 0.9922 - val_loss: 0.0887 - val_accuracy: 0.9715\n",
      "Epoch 29/128\n",
      "2181/2181 [==============================] - 440s 202ms/step - loss: 0.0203 - accuracy: 0.9919 - val_loss: 0.0906 - val_accuracy: 0.9693\n",
      "Epoch 30/128\n",
      "2181/2181 [==============================] - 442s 203ms/step - loss: 0.0173 - accuracy: 0.9931 - val_loss: 0.0917 - val_accuracy: 0.9702\n",
      "Epoch 31/128\n",
      "2181/2181 [==============================] - 441s 202ms/step - loss: 0.0168 - accuracy: 0.9934 - val_loss: 0.0987 - val_accuracy: 0.9702\n",
      "Epoch 32/128\n",
      "2181/2181 [==============================] - 441s 202ms/step - loss: 0.0177 - accuracy: 0.9931 - val_loss: 0.0976 - val_accuracy: 0.9702\n",
      "Epoch 33/128\n",
      "2181/2181 [==============================] - 443s 203ms/step - loss: 0.0157 - accuracy: 0.9938 - val_loss: 0.0948 - val_accuracy: 0.9707\n",
      "Epoch 34/128\n",
      "2181/2181 [==============================] - 441s 202ms/step - loss: 0.0156 - accuracy: 0.9939 - val_loss: 0.0970 - val_accuracy: 0.9710\n",
      "Epoch 35/128\n",
      "2181/2181 [==============================] - 445s 204ms/step - loss: 0.0147 - accuracy: 0.9942 - val_loss: 0.1091 - val_accuracy: 0.9609\n",
      "Epoch 36/128\n",
      "2181/2181 [==============================] - 446s 205ms/step - loss: 0.0154 - accuracy: 0.9942 - val_loss: 0.0927 - val_accuracy: 0.9720\n",
      "Epoch 37/128\n",
      "2181/2181 [==============================] - 445s 204ms/step - loss: 0.0140 - accuracy: 0.9946 - val_loss: 0.1025 - val_accuracy: 0.9699\n",
      "Epoch 38/128\n",
      "2181/2181 [==============================] - 442s 203ms/step - loss: 0.0128 - accuracy: 0.9951 - val_loss: 0.1152 - val_accuracy: 0.9666\n",
      "Epoch 39/128\n",
      "2181/2181 [==============================] - 440s 202ms/step - loss: 0.0134 - accuracy: 0.9947 - val_loss: 0.0890 - val_accuracy: 0.9729\n",
      "Epoch 40/128\n",
      "2181/2181 [==============================] - 442s 203ms/step - loss: 0.0132 - accuracy: 0.9950 - val_loss: 0.0862 - val_accuracy: 0.9731\n",
      "Epoch 41/128\n",
      "2181/2181 [==============================] - 441s 202ms/step - loss: 0.0122 - accuracy: 0.9953 - val_loss: 0.0885 - val_accuracy: 0.9756\n",
      "Epoch 42/128\n",
      "2181/2181 [==============================] - 438s 201ms/step - loss: 0.0123 - accuracy: 0.9953 - val_loss: 0.1121 - val_accuracy: 0.9690\n",
      "Epoch 43/128\n",
      "2181/2181 [==============================] - 435s 199ms/step - loss: 0.0116 - accuracy: 0.9955 - val_loss: 0.1126 - val_accuracy: 0.9690\n",
      "Epoch 44/128\n",
      "2181/2181 [==============================] - 436s 200ms/step - loss: 0.0116 - accuracy: 0.9955 - val_loss: 0.0956 - val_accuracy: 0.9725\n",
      "Epoch 45/128\n",
      "2181/2181 [==============================] - 435s 199ms/step - loss: 0.0137 - accuracy: 0.9948 - val_loss: 0.0977 - val_accuracy: 0.9703\n",
      "Epoch 46/128\n",
      "2181/2181 [==============================] - 436s 200ms/step - loss: 0.0155 - accuracy: 0.9942 - val_loss: 0.1089 - val_accuracy: 0.9703\n",
      "Epoch 47/128\n",
      "2181/2181 [==============================] - 434s 199ms/step - loss: 0.0103 - accuracy: 0.9961 - val_loss: 0.1061 - val_accuracy: 0.9743\n",
      "Epoch 48/128\n",
      "2181/2181 [==============================] - 436s 200ms/step - loss: 0.0122 - accuracy: 0.9955 - val_loss: 0.1107 - val_accuracy: 0.9713\n",
      "Epoch 49/128\n",
      "2181/2181 [==============================] - 436s 200ms/step - loss: 0.0125 - accuracy: 0.9952 - val_loss: 0.0937 - val_accuracy: 0.9730\n",
      "Epoch 50/128\n",
      "2181/2181 [==============================] - 434s 199ms/step - loss: 0.0125 - accuracy: 0.9953 - val_loss: 0.1090 - val_accuracy: 0.9726\n",
      "Epoch 51/128\n",
      "2181/2181 [==============================] - 435s 199ms/step - loss: 0.0101 - accuracy: 0.9962 - val_loss: 0.1082 - val_accuracy: 0.9740\n",
      "Epoch 52/128\n",
      "2181/2181 [==============================] - 435s 200ms/step - loss: 0.0087 - accuracy: 0.9967 - val_loss: 0.1146 - val_accuracy: 0.9714\n",
      "Epoch 53/128\n",
      "2181/2181 [==============================] - 435s 199ms/step - loss: 0.0077 - accuracy: 0.9971 - val_loss: 0.1336 - val_accuracy: 0.9738\n",
      "Epoch 54/128\n",
      "2181/2181 [==============================] - 435s 199ms/step - loss: 0.0074 - accuracy: 0.9972 - val_loss: 0.1374 - val_accuracy: 0.9732\n",
      "Epoch 55/128\n",
      "2181/2181 [==============================] - 437s 200ms/step - loss: 0.0068 - accuracy: 0.9975 - val_loss: 0.1437 - val_accuracy: 0.9727\n",
      "Epoch 56/128\n",
      "2181/2181 [==============================] - 436s 200ms/step - loss: 0.0065 - accuracy: 0.9975 - val_loss: 0.1495 - val_accuracy: 0.9733\n",
      "Epoch 57/128\n",
      "2181/2181 [==============================] - 434s 199ms/step - loss: 0.0061 - accuracy: 0.9978 - val_loss: 0.1262 - val_accuracy: 0.9758\n",
      "Epoch 58/128\n",
      "2181/2181 [==============================] - 433s 199ms/step - loss: 0.0059 - accuracy: 0.9978 - val_loss: 0.1656 - val_accuracy: 0.9733\n",
      "Epoch 59/128\n",
      "2181/2181 [==============================] - 435s 199ms/step - loss: 0.0055 - accuracy: 0.9980 - val_loss: 0.1422 - val_accuracy: 0.9734\n",
      "Epoch 60/128\n",
      "2181/2181 [==============================] - 435s 199ms/step - loss: 0.0053 - accuracy: 0.9980 - val_loss: 0.1610 - val_accuracy: 0.9753\n",
      "Epoch 61/128\n",
      "2181/2181 [==============================] - 434s 199ms/step - loss: 0.0051 - accuracy: 0.9981 - val_loss: 0.1772 - val_accuracy: 0.9732\n",
      "Epoch 62/128\n",
      "2181/2181 [==============================] - 434s 199ms/step - loss: 0.0049 - accuracy: 0.9983 - val_loss: 0.1937 - val_accuracy: 0.9712\n",
      "Epoch 63/128\n",
      "2181/2181 [==============================] - 432s 198ms/step - loss: 0.0050 - accuracy: 0.9982 - val_loss: 0.1749 - val_accuracy: 0.9736\n",
      "Epoch 64/128\n",
      "2181/2181 [==============================] - 433s 198ms/step - loss: 0.0050 - accuracy: 0.9982 - val_loss: 0.1619 - val_accuracy: 0.9746\n",
      "Epoch 65/128\n",
      "2181/2181 [==============================] - 433s 198ms/step - loss: 0.0045 - accuracy: 0.9983 - val_loss: 0.2116 - val_accuracy: 0.9716\n",
      "Epoch 66/128\n",
      "2181/2181 [==============================] - 435s 199ms/step - loss: 0.0045 - accuracy: 0.9983 - val_loss: 0.1913 - val_accuracy: 0.9741\n",
      "Epoch 67/128\n",
      "2181/2181 [==============================] - 441s 202ms/step - loss: 0.0046 - accuracy: 0.9983 - val_loss: 0.2075 - val_accuracy: 0.9728\n",
      "Epoch 68/128\n",
      "2181/2181 [==============================] - 434s 199ms/step - loss: 0.0048 - accuracy: 0.9983 - val_loss: 0.1766 - val_accuracy: 0.9745\n",
      "Epoch 69/128\n",
      "2181/2181 [==============================] - 435s 200ms/step - loss: 0.0050 - accuracy: 0.9981 - val_loss: 0.1901 - val_accuracy: 0.9728\n",
      "Epoch 70/128\n",
      "2181/2181 [==============================] - 436s 200ms/step - loss: 0.0045 - accuracy: 0.9983 - val_loss: 0.1833 - val_accuracy: 0.9751\n",
      "Epoch 71/128\n",
      " 131/2181 [>.............................] - ETA: 6:36 - loss: 0.0037 - accuracy: 0.9984"
     ]
    }
   ],
   "source": [
    "history = model.fit(train_sequences, train_labels, \n",
    " epochs=NUM_EPOCS, \n",
    " validation_data=(val_sequences, val_labels),\n",
    " batch_size=BATCH_SIZE, verbose=1)"
   ]
  },
  {
   "cell_type": "markdown",
   "metadata": {},
   "source": [
    "### 5. Evaluate performance of model using Testing DataSet"
   ]
  },
  {
   "cell_type": "code",
   "execution_count": 25,
   "metadata": {},
   "outputs": [
    {
     "name": "stdout",
     "output_type": "stream",
     "text": [
      "128/128 [==============================] - 9s 72ms/step - loss: 0.1836 - accuracy: 0.9788\n",
      "Test Loss, Test Accuracy: [0.18357998132705688, 0.9788184762001038]\n"
     ]
    }
   ],
   "source": [
    "results = model.evaluate(test_sequences, test_labels, batch_size=BATCH_SIZE)\n",
    "print(\"Test Loss, Test Accuracy:\", results)"
   ]
  },
  {
   "cell_type": "markdown",
   "metadata": {},
   "source": [
    "### 6. Save the model as HDF5 file"
   ]
  },
  {
   "cell_type": "code",
   "execution_count": 28,
   "metadata": {},
   "outputs": [],
   "source": [
    "model.save(f'./models/model_{TRAIN_SAMPLING_TECHNIQUE}_{TEST_SAMPLING_TECHNIQUE}_{NUM_EPOCS}.h5') "
   ]
  },
  {
   "cell_type": "code",
   "execution_count": 29,
   "metadata": {},
   "outputs": [],
   "source": [
    "# Save History as Pickle\n",
    "import pickle\n",
    "with open(f'./models/history_{TRAIN_SAMPLING_TECHNIQUE}_{TEST_SAMPLING_TECHNIQUE}_{NUM_EPOCS}.pickle', 'wb') as fh:\n",
    " pickle.dump(history.history, fh)\n",
    "\n",
    "# Save Results as Pickle\n",
    "import pickle\n",
    "with open(f'./models/results_{TRAIN_SAMPLING_TECHNIQUE}_{TEST_SAMPLING_TECHNIQUE}_{NUM_EPOCS}.pickle', 'wb') as fh:\n",
    " pickle.dump(results, fh)"
   ]
  },
  {
   "cell_type": "markdown",
   "metadata": {},
   "source": [
    "### 7. Plot performance metrics of the Deep-Learning Model "
   ]
  },
  {
   "cell_type": "code",
   "execution_count": 20,
   "metadata": {},
   "outputs": [],
   "source": [
    "import matplotlib.pyplot as plt\n",
    "import seaborn as sns\n",
    "sns.set()"
   ]
  },
  {
   "cell_type": "code",
   "execution_count": 21,
   "metadata": {},
   "outputs": [
    {
     "data": {
      "image/png": "[encoded data removed]",
      "text/plain": [
       "<Figure size 432x288 with 1 Axes>"
      ]
     },
     "metadata": {},
     "output_type": "display_data"
    }
   ],
   "source": [
    "# Accuracy Metrics\n",
    "plt.plot(history.history['accuracy'])\n",
    "plt.plot(history.history['val_accuracy'])\n",
    "plt.xlabel(\"Epochs\")\n",
    "plt.ylabel('Accuracy')\n",
    "plt.legend(['accuracy', 'val_accuracy'])\n",
    "plt.show()"
   ]
  },
  {
   "cell_type": "code",
   "execution_count": 22,
   "metadata": {},
   "outputs": [
    {
     "data": {
      "image/png": "[encoded data removed]",
      "text/plain": [
       "<Figure size 432x288 with 1 Axes>"
      ]
     },
     "metadata": {},
     "output_type": "display_data"
    }
   ],
   "source": [
    "# Loss Metrics\n",
    "plt.plot(history.history['loss'])\n",
    "plt.plot(history.history['val_loss'])\n",
    "plt.xlabel(\"Epochs\")\n",
    "plt.ylabel('Loss')\n",
    "plt.legend(['loss', 'val_loss'])\n",
    "plt.show()"
   ]
  },
  {
   "cell_type": "code",
   "execution_count": 24,
   "metadata": {},
   "outputs": [
    {
     "name": "stdout",
     "output_type": "stream",
     "text": [
      "128/128 [==============================] - 9s 71ms/step\n",
      "2181/2181 [==============================] - 159s 73ms/step\n",
      "Train Metrics\n",
      "-------------------------\n",
      "Accuracy: 0.999316\n",
      "Precision: 0.999155\n",
      "Recall: 0.999477\n",
      "F1 score: 0.999316\n",
      "F1-Macro score: 0.999316\n",
      "[[139450    118]\n",
      " [    73 139495]]\n",
      "Test Metrics\n",
      "-------------------------\n",
      "Accuracy: 0.978818\n",
      "Precision: 0.990838\n",
      "Recall: 0.966577\n",
      "F1 score: 0.978557\n",
      "F1-Macro score: 0.978815\n",
      "[[8094   73]\n",
      " [ 273 7895]]\n"
     ]
    }
   ],
   "source": [
    "pred_test_classes = model.predict_classes(test_sequences, verbose=1, batch_size=128)\n",
    "pred_train_classes = model.predict_classes(train_sequences, verbose=1, batch_size=128)\n",
    "\n",
    "from sklearn.metrics import accuracy_score\n",
    "from sklearn.metrics import precision_score\n",
    "from sklearn.metrics import recall_score\n",
    "from sklearn.metrics import f1_score\n",
    "from sklearn.metrics import cohen_kappa_score\n",
    "from sklearn.metrics import roc_auc_score\n",
    "from sklearn.metrics import confusion_matrix\n",
    "\n",
    "print('Train Metrics\\n-------------------------')\n",
    "# accuracy: (tp + tn) / (p + n)\n",
    "accuracy = accuracy_score(train_labels, pred_train_classes)\n",
    "print('Accuracy: %f' % accuracy)\n",
    "# precision tp / (tp + fp)\n",
    "precision = precision_score(train_labels, pred_train_classes)\n",
    "print('Precision: %f' % precision)\n",
    "# recall: tp / (tp + fn)\n",
    "recall = recall_score(train_labels, pred_train_classes)\n",
    "print('Recall: %f' % recall)\n",
    "# f1: 2 tp / (2 tp + fp + fn)\n",
    "f1 = f1_score(train_labels, pred_train_classes)\n",
    "print('F1 score: %f' % f1)\n",
    "f1M = f1_score(train_labels, pred_train_classes, average='macro')\n",
    "print('F1-Macro score: %f' % f1M)\n",
    "# confusion matrix\n",
    "matrix = confusion_matrix(train_labels, pred_train_classes)\n",
    "print(matrix)\n",
    "\n",
    "print('Test Metrics\\n-------------------------')\n",
    "# accuracy: (tp + tn) / (p + n)\n",
    "accuracy = accuracy_score(test_labels, pred_test_classes)\n",
    "print('Accuracy: %f' % accuracy)\n",
    "# precision tp / (tp + fp)\n",
    "precision = precision_score(test_labels, pred_test_classes)\n",
    "print('Precision: %f' % precision)\n",
    "# recall: tp / (tp + fn)\n",
    "recall = recall_score(test_labels, pred_test_classes)\n",
    "print('Recall: %f' % recall)\n",
    "# f1: 2 tp / (2 tp + fp + fn)\n",
    "f1 = f1_score(test_labels, pred_test_classes)\n",
    "print('F1 score: %f' % f1)\n",
    "f1M = f1_score(test_labels, pred_test_classes, average='macro')\n",
    "print('F1-Macro score: %f' % f1M)\n",
    "# confusion matrix\n",
    "matrix = confusion_matrix(test_labels, pred_test_classes)\n",
    "print(matrix)"
   ]
  },
  {
   "cell_type": "code",
   "execution_count": null,
   "metadata": {},
   "outputs": [],
   "source": []
  }
 ],
 "metadata": {
  "kernelspec": {
   "display_name": "Python 3",
   "language": "python",
   "name": "python3"
  },
  "language_info": {
   "codemirror_mode": {
    "name": "ipython",
    "version": 3
   },
   "file_extension": ".py",
   "mimetype": "text/x-python",
   "name": "python",
   "nbconvert_exporter": "python",
   "pygments_lexer": "ipython3",
   "version": "3.7.2"
  }
 },
 "nbformat": 4,
 "nbformat_minor": 4
}
