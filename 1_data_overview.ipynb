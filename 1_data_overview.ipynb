{
 "cells": [
  {
   "cell_type": "markdown",
   "metadata": {},
   "source": [
    "## Import Dataset"
   ]
  },
  {
   "cell_type": "code",
   "execution_count": 1,
   "metadata": {},
   "outputs": [
    {
     "data": {
      "text/html": [
       "<div>\n",
       "<style scoped>\n",
       "    .dataframe tbody tr th:only-of-type {\n",
       "        vertical-align: middle;\n",
       "    }\n",
       "\n",
       "    .dataframe tbody tr th {\n",
       "        vertical-align: top;\n",
       "    }\n",
       "\n",
       "    .dataframe thead th {\n",
       "        text-align: right;\n",
       "    }\n",
       "</style>\n",
       "<table border=\"1\" class=\"dataframe\">\n",
       "  <thead>\n",
       "    <tr style=\"text-align: right;\">\n",
       "      <th></th>\n",
       "      <th>_id</th>\n",
       "      <th>address</th>\n",
       "      <th>opcode</th>\n",
       "      <th>swc_label</th>\n",
       "    </tr>\n",
       "  </thead>\n",
       "  <tbody>\n",
       "    <tr>\n",
       "      <th>0</th>\n",
       "      <td>240000</td>\n",
       "      <td>0x8da4feb3dd3643943c614ca793e8f59baae50544</td>\n",
       "      <td>PUSH1 PUSH1 MSTORE PUSH1 CALLDATASIZE LT PUSH2...</td>\n",
       "      <td>0000000000000000000000000000000000000</td>\n",
       "    </tr>\n",
       "    <tr>\n",
       "      <th>1</th>\n",
       "      <td>240001</td>\n",
       "      <td>0xe1521029d2591ba2a0f92b6e744a825f665f748b</td>\n",
       "      <td>PUSH1 PUSH1 MSTORE PUSH1 CALLDATASIZE LT PUSH2...</td>\n",
       "      <td>0000000000000000000000000000000000000</td>\n",
       "    </tr>\n",
       "    <tr>\n",
       "      <th>2</th>\n",
       "      <td>240002</td>\n",
       "      <td>0xe378696ce7ad55cfacc40337f476faf8fba9aff2</td>\n",
       "      <td>PUSH1 PUSH1 MSTORE PUSH1 CALLDATASIZE LT PUSH2...</td>\n",
       "      <td>0000000000000000000000000000000000000</td>\n",
       "    </tr>\n",
       "    <tr>\n",
       "      <th>3</th>\n",
       "      <td>240003</td>\n",
       "      <td>0x1872b33bb33e372d6f039a8b6af2e1be228bda23</td>\n",
       "      <td>PUSH1 PUSH1 MSTORE CALLDATASIZE ISZERO PUSH2 J...</td>\n",
       "      <td>0000000000100000000000000000000000000</td>\n",
       "    </tr>\n",
       "    <tr>\n",
       "      <th>4</th>\n",
       "      <td>240004</td>\n",
       "      <td>0x6ef34258c0c8ae7acc688311189dfc783ebb5bfa</td>\n",
       "      <td>ORIGIN PUSH20 EQ ISZERO ADDRESS JUMPI PUSH20 S...</td>\n",
       "      <td>0000000000000001000000000000000000000</td>\n",
       "    </tr>\n",
       "    <tr>\n",
       "      <th>...</th>\n",
       "      <td>...</td>\n",
       "      <td>...</td>\n",
       "      <td>...</td>\n",
       "      <td>...</td>\n",
       "    </tr>\n",
       "    <tr>\n",
       "      <th>253827</th>\n",
       "      <td>29967</td>\n",
       "      <td>0xa8ba70d5c2fae0b92d5ef8607bf7de09916c3027</td>\n",
       "      <td>PUSH1 PUSH1 MSTORE PUSH1 CALLDATALOAD PUSH29 S...</td>\n",
       "      <td>0000001000000000000000000000000000000</td>\n",
       "    </tr>\n",
       "    <tr>\n",
       "      <th>253828</th>\n",
       "      <td>29968</td>\n",
       "      <td>0x69677e5c602c2e495ec059dbda9f46413a192cc0</td>\n",
       "      <td>PUSH1 PUSH1 MSTORE CALLDATASIZE ISZERO PUSH2 J...</td>\n",
       "      <td>0000000000000000000000000000000000000</td>\n",
       "    </tr>\n",
       "    <tr>\n",
       "      <th>253829</th>\n",
       "      <td>29969</td>\n",
       "      <td>0xf82b842bd96282ed2c50a2e64c8de1a9d6862825</td>\n",
       "      <td>PUSH1 PUSH1 MSTORE PUSH1 CALLDATASIZE LT PUSH2...</td>\n",
       "      <td>0000000000000000000000000000000000000</td>\n",
       "    </tr>\n",
       "    <tr>\n",
       "      <th>253830</th>\n",
       "      <td>29970</td>\n",
       "      <td>0x401071960e0201430b5a882ce47300b534bd78ff</td>\n",
       "      <td>PUSH1 PUSH1 MSTORE PUSH1 CALLDATASIZE LT PUSH2...</td>\n",
       "      <td>0000000000100000000000000000000000000</td>\n",
       "    </tr>\n",
       "    <tr>\n",
       "      <th>253831</th>\n",
       "      <td>29971</td>\n",
       "      <td>0xd2fcbec53476bb0fb8e278461cbaf5a949758356</td>\n",
       "      <td>PUSH1 PUSH1 MSTORE PUSH1 CALLDATASIZE LT PUSH2...</td>\n",
       "      <td>0000000000000000000000000000000000000</td>\n",
       "    </tr>\n",
       "  </tbody>\n",
       "</table>\n",
       "<p>253832 rows × 4 columns</p>\n",
       "</div>"
      ],
      "text/plain": [
       "           _id                                     address  \\\n",
       "0       240000  0x8da4feb3dd3643943c614ca793e8f59baae50544   \n",
       "1       240001  0xe1521029d2591ba2a0f92b6e744a825f665f748b   \n",
       "2       240002  0xe378696ce7ad55cfacc40337f476faf8fba9aff2   \n",
       "3       240003  0x1872b33bb33e372d6f039a8b6af2e1be228bda23   \n",
       "4       240004  0x6ef34258c0c8ae7acc688311189dfc783ebb5bfa   \n",
       "...        ...                                         ...   \n",
       "253827   29967  0xa8ba70d5c2fae0b92d5ef8607bf7de09916c3027   \n",
       "253828   29968  0x69677e5c602c2e495ec059dbda9f46413a192cc0   \n",
       "253829   29969  0xf82b842bd96282ed2c50a2e64c8de1a9d6862825   \n",
       "253830   29970  0x401071960e0201430b5a882ce47300b534bd78ff   \n",
       "253831   29971  0xd2fcbec53476bb0fb8e278461cbaf5a949758356   \n",
       "\n",
       "                                                   opcode  \\\n",
       "0       PUSH1 PUSH1 MSTORE PUSH1 CALLDATASIZE LT PUSH2...   \n",
       "1       PUSH1 PUSH1 MSTORE PUSH1 CALLDATASIZE LT PUSH2...   \n",
       "2       PUSH1 PUSH1 MSTORE PUSH1 CALLDATASIZE LT PUSH2...   \n",
       "3       PUSH1 PUSH1 MSTORE CALLDATASIZE ISZERO PUSH2 J...   \n",
       "4       ORIGIN PUSH20 EQ ISZERO ADDRESS JUMPI PUSH20 S...   \n",
       "...                                                   ...   \n",
       "253827  PUSH1 PUSH1 MSTORE PUSH1 CALLDATALOAD PUSH29 S...   \n",
       "253828  PUSH1 PUSH1 MSTORE CALLDATASIZE ISZERO PUSH2 J...   \n",
       "253829  PUSH1 PUSH1 MSTORE PUSH1 CALLDATASIZE LT PUSH2...   \n",
       "253830  PUSH1 PUSH1 MSTORE PUSH1 CALLDATASIZE LT PUSH2...   \n",
       "253831  PUSH1 PUSH1 MSTORE PUSH1 CALLDATASIZE LT PUSH2...   \n",
       "\n",
       "                                    swc_label  \n",
       "0       0000000000000000000000000000000000000  \n",
       "1       0000000000000000000000000000000000000  \n",
       "2       0000000000000000000000000000000000000  \n",
       "3       0000000000100000000000000000000000000  \n",
       "4       0000000000000001000000000000000000000  \n",
       "...                                       ...  \n",
       "253827  0000001000000000000000000000000000000  \n",
       "253828  0000000000000000000000000000000000000  \n",
       "253829  0000000000000000000000000000000000000  \n",
       "253830  0000000000100000000000000000000000000  \n",
       "253831  0000000000000000000000000000000000000  \n",
       "\n",
       "[253832 rows x 4 columns]"
      ]
     },
     "execution_count": 1,
     "metadata": {},
     "output_type": "execute_result"
    }
   ],
   "source": [
    "import pandas as pd\n",
    "\n",
    "opc = pd.read_csv('CDS_opcode_cv1.csv', dtype={'swc_label': object, 'opcode': object})\n",
    "\n",
    "opc"
   ]
  },
  {
   "cell_type": "markdown",
   "metadata": {},
   "source": [
    "## OPCODE Discovery"
   ]
  },
  {
   "cell_type": "markdown",
   "metadata": {},
   "source": [
    "### 1. Replace Hex Values"
   ]
  },
  {
   "cell_type": "code",
   "execution_count": 2,
   "metadata": {},
   "outputs": [],
   "source": [
    "def re_hex_val(opcode):\n",
    "    opcode = str(opcode)\n",
    "    opcode = opcode.replace('|', '')\n",
    "    regex = '(0x|0X)[a-fA-F0-9]+ '\n",
    "    import re\n",
    "    opcode = re.sub(regex, '', opcode)\n",
    "    opcode = opcode.strip()\n",
    "    return opcode"
   ]
  },
  {
   "cell_type": "code",
   "execution_count": 3,
   "metadata": {},
   "outputs": [],
   "source": [
    "opc['opcode'] = opc['opcode'].apply(re_hex_val)"
   ]
  },
  {
   "cell_type": "code",
   "execution_count": 4,
   "metadata": {},
   "outputs": [
    {
     "data": {
      "text/html": [
       "<div>\n",
       "<style scoped>\n",
       "    .dataframe tbody tr th:only-of-type {\n",
       "        vertical-align: middle;\n",
       "    }\n",
       "\n",
       "    .dataframe tbody tr th {\n",
       "        vertical-align: top;\n",
       "    }\n",
       "\n",
       "    .dataframe thead th {\n",
       "        text-align: right;\n",
       "    }\n",
       "</style>\n",
       "<table border=\"1\" class=\"dataframe\">\n",
       "  <thead>\n",
       "    <tr style=\"text-align: right;\">\n",
       "      <th></th>\n",
       "      <th>_id</th>\n",
       "      <th>address</th>\n",
       "      <th>opcode</th>\n",
       "      <th>swc_label</th>\n",
       "    </tr>\n",
       "  </thead>\n",
       "  <tbody>\n",
       "    <tr>\n",
       "      <th>0</th>\n",
       "      <td>240000</td>\n",
       "      <td>0x8da4feb3dd3643943c614ca793e8f59baae50544</td>\n",
       "      <td>PUSH1 PUSH1 MSTORE PUSH1 CALLDATASIZE LT PUSH2...</td>\n",
       "      <td>0000000000000000000000000000000000000</td>\n",
       "    </tr>\n",
       "    <tr>\n",
       "      <th>1</th>\n",
       "      <td>240001</td>\n",
       "      <td>0xe1521029d2591ba2a0f92b6e744a825f665f748b</td>\n",
       "      <td>PUSH1 PUSH1 MSTORE PUSH1 CALLDATASIZE LT PUSH2...</td>\n",
       "      <td>0000000000000000000000000000000000000</td>\n",
       "    </tr>\n",
       "    <tr>\n",
       "      <th>2</th>\n",
       "      <td>240002</td>\n",
       "      <td>0xe378696ce7ad55cfacc40337f476faf8fba9aff2</td>\n",
       "      <td>PUSH1 PUSH1 MSTORE PUSH1 CALLDATASIZE LT PUSH2...</td>\n",
       "      <td>0000000000000000000000000000000000000</td>\n",
       "    </tr>\n",
       "    <tr>\n",
       "      <th>3</th>\n",
       "      <td>240003</td>\n",
       "      <td>0x1872b33bb33e372d6f039a8b6af2e1be228bda23</td>\n",
       "      <td>PUSH1 PUSH1 MSTORE CALLDATASIZE ISZERO PUSH2 J...</td>\n",
       "      <td>0000000000100000000000000000000000000</td>\n",
       "    </tr>\n",
       "    <tr>\n",
       "      <th>4</th>\n",
       "      <td>240004</td>\n",
       "      <td>0x6ef34258c0c8ae7acc688311189dfc783ebb5bfa</td>\n",
       "      <td>ORIGIN PUSH20 EQ ISZERO ADDRESS JUMPI PUSH20 S...</td>\n",
       "      <td>0000000000000001000000000000000000000</td>\n",
       "    </tr>\n",
       "    <tr>\n",
       "      <th>...</th>\n",
       "      <td>...</td>\n",
       "      <td>...</td>\n",
       "      <td>...</td>\n",
       "      <td>...</td>\n",
       "    </tr>\n",
       "    <tr>\n",
       "      <th>253827</th>\n",
       "      <td>29967</td>\n",
       "      <td>0xa8ba70d5c2fae0b92d5ef8607bf7de09916c3027</td>\n",
       "      <td>PUSH1 PUSH1 MSTORE PUSH1 CALLDATALOAD PUSH29 S...</td>\n",
       "      <td>0000001000000000000000000000000000000</td>\n",
       "    </tr>\n",
       "    <tr>\n",
       "      <th>253828</th>\n",
       "      <td>29968</td>\n",
       "      <td>0x69677e5c602c2e495ec059dbda9f46413a192cc0</td>\n",
       "      <td>PUSH1 PUSH1 MSTORE CALLDATASIZE ISZERO PUSH2 J...</td>\n",
       "      <td>0000000000000000000000000000000000000</td>\n",
       "    </tr>\n",
       "    <tr>\n",
       "      <th>253829</th>\n",
       "      <td>29969</td>\n",
       "      <td>0xf82b842bd96282ed2c50a2e64c8de1a9d6862825</td>\n",
       "      <td>PUSH1 PUSH1 MSTORE PUSH1 CALLDATASIZE LT PUSH2...</td>\n",
       "      <td>0000000000000000000000000000000000000</td>\n",
       "    </tr>\n",
       "    <tr>\n",
       "      <th>253830</th>\n",
       "      <td>29970</td>\n",
       "      <td>0x401071960e0201430b5a882ce47300b534bd78ff</td>\n",
       "      <td>PUSH1 PUSH1 MSTORE PUSH1 CALLDATASIZE LT PUSH2...</td>\n",
       "      <td>0000000000100000000000000000000000000</td>\n",
       "    </tr>\n",
       "    <tr>\n",
       "      <th>253831</th>\n",
       "      <td>29971</td>\n",
       "      <td>0xd2fcbec53476bb0fb8e278461cbaf5a949758356</td>\n",
       "      <td>PUSH1 PUSH1 MSTORE PUSH1 CALLDATASIZE LT PUSH2...</td>\n",
       "      <td>0000000000000000000000000000000000000</td>\n",
       "    </tr>\n",
       "  </tbody>\n",
       "</table>\n",
       "<p>253832 rows × 4 columns</p>\n",
       "</div>"
      ],
      "text/plain": [
       "           _id                                     address  \\\n",
       "0       240000  0x8da4feb3dd3643943c614ca793e8f59baae50544   \n",
       "1       240001  0xe1521029d2591ba2a0f92b6e744a825f665f748b   \n",
       "2       240002  0xe378696ce7ad55cfacc40337f476faf8fba9aff2   \n",
       "3       240003  0x1872b33bb33e372d6f039a8b6af2e1be228bda23   \n",
       "4       240004  0x6ef34258c0c8ae7acc688311189dfc783ebb5bfa   \n",
       "...        ...                                         ...   \n",
       "253827   29967  0xa8ba70d5c2fae0b92d5ef8607bf7de09916c3027   \n",
       "253828   29968  0x69677e5c602c2e495ec059dbda9f46413a192cc0   \n",
       "253829   29969  0xf82b842bd96282ed2c50a2e64c8de1a9d6862825   \n",
       "253830   29970  0x401071960e0201430b5a882ce47300b534bd78ff   \n",
       "253831   29971  0xd2fcbec53476bb0fb8e278461cbaf5a949758356   \n",
       "\n",
       "                                                   opcode  \\\n",
       "0       PUSH1 PUSH1 MSTORE PUSH1 CALLDATASIZE LT PUSH2...   \n",
       "1       PUSH1 PUSH1 MSTORE PUSH1 CALLDATASIZE LT PUSH2...   \n",
       "2       PUSH1 PUSH1 MSTORE PUSH1 CALLDATASIZE LT PUSH2...   \n",
       "3       PUSH1 PUSH1 MSTORE CALLDATASIZE ISZERO PUSH2 J...   \n",
       "4       ORIGIN PUSH20 EQ ISZERO ADDRESS JUMPI PUSH20 S...   \n",
       "...                                                   ...   \n",
       "253827  PUSH1 PUSH1 MSTORE PUSH1 CALLDATALOAD PUSH29 S...   \n",
       "253828  PUSH1 PUSH1 MSTORE CALLDATASIZE ISZERO PUSH2 J...   \n",
       "253829  PUSH1 PUSH1 MSTORE PUSH1 CALLDATASIZE LT PUSH2...   \n",
       "253830  PUSH1 PUSH1 MSTORE PUSH1 CALLDATASIZE LT PUSH2...   \n",
       "253831  PUSH1 PUSH1 MSTORE PUSH1 CALLDATASIZE LT PUSH2...   \n",
       "\n",
       "                                    swc_label  \n",
       "0       0000000000000000000000000000000000000  \n",
       "1       0000000000000000000000000000000000000  \n",
       "2       0000000000000000000000000000000000000  \n",
       "3       0000000000100000000000000000000000000  \n",
       "4       0000000000000001000000000000000000000  \n",
       "...                                       ...  \n",
       "253827  0000001000000000000000000000000000000  \n",
       "253828  0000000000000000000000000000000000000  \n",
       "253829  0000000000000000000000000000000000000  \n",
       "253830  0000000000100000000000000000000000000  \n",
       "253831  0000000000000000000000000000000000000  \n",
       "\n",
       "[253832 rows x 4 columns]"
      ]
     },
     "execution_count": 4,
     "metadata": {},
     "output_type": "execute_result"
    }
   ],
   "source": [
    "opc"
   ]
  },
  {
   "cell_type": "code",
   "execution_count": 5,
   "metadata": {},
   "outputs": [
    {
     "data": {
      "text/plain": [
       "'PUSH1 PUSH1 MSTORE PUSH1 CALLDATASIZE LT PUSH2 JUMPI PUSH1 CALLDATALOAD PUSH29 SWAP1 DIV PUSH4 AND DUP1 PUSH4 EQ PUSH2 JUMPI DUP1 PUSH4 EQ PUSH2 JUMPI DUP1 PUSH4 EQ PUSH2 JUMPI DUP1 PUSH4 EQ PUSH2 JUMPI DUP1 PUSH4 EQ PUSH2 JUMPI DUP1 PUSH4 EQ PUSH2 JUMPI DUP1 PUSH4 EQ PUSH2 JUMPI DUP1 PUSH4 EQ PUSH2 JUMPI DUP1 PUSH4 EQ PUSH2 JUMPI DUP1 PUSH4 EQ PUSH2 JUMPI DUP1 PUSH4 EQ PUSH2 JUMPI JUMPDEST PUSH1 DUP1 REVERT JUMPDEST CALLVALUE DUP1 ISZERO PUSH2 JUMPI PUSH1 DUP1 REVERT JUMPDEST POP PUSH2 PUSH2 JUMP JUMPDEST PUSH1 MLOAD DUP1 DUP1 PUSH1 ADD DUP3 DUP2 SUB DUP3 MSTORE DUP4 DUP2 DUP2 MLOAD DUP2 MSTORE PUSH1 ADD SWAP2 POP DUP1 MLOAD SWAP1 PUSH1 ADD SWAP1 DUP1 DUP4 DUP4 PUSH1 JUMPDEST DUP4 DUP2 LT ISZERO PUSH2 JUMPI DUP1 DUP3 ADD MLOAD DUP2 DUP5 ADD MSTORE PUSH1 DUP2 ADD SWAP1 POP PUSH2 JUMP JUMPDEST POP POP POP POP SWAP1 POP SWAP1 DUP2 ADD SWAP1 PUSH1 AND DUP1 ISZERO PUSH2 JUMPI DUP1 DUP3 SUB DUP1 MLOAD PUSH1 DUP4 PUSH1 SUB PUSH2 EXP SUB NOT AND DUP2 MSTORE PUSH1 ADD SWAP2 POP JUMPDEST POP SWAP3 POP POP POP PUSH1 MLOAD DUP1 SWAP2 SUB SWAP1 RETURN JUMPDEST CALLVALUE DUP1 ISZERO PUSH2 JUMPI PUSH1 DUP1 REVERT JUMPDEST POP PUSH2 PUSH1 DUP1 CALLDATASIZE SUB DUP2 ADD SWAP1 DUP1 DUP1 CALLDATALOAD PUSH20 AND SWAP1 PUSH1 ADD SWAP1 SWAP3 SWAP2 SWAP1 DUP1 CALLDATALOAD SWAP1 PUSH1 ADD SWAP1 SWAP3 SWAP2 SWAP1 POP POP POP PUSH2 JUMP JUMPDEST PUSH1 MLOAD DUP1 DUP3 ISZERO ISZERO ISZERO ISZERO DUP2 MSTORE PUSH1 ADD SWAP2 POP POP PUSH1 MLOAD DUP1 SWAP2 SUB SWAP1 RETURN JUMPDEST CALLVALUE DUP1 ISZERO PUSH2 JUMPI PUSH1 DUP1 REVERT JUMPDEST POP PUSH2 PUSH2 JUMP JUMPDEST PUSH1 MLOAD DUP1 DUP3 DUP2 MSTORE PUSH1 ADD SWAP2 POP POP PUSH1 MLOAD DUP1 SWAP2 SUB SWAP1 RETURN JUMPDEST CALLVALUE DUP1 ISZERO PUSH2 JUMPI PUSH1 DUP1 REVERT JUMPDEST POP PUSH2 PUSH1 DUP1 CALLDATASIZE SUB DUP2 ADD SWAP1 DUP1 DUP1 CALLDATALOAD PUSH20 AND SWAP1 PUSH1 ADD SWAP1 SWAP3 SWAP2 SWAP1 DUP1 CALLDATALOAD PUSH20 AND SWAP1 PUSH1 ADD SWAP1 SWAP3 SWAP2 SWAP1 DUP1 CALLDATALOAD SWAP1 PUSH1 ADD SWAP1 SWAP3 SWAP2 SWAP1 POP POP POP PUSH2 JUMP JUMPDEST PUSH1 MLOAD DUP1 DUP3 ISZERO ISZERO ISZERO ISZERO DUP2 MSTORE PUSH1 ADD SWAP2 POP POP PUSH1 MLOAD DUP1 SWAP2 SUB SWAP1 RETURN JUMPDEST CALLVALUE DUP1 ISZERO PUSH2 JUMPI PUSH1 DUP1 REVERT JUMPDEST POP PUSH2 PUSH2 JUMP JUMPDEST PUSH1 MLOAD DUP1 DUP3 PUSH1 AND PUSH1 AND DUP2 MSTORE PUSH1 ADD SWAP2 POP POP PUSH1 MLOAD DUP1 SWAP2 SUB SWAP1 RETURN JUMPDEST CALLVALUE DUP1 ISZERO PUSH2 JUMPI PUSH1 DUP1 REVERT JUMPDEST POP PUSH2 PUSH2 JUMP JUMPDEST PUSH1 MLOAD DUP1 DUP1 PUSH1 ADD DUP3 DUP2 SUB DUP3 MSTORE DUP4 DUP2 DUP2 MLOAD DUP2 MSTORE PUSH1 ADD SWAP2 POP DUP1 MLOAD SWAP1 PUSH1 ADD SWAP1 DUP1 DUP4 DUP4 PUSH1 JUMPDEST DUP4 DUP2 LT ISZERO PUSH2 JUMPI DUP1 DUP3 ADD MLOAD DUP2 DUP5 ADD MSTORE PUSH1 DUP2 ADD SWAP1 POP PUSH2 JUMP JUMPDEST POP POP POP POP SWAP1 POP SWAP1 DUP2 ADD SWAP1 PUSH1 AND DUP1 ISZERO PUSH2 JUMPI DUP1 DUP3 SUB DUP1 MLOAD PUSH1 DUP4 PUSH1 SUB PUSH2 EXP SUB NOT AND DUP2 MSTORE PUSH1 ADD SWAP2 POP JUMPDEST POP SWAP3 POP POP POP PUSH1 MLOAD DUP1 SWAP2 SUB SWAP1 RETURN JUMPDEST CALLVALUE DUP1 ISZERO PUSH2 JUMPI PUSH1 DUP1 REVERT JUMPDEST POP PUSH2 PUSH1 DUP1 CALLDATASIZE SUB DUP2 ADD SWAP1 DUP1 DUP1 CALLDATALOAD PUSH20 AND SWAP1 PUSH1 ADD SWAP1 SWAP3 SWAP2 SWAP1 POP POP POP PUSH2 JUMP JUMPDEST PUSH1 MLOAD DUP1 DUP3 DUP2 MSTORE PUSH1 ADD SWAP2 POP POP PUSH1 MLOAD DUP1 SWAP2 SUB SWAP1 RETURN JUMPDEST CALLVALUE DUP1 ISZERO PUSH2 JUMPI PUSH1 DUP1 REVERT JUMPDEST POP PUSH2 PUSH2 JUMP JUMPDEST PUSH1 MLOAD DUP1 DUP1 PUSH1 ADD DUP3 DUP2 SUB DUP3 MSTORE DUP4 DUP2 DUP2 MLOAD DUP2 MSTORE PUSH1 ADD SWAP2 POP DUP1 MLOAD SWAP1 PUSH1 ADD SWAP1 DUP1 DUP4 DUP4 PUSH1 JUMPDEST DUP4 DUP2 LT ISZERO PUSH2 JUMPI DUP1 DUP3 ADD MLOAD DUP2 DUP5 ADD MSTORE PUSH1 DUP2 ADD SWAP1 POP PUSH2 JUMP JUMPDEST POP POP POP POP SWAP1 POP SWAP1 DUP2 ADD SWAP1 PUSH1 AND DUP1 ISZERO PUSH2 JUMPI DUP1 DUP3 SUB DUP1 MLOAD PUSH1 DUP4 PUSH1 SUB PUSH2 EXP SUB NOT AND DUP2 MSTORE PUSH1 ADD SWAP2 POP JUMPDEST POP SWAP3 POP POP POP PUSH1 MLOAD DUP1 SWAP2 SUB SWAP1 RETURN JUMPDEST CALLVALUE DUP1 ISZERO PUSH2 JUMPI PUSH1 DUP1 REVERT JUMPDEST POP PUSH2 PUSH1 DUP1 CALLDATASIZE SUB DUP2 ADD SWAP1 DUP1 DUP1 CALLDATALOAD PUSH20 AND SWAP1 PUSH1 ADD SWAP1 SWAP3 SWAP2 SWAP1 DUP1 CALLDATALOAD SWAP1 PUSH1 ADD SWAP1 SWAP3 SWAP2 SWAP1 POP POP POP PUSH2 JUMP JUMPDEST PUSH1 MLOAD DUP1 DUP3 ISZERO ISZERO ISZERO ISZERO DUP2 MSTORE PUSH1 ADD SWAP2 POP POP PUSH1 MLOAD DUP1 SWAP2 SUB SWAP1 RETURN JUMPDEST CALLVALUE DUP1 ISZERO PUSH2 JUMPI PUSH1 DUP1 REVERT JUMPDEST POP PUSH2 PUSH1 DUP1 CALLDATASIZE SUB DUP2 ADD SWAP1 DUP1 DUP1 CALLDATALOAD PUSH20 AND SWAP1 PUSH1 ADD SWAP1 SWAP3 SWAP2 SWAP1 DUP1 CALLDATALOAD SWAP1 PUSH1 ADD SWAP1 SWAP3 SWAP2 SWAP1 DUP1 CALLDATALOAD SWAP1 PUSH1 ADD SWAP1 DUP3 ADD DUP1 CALLDATALOAD SWAP1 PUSH1 ADD SWAP1 DUP1 DUP1 PUSH1 ADD PUSH1 DUP1 SWAP2 DIV MUL PUSH1 ADD PUSH1 MLOAD SWAP1 DUP2 ADD PUSH1 MSTORE DUP1 SWAP4 SWAP3 SWAP2 SWAP1 DUP2 DUP2 MSTORE PUSH1 ADD DUP4 DUP4 DUP1 DUP3 DUP5 CALLDATACOPY DUP3 ADD SWAP2 POP POP POP POP POP POP SWAP2 SWAP3 SWAP2 SWAP3 SWAP1 POP POP POP PUSH2 JUMP JUMPDEST PUSH1 MLOAD DUP1 DUP3 ISZERO ISZERO ISZERO ISZERO DUP2 MSTORE PUSH1 ADD SWAP2 POP POP PUSH1 MLOAD DUP1 SWAP2 SUB SWAP1 RETURN JUMPDEST CALLVALUE DUP1 ISZERO PUSH2 JUMPI PUSH1 DUP1 REVERT JUMPDEST POP PUSH2 PUSH1 DUP1 CALLDATASIZE SUB DUP2 ADD SWAP1 DUP1 DUP1 CALLDATALOAD PUSH20 AND SWAP1 PUSH1 ADD SWAP1 SWAP3 SWAP2 SWAP1 DUP1 CALLDATALOAD PUSH20 AND SWAP1 PUSH1 ADD SWAP1 SWAP3 SWAP2 SWAP1 POP POP POP PUSH2 JUMP JUMPDEST PUSH1 MLOAD DUP1 DUP3 DUP2 MSTORE PUSH1 ADD SWAP2 POP POP PUSH1 MLOAD DUP1 SWAP2 SUB SWAP1 RETURN JUMPDEST PUSH1 DUP1 SLOAD PUSH1 DUP2 PUSH1 AND ISZERO PUSH2 MUL SUB AND PUSH1 SWAP1 DIV DUP1 PUSH1 ADD PUSH1 DUP1 SWAP2 DIV MUL PUSH1 ADD PUSH1 MLOAD SWAP1 DUP2 ADD PUSH1 MSTORE DUP1 SWAP3 SWAP2 SWAP1 DUP2 DUP2 MSTORE PUSH1 ADD DUP3 DUP1 SLOAD PUSH1 DUP2 PUSH1 AND ISZERO PUSH2 MUL SUB AND PUSH1 SWAP1 DIV DUP1 ISZERO PUSH2 JUMPI DUP1 PUSH1 LT PUSH2 JUMPI PUSH2 DUP1 DUP4 SLOAD DIV MUL DUP4 MSTORE SWAP2 PUSH1 ADD SWAP2 PUSH2 JUMP JUMPDEST DUP3 ADD SWAP2 SWAP1 PUSH1 MSTORE PUSH1 PUSH1 SHA3 SWAP1 JUMPDEST DUP2 SLOAD DUP2 MSTORE SWAP1 PUSH1 ADD SWAP1 PUSH1 ADD DUP1 DUP4 GT PUSH2 JUMPI DUP3 SWAP1 SUB PUSH1 AND DUP3 ADD SWAP2 JUMPDEST POP POP POP POP POP DUP2 JUMP JUMPDEST PUSH1 DUP2 PUSH1 PUSH1 CALLER PUSH20 AND PUSH20 AND DUP2 MSTORE PUSH1 ADD SWAP1 DUP2 MSTORE PUSH1 ADD PUSH1 SHA3 PUSH1 DUP6 PUSH20 AND PUSH20 AND DUP2 MSTORE PUSH1 ADD SWAP1 DUP2 MSTORE PUSH1 ADD PUSH1 SHA3 DUP2 SWAP1 SSTORE POP DUP3 PUSH20 AND CALLER PUSH20 AND PUSH32 DUP5 PUSH1 MLOAD DUP1 DUP3 DUP2 MSTORE PUSH1 ADD SWAP2 POP POP PUSH1 MLOAD DUP1 SWAP2 SUB SWAP1 LOG3 PUSH1 SWAP1 POP SWAP3 SWAP2 POP POP JUMP JUMPDEST PUSH1 SLOAD DUP2 JUMP JUMPDEST PUSH1 DUP2 PUSH1 PUSH1 DUP7 PUSH20 AND PUSH20 AND DUP2 MSTORE PUSH1 ADD SWAP1 DUP2 MSTORE PUSH1 ADD PUSH1 SHA3 SLOAD LT ISZERO DUP1 ISZERO PUSH2 JUMPI POP DUP2 PUSH1 PUSH1 DUP7 PUSH20 AND PUSH20 AND DUP2 MSTORE PUSH1 ADD SWAP1 DUP2 MSTORE PUSH1 ADD PUSH1 SHA3 PUSH1 CALLER PUSH20 AND PUSH20 AND DUP2 MSTORE PUSH1 ADD SWAP1 DUP2 MSTORE PUSH1 ADD PUSH1 SHA3 SLOAD LT ISZERO JUMPDEST ISZERO ISZERO PUSH2 JUMPI PUSH1 DUP1 REVERT JUMPDEST DUP2 PUSH1 PUSH1 DUP6 PUSH20 AND PUSH20 AND DUP2 MSTORE PUSH1 ADD SWAP1 DUP2 MSTORE PUSH1 ADD PUSH1 SHA3 PUSH1 DUP3 DUP3 SLOAD ADD SWAP3 POP POP DUP2 SWAP1 SSTORE POP DUP2 PUSH1 PUSH1 DUP7 PUSH20 AND PUSH20 AND DUP2 MSTORE PUSH1 ADD SWAP1 DUP2 MSTORE PUSH1 ADD PUSH1 SHA3 PUSH1 DUP3 DUP3 SLOAD SUB SWAP3 POP POP DUP2 SWAP1 SSTORE POP DUP2 PUSH1 PUSH1 DUP7 PUSH20 AND PUSH20 AND DUP2 MSTORE PUSH1 ADD SWAP1 DUP2 MSTORE PUSH1 ADD PUSH1 SHA3 PUSH1 CALLER PUSH20 AND PUSH20 AND DUP2 MSTORE PUSH1 ADD SWAP1 DUP2 MSTORE PUSH1 ADD PUSH1 SHA3 PUSH1 DUP3 DUP3 SLOAD SUB SWAP3 POP POP DUP2 SWAP1 SSTORE POP DUP3 PUSH20 AND DUP5 PUSH20 AND PUSH32 DUP5 PUSH1 MLOAD DUP1 DUP3 DUP2 MSTORE PUSH1 ADD SWAP2 POP POP PUSH1 MLOAD DUP1 SWAP2 SUB SWAP1 LOG3 PUSH1 SWAP1 POP SWAP4 SWAP3 POP POP POP JUMP JUMPDEST PUSH1 PUSH1 SWAP1 SLOAD SWAP1 PUSH2 EXP SWAP1 DIV PUSH1 AND DUP2 JUMP JUMPDEST PUSH1 DUP1 SLOAD PUSH1 DUP2 PUSH1 AND ISZERO PUSH2 MUL SUB AND PUSH1 SWAP1 DIV DUP1 PUSH1 ADD PUSH1 DUP1 SWAP2 DIV MUL PUSH1 ADD PUSH1 MLOAD SWAP1 DUP2 ADD PUSH1 MSTORE DUP1 SWAP3 SWAP2 SWAP1 DUP2 DUP2 MSTORE PUSH1 ADD DUP3 DUP1 SLOAD PUSH1 DUP2 PUSH1 AND ISZERO PUSH2 MUL SUB AND PUSH1 SWAP1 DIV DUP1 ISZERO PUSH2 JUMPI DUP1 PUSH1 LT PUSH2 JUMPI PUSH2 DUP1 DUP4 SLOAD DIV MUL DUP4 MSTORE SWAP2 PUSH1 ADD SWAP2 PUSH2 JUMP JUMPDEST DUP3 ADD SWAP2 SWAP1 PUSH1 MSTORE PUSH1 PUSH1 SHA3 SWAP1 JUMPDEST DUP2 SLOAD DUP2 MSTORE SWAP1 PUSH1 ADD SWAP1 PUSH1 ADD DUP1 DUP4 GT PUSH2 JUMPI DUP3 SWAP1 SUB PUSH1 AND DUP3 ADD SWAP2 JUMPDEST POP POP POP POP POP DUP2 JUMP JUMPDEST PUSH1 PUSH1 PUSH1 DUP4 PUSH20 AND PUSH20 AND DUP2 MSTORE PUSH1 ADD SWAP1 DUP2 MSTORE PUSH1 ADD PUSH1 SHA3 SLOAD SWAP1 POP SWAP2 SWAP1 POP JUMP JUMPDEST PUSH1 DUP1 SLOAD PUSH1 DUP2 PUSH1 AND ISZERO PUSH2 MUL SUB AND PUSH1 SWAP1 DIV DUP1 PUSH1 ADD PUSH1 DUP1 SWAP2 DIV MUL PUSH1 ADD PUSH1 MLOAD SWAP1 DUP2 ADD PUSH1 MSTORE DUP1 SWAP3 SWAP2 SWAP1 DUP2 DUP2 MSTORE PUSH1 ADD DUP3 DUP1 SLOAD PUSH1 DUP2 PUSH1 AND ISZERO PUSH2 MUL SUB AND PUSH1 SWAP1 DIV DUP1 ISZERO PUSH2 JUMPI DUP1 PUSH1 LT PUSH2 JUMPI PUSH2 DUP1 DUP4 SLOAD DIV MUL DUP4 MSTORE SWAP2 PUSH1 ADD SWAP2 PUSH2 JUMP JUMPDEST DUP3 ADD SWAP2 SWAP1 PUSH1 MSTORE PUSH1 PUSH1 SHA3 SWAP1 JUMPDEST DUP2 SLOAD DUP2 MSTORE SWAP1 PUSH1 ADD SWAP1 PUSH1 ADD DUP1 DUP4 GT PUSH2 JUMPI DUP3 SWAP1 SUB PUSH1 AND DUP3 ADD SWAP2 JUMPDEST POP POP POP POP POP DUP2 JUMP JUMPDEST PUSH1 DUP2 PUSH1 PUSH1 CALLER PUSH20 AND PUSH20 AND DUP2 MSTORE PUSH1 ADD SWAP1 DUP2 MSTORE PUSH1 ADD PUSH1 SHA3 SLOAD LT ISZERO ISZERO ISZERO PUSH2 JUMPI PUSH1 DUP1 REVERT JUMPDEST DUP2 PUSH1 PUSH1 CALLER PUSH20 AND PUSH20 AND DUP2 MSTORE PUSH1 ADD SWAP1 DUP2 MSTORE PUSH1 ADD PUSH1 SHA3 PUSH1 DUP3 DUP3 SLOAD SUB SWAP3 POP POP DUP2 SWAP1 SSTORE POP DUP2 PUSH1 PUSH1 DUP6 PUSH20 AND PUSH20 AND DUP2 MSTORE PUSH1 ADD SWAP1 DUP2 MSTORE PUSH1 ADD PUSH1 SHA3 PUSH1 DUP3 DUP3 SLOAD ADD SWAP3 POP POP DUP2 SWAP1 SSTORE POP DUP3 PUSH20 AND CALLER PUSH20 AND PUSH32 DUP5 PUSH1 MLOAD DUP1 DUP3 DUP2 MSTORE PUSH1 ADD SWAP2 POP POP PUSH1 MLOAD DUP1 SWAP2 SUB SWAP1 LOG3 PUSH1 SWAP1 POP SWAP3 SWAP2 POP POP JUMP JUMPDEST PUSH1 DUP3 PUSH1 PUSH1 CALLER PUSH20 AND PUSH20 AND DUP2 MSTORE PUSH1 ADD SWAP1 DUP2 MSTORE PUSH1 ADD PUSH1 SHA3 PUSH1 DUP7 PUSH20 AND PUSH20 AND DUP2 MSTORE PUSH1 ADD SWAP1 DUP2 MSTORE PUSH1 ADD PUSH1 SHA3 DUP2 SWAP1 SSTORE POP DUP4 PUSH20 AND CALLER PUSH20 AND PUSH32 DUP6 PUSH1 MLOAD DUP1 DUP3 DUP2 MSTORE PUSH1 ADD SWAP2 POP POP PUSH1 MLOAD DUP1 SWAP2 SUB SWAP1 LOG3 DUP4 PUSH20 AND PUSH1 MLOAD DUP1 DUP1 PUSH32 DUP2 MSTORE PUSH1 ADD PUSH32 DUP2 MSTORE POP PUSH1 ADD SWAP1 POP PUSH1 MLOAD DUP1 SWAP2 SUB SWAP1 SHA3 PUSH29 SWAP1 DIV CALLER DUP6 ADDRESS DUP7 PUSH1 MLOAD DUP6 PUSH4 AND PUSH29 MUL DUP2 MSTORE PUSH1 ADD DUP1 DUP6 PUSH20 AND PUSH20 AND DUP2 MSTORE PUSH1 ADD DUP5 DUP2 MSTORE PUSH1 ADD DUP4 PUSH20 AND PUSH20 AND DUP2 MSTORE PUSH1 ADD DUP3 DUP1 MLOAD SWAP1 PUSH1 ADD SWAP1 DUP1 DUP4 DUP4 PUSH1 JUMPDEST DUP4 DUP2 LT ISZERO PUSH2 JUMPI DUP1 DUP3 ADD MLOAD DUP2 DUP5 ADD MSTORE PUSH1 DUP2 ADD SWAP1 POP PUSH2 JUMP JUMPDEST POP POP POP POP SWAP1 POP SWAP1 DUP2 ADD SWAP1 PUSH1 AND DUP1 ISZERO PUSH2 JUMPI DUP1 DUP3 SUB DUP1 MLOAD PUSH1 DUP4 PUSH1 SUB PUSH2 EXP SUB NOT AND DUP2 MSTORE PUSH1 ADD SWAP2 POP JUMPDEST POP SWAP5 POP POP POP POP POP PUSH1 PUSH1 MLOAD DUP1 DUP4 SUB DUP2 PUSH1 DUP8 GAS CALL SWAP3 POP POP POP ISZERO ISZERO PUSH2 JUMPI PUSH1 DUP1 REVERT JUMPDEST PUSH1 SWAP1 POP SWAP4 SWAP3 POP POP POP JUMP JUMPDEST PUSH1 PUSH1 PUSH1 DUP5 PUSH20 AND PUSH20 AND DUP2 MSTORE PUSH1 ADD SWAP1 DUP2 MSTORE PUSH1 ADD PUSH1 SHA3 PUSH1 DUP4 PUSH20 AND PUSH20 AND DUP2 MSTORE PUSH1 ADD SWAP1 DUP2 MSTORE PUSH1 ADD PUSH1 SHA3 SLOAD SWAP1 POP SWAP3 SWAP2 POP POP JUMP STOP'"
      ]
     },
     "execution_count": 5,
     "metadata": {},
     "output_type": "execute_result"
    }
   ],
   "source": [
    "opc['opcode'][256]"
   ]
  },
  {
   "cell_type": "markdown",
   "metadata": {},
   "source": [
    "### 2. Create List of Unique OPCODES"
   ]
  },
  {
   "cell_type": "code",
   "execution_count": 6,
   "metadata": {},
   "outputs": [
    {
     "ename": "KeyboardInterrupt",
     "evalue": "",
     "output_type": "error",
     "traceback": [
      "\u001b[0;31m---------------------------------------------------------------------------\u001b[0m",
      "\u001b[0;31mKeyboardInterrupt\u001b[0m                         Traceback (most recent call last)",
      "\u001b[0;32m<ipython-input-6-93a7c1a955b9>\u001b[0m in \u001b[0;36m<module>\u001b[0;34m\u001b[0m\n\u001b[1;32m      8\u001b[0m             \u001b[0;32mcontinue\u001b[0m\u001b[0;34m\u001b[0m\u001b[0;34m\u001b[0m\u001b[0m\n\u001b[1;32m      9\u001b[0m         else:'''\n\u001b[0;32m---> 10\u001b[0;31m         \u001b[0;32mif\u001b[0m \u001b[0mcode\u001b[0m \u001b[0;32mnot\u001b[0m \u001b[0;32min\u001b[0m \u001b[0mopcodes\u001b[0m\u001b[0;34m:\u001b[0m\u001b[0;34m\u001b[0m\u001b[0;34m\u001b[0m\u001b[0m\n\u001b[0m\u001b[1;32m     11\u001b[0m             \u001b[0mopcodes\u001b[0m\u001b[0;34m.\u001b[0m\u001b[0mappend\u001b[0m\u001b[0;34m(\u001b[0m\u001b[0mcode\u001b[0m\u001b[0;34m)\u001b[0m\u001b[0;34m\u001b[0m\u001b[0;34m\u001b[0m\u001b[0m\n",
      "\u001b[0;31mKeyboardInterrupt\u001b[0m: "
     ]
    }
   ],
   "source": [
    "opcodes = []\n",
    "\n",
    "contracts = opc['opcode'].tolist()\n",
    "for contract in contracts:\n",
    "    codes = contract.split(' ')\n",
    "    for code in codes:\n",
    "        '''if code == '<VAL>':\n",
    "            continue\n",
    "        else:'''\n",
    "        if code not in opcodes:\n",
    "            opcodes.append(code)"
   ]
  },
  {
   "cell_type": "code",
   "execution_count": 7,
   "metadata": {},
   "outputs": [
    {
     "data": {
      "text/plain": [
       "146"
      ]
     },
     "execution_count": 7,
     "metadata": {},
     "output_type": "execute_result"
    }
   ],
   "source": [
    "len(opcodes)"
   ]
  },
  {
   "cell_type": "code",
   "execution_count": 8,
   "metadata": {},
   "outputs": [
    {
     "data": {
      "text/plain": [
       "['ADD',\n",
       " 'ADDMOD',\n",
       " 'ADDRESS',\n",
       " 'AND',\n",
       " 'ASSERT_FAIL',\n",
       " 'BALANCE',\n",
       " 'BEGINSUB',\n",
       " 'BLOCKHASH',\n",
       " 'BYTE',\n",
       " 'CALL',\n",
       " 'CALLCODE',\n",
       " 'CALLDATACOPY',\n",
       " 'CALLDATALOAD',\n",
       " 'CALLDATASIZE',\n",
       " 'CALLER',\n",
       " 'CALLVALUE',\n",
       " 'CHAINID',\n",
       " 'CODECOPY',\n",
       " 'CODESIZE',\n",
       " 'COINBASE',\n",
       " 'CREATE',\n",
       " 'CREATE2',\n",
       " 'DELEGATECALL',\n",
       " 'DIFFICULTY',\n",
       " 'DIV',\n",
       " 'DUP1',\n",
       " 'DUP10',\n",
       " 'DUP11',\n",
       " 'DUP12',\n",
       " 'DUP13',\n",
       " 'DUP14',\n",
       " 'DUP15',\n",
       " 'DUP16',\n",
       " 'DUP2',\n",
       " 'DUP3',\n",
       " 'DUP4',\n",
       " 'DUP5',\n",
       " 'DUP6',\n",
       " 'DUP7',\n",
       " 'DUP8',\n",
       " 'DUP9',\n",
       " 'EQ',\n",
       " 'EXP',\n",
       " 'EXTCODECOPY',\n",
       " 'EXTCODEHASH',\n",
       " 'EXTCODESIZE',\n",
       " 'GAS',\n",
       " 'GASLIMIT',\n",
       " 'GASPRICE',\n",
       " 'GT',\n",
       " 'INVALID',\n",
       " 'ISZERO',\n",
       " 'JUMP',\n",
       " 'JUMPDEST',\n",
       " 'JUMPI',\n",
       " 'JUMPSUB',\n",
       " 'LOG0',\n",
       " 'LOG1',\n",
       " 'LOG2',\n",
       " 'LOG3',\n",
       " 'LOG4',\n",
       " 'LT',\n",
       " 'MLOAD',\n",
       " 'MOD',\n",
       " 'MSIZE',\n",
       " 'MSTORE',\n",
       " 'MSTORE8',\n",
       " 'MUL',\n",
       " 'MULMOD',\n",
       " 'NOT',\n",
       " 'NUMBER',\n",
       " 'OR',\n",
       " 'ORIGIN',\n",
       " 'PC',\n",
       " 'POP',\n",
       " 'PUSH1',\n",
       " 'PUSH10',\n",
       " 'PUSH11',\n",
       " 'PUSH12',\n",
       " 'PUSH13',\n",
       " 'PUSH14',\n",
       " 'PUSH15',\n",
       " 'PUSH16',\n",
       " 'PUSH17',\n",
       " 'PUSH18',\n",
       " 'PUSH19',\n",
       " 'PUSH2',\n",
       " 'PUSH20',\n",
       " 'PUSH21',\n",
       " 'PUSH22',\n",
       " 'PUSH23',\n",
       " 'PUSH24',\n",
       " 'PUSH25',\n",
       " 'PUSH26',\n",
       " 'PUSH27',\n",
       " 'PUSH28',\n",
       " 'PUSH29',\n",
       " 'PUSH3',\n",
       " 'PUSH30',\n",
       " 'PUSH31',\n",
       " 'PUSH32',\n",
       " 'PUSH4',\n",
       " 'PUSH5',\n",
       " 'PUSH6',\n",
       " 'PUSH7',\n",
       " 'PUSH8',\n",
       " 'PUSH9',\n",
       " 'RETURN',\n",
       " 'RETURNDATACOPY',\n",
       " 'RETURNDATASIZE',\n",
       " 'RETURNSUB',\n",
       " 'REVERT',\n",
       " 'SAR',\n",
       " 'SDIV',\n",
       " 'SELFBALANCE',\n",
       " 'SGT',\n",
       " 'SHA3',\n",
       " 'SHL',\n",
       " 'SHR',\n",
       " 'SIGNEXTEND',\n",
       " 'SLOAD',\n",
       " 'SLT',\n",
       " 'SMOD',\n",
       " 'SSTORE',\n",
       " 'STATICCALL',\n",
       " 'STOP',\n",
       " 'SUB',\n",
       " 'SUICIDE',\n",
       " 'SWAP1',\n",
       " 'SWAP10',\n",
       " 'SWAP11',\n",
       " 'SWAP12',\n",
       " 'SWAP13',\n",
       " 'SWAP14',\n",
       " 'SWAP15',\n",
       " 'SWAP16',\n",
       " 'SWAP2',\n",
       " 'SWAP3',\n",
       " 'SWAP4',\n",
       " 'SWAP5',\n",
       " 'SWAP6',\n",
       " 'SWAP7',\n",
       " 'SWAP8',\n",
       " 'SWAP9',\n",
       " 'TIMESTAMP',\n",
       " 'XOR']"
      ]
     },
     "execution_count": 8,
     "metadata": {},
     "output_type": "execute_result"
    }
   ],
   "source": [
    "opcodes.sort()\n",
    "opcodes"
   ]
  },
  {
   "cell_type": "markdown",
   "metadata": {},
   "source": [
    "### 3. Export Simplified OPCODE CSV"
   ]
  },
  {
   "cell_type": "code",
   "execution_count": 10,
   "metadata": {},
   "outputs": [],
   "source": [
    "out = opc.iloc[:20000]\n",
    "out.to_csv('CDS_opcode_sv1.csv', index=False)"
   ]
  },
  {
   "cell_type": "markdown",
   "metadata": {},
   "source": [
    "### 4. Plot OPCODE Length Distribution"
   ]
  },
  {
   "cell_type": "code",
   "execution_count": null,
   "metadata": {},
   "outputs": [
    {
     "ename": "",
     "evalue": "",
     "output_type": "error",
     "traceback": [
      "\u001b[1;31mRunning cells with 'Python 3.7.3 64-bit' requires ipykernel package.\n",
      "\u001b[1;31mRun the following command to install 'ipykernel' into the Python environment. \n",
      "\u001b[1;31mCommand: '/usr/local/bin/python3.7 -m pip install ipykernel -U --user --force-reinstall'"
     ]
    }
   ],
   "source": [
    "len(opc['opcode'][256].split(' '))"
   ]
  },
  {
   "cell_type": "code",
   "execution_count": null,
   "metadata": {},
   "outputs": [
    {
     "ename": "",
     "evalue": "",
     "output_type": "error",
     "traceback": [
      "\u001b[1;31mRunning cells with 'Python 3.7.3 64-bit' requires ipykernel package.\n",
      "\u001b[1;31mRun the following command to install 'ipykernel' into the Python environment. \n",
      "\u001b[1;31mCommand: '/usr/local/bin/python3.7 -m pip install ipykernel -U --user --force-reinstall'"
     ]
    }
   ],
   "source": [
    "opcld = {}\n",
    "for contract in opc['opcode'].tolist():\n",
    "    key = len(contract.split(' '))\n",
    "    if key in opcld:\n",
    "        opcld[key] += 1\n",
    "    else:\n",
    "        opcld[key] = 1"
   ]
  },
  {
   "cell_type": "code",
   "execution_count": null,
   "metadata": {},
   "outputs": [
    {
     "ename": "",
     "evalue": "",
     "output_type": "error",
     "traceback": [
      "\u001b[1;31mRunning cells with 'Python 3.7.3 64-bit' requires ipykernel package.\n",
      "\u001b[1;31mRun the following command to install 'ipykernel' into the Python environment. \n",
      "\u001b[1;31mCommand: '/usr/local/bin/python3.7 -m pip install ipykernel -U --user --force-reinstall'"
     ]
    }
   ],
   "source": [
    "import matplotlib.pyplot as plt\n",
    "\n",
    "plt.plot(opcld.keys(), opcld.values())"
   ]
  },
  {
   "cell_type": "markdown",
   "metadata": {},
   "source": [
    "### 5. Mean, Median & Mode of the OPCODE Length Distribution"
   ]
  },
  {
   "cell_type": "code",
   "execution_count": null,
   "metadata": {},
   "outputs": [
    {
     "ename": "",
     "evalue": "",
     "output_type": "error",
     "traceback": [
      "\u001b[1;31mRunning cells with 'Python 3.7.3 64-bit' requires ipykernel package.\n",
      "\u001b[1;31mRun the following command to install 'ipykernel' into the Python environment. \n",
      "\u001b[1;31mCommand: '/usr/local/bin/python3.7 -m pip install ipykernel -U --user --force-reinstall'"
     ]
    }
   ],
   "source": [
    "# M3 for Total Dataset\n",
    "OPLEN = []\n",
    "for contract in opc['opcode'].tolist():\n",
    "    OPLEN.append(len(contract.split(' ')))\n",
    "\n",
    "import statistics as stats\n",
    "print(\"MODE\", stats.mode(OPLEN))\n",
    "print(\"MEDIAN\", stats.median(OPLEN))\n",
    "print(\"MEAN\", stats.mean(OPLEN))"
   ]
  },
  {
   "cell_type": "code",
   "execution_count": null,
   "metadata": {},
   "outputs": [
    {
     "ename": "",
     "evalue": "",
     "output_type": "error",
     "traceback": [
      "\u001b[1;31mRunning cells with 'Python 3.7.3 64-bit' requires ipykernel package.\n",
      "\u001b[1;31mRun the following command to install 'ipykernel' into the Python environment. \n",
      "\u001b[1;31mCommand: '/usr/local/bin/python3.7 -m pip install ipykernel -U --user --force-reinstall'"
     ]
    }
   ],
   "source": [
    "# M3 for Positive (0) Dataset\n",
    "OPLEN = []\n",
    "for contract in opc['opcode'][opc['swc_label'].astype(str).str[0] == '1'].tolist():\n",
    "    OPLEN.append(len(contract.split(' ')))\n",
    "\n",
    "import statistics as stats\n",
    "print(\"MODE\", stats.mode(OPLEN))\n",
    "print(\"MEDIAN\", stats.median(OPLEN))\n",
    "print(\"MEAN\", stats.mean(OPLEN))"
   ]
  },
  {
   "cell_type": "code",
   "execution_count": null,
   "metadata": {},
   "outputs": [
    {
     "ename": "",
     "evalue": "",
     "output_type": "error",
     "traceback": [
      "\u001b[1;31mRunning cells with 'Python 3.7.3 64-bit' requires ipykernel package.\n",
      "\u001b[1;31mRun the following command to install 'ipykernel' into the Python environment. \n",
      "\u001b[1;31mCommand: '/usr/local/bin/python3.7 -m pip install ipykernel -U --user --force-reinstall'"
     ]
    }
   ],
   "source": [
    "# M3 for Negative (0) Dataset\n",
    "OPLEN = []\n",
    "for contract in opc['opcode'][opc['swc_label'].astype(str).str[0] == '0'].tolist():\n",
    "    OPLEN.append(len(contract.split(' ')))\n",
    "\n",
    "import statistics as stats\n",
    "print(\"MODE\", stats.mode(OPLEN))\n",
    "print(\"MEDIAN\", stats.median(OPLEN))\n",
    "print(\"MEAN\", stats.mean(OPLEN))"
   ]
  },
  {
   "cell_type": "code",
   "execution_count": null,
   "metadata": {},
   "outputs": [
    {
     "ename": "",
     "evalue": "",
     "output_type": "error",
     "traceback": [
      "\u001b[1;31mRunning cells with 'Python 3.7.3 64-bit' requires ipykernel package.\n",
      "\u001b[1;31mRun the following command to install 'ipykernel' into the Python environment. \n",
      "\u001b[1;31mCommand: '/usr/local/bin/python3.7 -m pip install ipykernel -U --user --force-reinstall'"
     ]
    }
   ],
   "source": []
  }
 ],
 "metadata": {
  "kernelspec": {
   "display_name": "Python 3.6.7 ('def')",
   "language": "python",
   "name": "python3"
  },
  "language_info": {
   "codemirror_mode": {
    "name": "ipython",
    "version": 3
   },
   "file_extension": ".py",
   "mimetype": "text/x-python",
   "name": "python",
   "nbconvert_exporter": "python",
   "pygments_lexer": "ipython3",
   "version": "3.6.7"
  },
  "vscode": {
   "interpreter": {
    "hash": "5066e2d4ede322f9f091e00e8198278fd5623f386e659f8f2774cd3815ffbe4f"
   }
  }
 },
 "nbformat": 4,
 "nbformat_minor": 4
}
